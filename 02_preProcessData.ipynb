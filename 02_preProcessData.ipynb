{
 "cells": [
  {
   "cell_type": "code",
   "execution_count": 1,
   "metadata": {},
   "outputs": [],
   "source": [
    "import os\n",
    "from pyspark.sql import SparkSession\n",
    "from pyspark import SparkConf\n",
    "import matplotlib.pyplot as plt\n",
    "import seaborn as sns\n",
    "import pyspark.sql.functions as F\n",
    "from pyspark.sql.types import IntegerType\n",
    "from pyspark.sql.window import Window"
   ]
  },
  {
   "cell_type": "code",
   "execution_count": 2,
   "metadata": {},
   "outputs": [
    {
     "name": "stdout",
     "output_type": "stream",
     "text": [
      "Current Working Directory: /\n",
      "New working directory: /BigData\n"
     ]
    }
   ],
   "source": [
    "# Set root dir\n",
    "os.chdir(\"/\")\n",
    "print(\"Current Working Directory:\", os.getcwd())\n",
    "\n",
    "# !!CHANGE THIS!!\n",
    "working_dir=\"/BigData\"\n",
    "\n",
    "dataset_dir=f\"{working_dir}/dataset\"\n",
    "\n",
    "dataset_original_csv = f'{dataset_dir}/creditScores.csv'\n",
    "\n",
    "dataset_csv_path = f'{dataset_dir}/creditScores_csv'\n",
    "dataset_json_path = f'{dataset_dir}/creditScores_json'\n",
    "dataset_parquet_path = f'{dataset_dir}/creditScores_parquet'\n",
    "dataset_orc_path = f'{dataset_dir}/creditScores_orc'\n",
    "dataset_avro_path = f'{dataset_dir}/creditScores_avro'\n",
    "\n",
    "clean_dataset_path = f'{dataset_dir}/clean_creditScores_orc'\n",
    "\n",
    "os.chdir(working_dir)\n",
    "print(f\"New working directory: {working_dir}\")\n"
   ]
  },
  {
   "cell_type": "code",
   "execution_count": 3,
   "metadata": {},
   "outputs": [],
   "source": [
    "proj_conf = SparkConf()\\\n",
    "        .setAppName(\"projBigData_preProcess\")\\\n",
    "        .set(\"spark.driver.memory\", \"16g\")\\\n",
    "        .set(\"spark.jars.packages\", \"org.apache.spark:spark-avro_2.12:3.5.0\")\n",
    "\n",
    "# Create a Spark session using the configured SparkConf\n",
    "spark = SparkSession.builder.config(conf=proj_conf).getOrCreate()\n"
   ]
  },
  {
   "cell_type": "code",
   "execution_count": 4,
   "metadata": {},
   "outputs": [
    {
     "name": "stdout",
     "output_type": "stream",
     "text": [
      "+-------+-----------+--------+--------------+---+-----------+-------------+------------------+---------------------+-----------------+---------------+-------------+-----------+--------------------+-------------------+----------------------+--------------------+--------------------+----------+----------------+------------------------+--------------------+---------------------+-------------------+-----------------------+--------------------+------------------+------------+\n",
      "|     ID|Customer_ID|   Month|          Name|Age|        SSN|   Occupation|     Annual_Income|Monthly_Inhand_Salary|Num_Bank_Accounts|Num_Credit_Card|Interest_Rate|Num_of_Loan|        Type_of_Loan|Delay_from_due_date|Num_of_Delayed_Payment|Changed_Credit_Limit|Num_Credit_Inquiries|Credit_Mix|Outstanding_Debt|Credit_Utilization_Ratio|  Credit_History_Age|Payment_of_Min_Amount|Total_EMI_per_month|Amount_invested_monthly|   Payment_Behaviour|   Monthly_Balance|Credit_Score|\n",
      "+-------+-----------+--------+--------------+---+-----------+-------------+------------------+---------------------+-----------------+---------------+-------------+-----------+--------------------+-------------------+----------------------+--------------------+--------------------+----------+----------------+------------------------+--------------------+---------------------+-------------------+-----------------------+--------------------+------------------+------------+\n",
      "|0x16290| CUS_0x1000|    July|Alistair Barrf| 18|913-74-1218|       Lawyer|          30625.94|   2706.1616666666664|                6|              5|           27|          2|Credit-Builder Lo...|                 62|                    25|                2.63|                11.0|       Bad|         1562.91|      38.149538780137746|10 Years and 8 Mo...|                  Yes| 42.941090422469365|     266.59716045509043|Low_spent_Small_v...| 251.0779157891069|        Poor|\n",
      "|0x16291| CUS_0x1000|  August|Alistair Barrf| 18|913-74-1218|       Lawyer|          30625.94|   2706.1616666666664|                6|              5|           27|          2|Credit-Builder Lo...|                 57|                    26|                1.63|                11.0|       Bad|         1562.91|       30.07719135017377|10 Years and 9 Mo...|                  Yes| 42.941090422469365|      77.31427572208112|High_spent_Medium...|400.36080052211616|        Poor|\n",
      "|0x1628a| CUS_0x1000| January|Alistair Barrf| 17|913-74-1218|       Lawyer|          30625.94|   2706.1616666666664|                6|              5|           27|          2|Credit-Builder Lo...|                 62|                    25|                1.63|                10.0|       Bad|         1562.91|       26.61209308705014|10 Years and 2 Mo...|                  Yes| 42.941090422469365|     244.75028300769162|Low_spent_Large_v...| 252.9247932365056|    Standard|\n",
      "|0x1628f| CUS_0x1000|    June|Alistair Barrf| 18|913-74-1218|       Lawyer|          30625.94|   2706.1616666666664|                6|              5|           27|          2|Credit-Builder Lo...|                 62|                    23|                1.63|                11.0|       Bad|         1562.91|      40.082272108258884|10 Years and 7 Mo...|                  Yes| 42.941090422469365|     114.80240059146288|High_spent_Small_...|372.87267565273436|        Poor|\n",
      "|0x1628b| CUS_0x1000|February|          NULL| 17|913-74-1218|       Lawyer|          30625.94|                 NULL|                6|              5|           27|          2|Credit-Builder Lo...|                 62|                    23|                1.63|                11.0|       Bad|         1562.91|       29.43975901225789|10 Years and 3 Mo...|                  Yes| 42.941090422469365|     176.13256665597928|High_spent_Small_...|  311.542509588218|        Poor|\n",
      "|0x1628d| CUS_0x1000|   April|Alistair Barrf| 17|913-74-1218|       Lawyer|          30625.94|   2706.1616666666664|                6|              5|           27|          2|Credit-Builder Lo...|                 64|                    25|                1.63|                11.0|       Bad|         1562.91|       32.84308125222974|10 Years and 5 Mo...|                  Yes| 42.941090422469365|      87.90990881495769|              !@9#%8| 419.7651674292397|        Poor|\n",
      "|0x1628c| CUS_0x1000|   March|Alistair Barrf|17_|913-74-1218|       Lawyer|         30625.94_|   2706.1616666666664|                6|              5|           27|          2|Credit-Builder Lo...|                 62|                    28|                1.63|                11.0|       Bad|         1562.91|       38.28592798573864|10 Years and 4 Mo...|                  Yes| 42.941090422469365|     109.05651876486915|High_spent_Medium...|368.61855747932816|        Poor|\n",
      "|0x1628e| CUS_0x1000|     May|Alistair Barrf| 17|913-74-1218|       Lawyer|          30625.94|   2706.1616666666664|                6|              5|           27|          2|Credit-Builder Lo...|                 67|                    25|                2.63|                11.0|       Bad|         1562.91|       32.33050816679796|10 Years and 6 Mo...|                  Yes| 42.941090422469365|      191.8347674990596|Low_spent_Large_v...| 305.8403087451377|        Poor|\n",
      "| 0x66a4| CUS_0x1009|   March|        Arunah| 26|063-67-6938|     Mechanic|          52312.68|              4250.39|                6|              5|           17|         4_|Not Specified, Ho...|                  8|                    18|                9.73|                 2.0|  Standard|          202.68|       26.37198188766116|30 Years and 7 Mo...|                  Yes| 108.36646712525564|      162.7830849440951|High_spent_Medium...| 403.8894479306493|    Standard|\n",
      "| 0x66a7| CUS_0x1009|    June|        Arunah| 26|063-67-6938|      _______|          52312.68|              4250.39|                6|              5|           17|          4|Not Specified, Ho...|                  3|                    18|                9.73|                 4.0|  Standard|          202.68|      30.608989855632352|30 Years and 10 M...|                  Yes| 108.36646712525564|     150.79593432594388|              !@9#%8|445.87659854880053|    Standard|\n",
      "| 0x66a5| CUS_0x1009|   April|        Arunah| 26|063-67-6938|     Mechanic|          52312.68|              4250.39|                6|              5|           17|       1094|Not Specified, Ho...|                 10|                    18|                9.73|                 2.0|         _|         202.68_|       24.99623888468216|                  NA|                  Yes| 108.36646712525564|      171.4504427290597|High_spent_Small_...|405.22209014568483|    Standard|\n",
      "| 0x66a6| CUS_0x1009|     May|        Arunah| 26|063-67-6938|     Mechanic|          52312.68|              4250.39|                6|              5|           17|          4|Not Specified, Ho...|                  8|                    19|                9.73|                 4.0|         _|          202.68|       30.38181446769299|30 Years and 9 Mo...|                  Yes| 108.36646712525564|      70.92860618916454|High_spent_Medium...|495.74392668557994|    Standard|\n",
      "| 0x66a9| CUS_0x1009|  August|        Arunah| 26|063-67-6938|     Mechanic|         52312.68_|              4250.39|                6|              5|           17|          4|Not Specified, Ho...|                  5|                    18|                9.73|                 4.0|         _|          202.68|         40.286996673783|31 Years and 0 Mo...|                  Yes| 108.36646712525564|      58.66019164829086|High_spent_Medium...|508.01234122645366|    Standard|\n",
      "| 0x66a8| CUS_0x1009|    July|        Arunah| 26|063-67-6938|     Mechanic|          52312.68|              4250.39|                6|              5|           17|          4|Not Specified, Ho...|                  8|                    18|                9.73|                 4.0|  Standard|          202.68|      33.943117707644795|30 Years and 11 M...|                  Yes| 108.36646712525564|     155.14105344210978|High_spent_Medium...| 411.5314794326347|    Standard|\n",
      "| 0x66a3| CUS_0x1009|February|        Arunah| 25|063-67-6938|     Mechanic|          52312.68|              4250.39|                6|              5|           17|          4|Not Specified, Ho...|                  8|                    16|                9.73|                 2.0|  Standard|          202.68|      28.451198540387306|30 Years and 6 Mo...|                  Yes| 108.36646712525564|      142.4647303239083|High_spent_Medium...|424.20780255083616|    Standard|\n",
      "| 0x66a2| CUS_0x1009| January|        Arunah| 25|  #F%$D@*&8|     Mechanic|          52312.68|              4250.39|                6|              5|           17|          4|Not Specified, Ho...|                  8|                  1749|                9.73|                 2.0|  Standard|          202.68|      23.679533922643838|30 Years and 5 Mo...|                   NM| 108.36646712525564|      261.2109793689318|Low_spent_Medium_...| 335.4615535058126|    Standard|\n",
      "| 0x1ef9| CUS_0x100b|   April|      Shirboni| 18|238-62-0395|Media_Manager|113781.38999999998|            9549.7825|                1|              4|            1|          0|                NULL|                 14|                     7|                   _|                 1.0|      Good|          1030.2|      31.016086286438927|15 Years and 6 Mo...|                   No|                0.0|              __10000__|High_spent_Large_...| 969.7201635239168|    Standard|\n",
      "| 0x1ef7| CUS_0x100b|February|      Shirboni| 18|238-62-0395|Media_Manager|113781.38999999998|            9549.7825|                1|              4|            1|          0|                NULL|                 14|                     9|               11.34|              2271.0|         _|          1030.2|       35.94765528296622|                  NA|                   No|                0.0|      661.6240479398714|Low_spent_Large_v...| 563.3542020601286|        Poor|\n",
      "| 0x1ef6| CUS_0x100b| January|      Shirboni| 18|238-62-0395|Media_Manager|113781.38999999998|            9549.7825|                1|              4|            1|          0|                NULL|                 14|                     7|               11.34|                 1.0|      Good|          1030.2|       37.99875980252553|15 Years and 3 Mo...|                   No|                0.0|     397.24184577026637|Low_spent_Medium_...| 837.7364042297336|        Poor|\n",
      "| 0x1efc| CUS_0x100b|    July|      Shirboni| 19|238-62-0395|Media_Manager|113781.38999999998|            9549.7825|                1|              4|            1|         0_|                NULL|                 10|                     7|               11.34|                 4.0|      Good|          1030.2|       29.17479515251761|15 Years and 9 Mo...|                   NM|                0.0|     174.28759775147847|High_spent_Large_...|1020.6906522485216|    Standard|\n",
      "+-------+-----------+--------+--------------+---+-----------+-------------+------------------+---------------------+-----------------+---------------+-------------+-----------+--------------------+-------------------+----------------------+--------------------+--------------------+----------+----------------+------------------------+--------------------+---------------------+-------------------+-----------------------+--------------------+------------------+------------+\n",
      "only showing top 20 rows\n",
      "\n"
     ]
    }
   ],
   "source": [
    "# Read ORC files into a Spark DataFrame\n",
    "df = spark.read.orc(dataset_orc_path)\n",
    "df.orderBy(\"Customer_ID\").show()"
   ]
  },
  {
   "cell_type": "code",
   "execution_count": 5,
   "metadata": {},
   "outputs": [
    {
     "name": "stdout",
     "output_type": "stream",
     "text": [
      "root\n",
      " |-- ID: string (nullable = true)\n",
      " |-- Customer_ID: string (nullable = true)\n",
      " |-- Month: string (nullable = true)\n",
      " |-- Name: string (nullable = true)\n",
      " |-- Age: string (nullable = true)\n",
      " |-- SSN: string (nullable = true)\n",
      " |-- Occupation: string (nullable = true)\n",
      " |-- Annual_Income: string (nullable = true)\n",
      " |-- Monthly_Inhand_Salary: double (nullable = true)\n",
      " |-- Num_Bank_Accounts: integer (nullable = true)\n",
      " |-- Num_Credit_Card: integer (nullable = true)\n",
      " |-- Interest_Rate: integer (nullable = true)\n",
      " |-- Num_of_Loan: string (nullable = true)\n",
      " |-- Type_of_Loan: string (nullable = true)\n",
      " |-- Delay_from_due_date: integer (nullable = true)\n",
      " |-- Num_of_Delayed_Payment: string (nullable = true)\n",
      " |-- Changed_Credit_Limit: string (nullable = true)\n",
      " |-- Num_Credit_Inquiries: double (nullable = true)\n",
      " |-- Credit_Mix: string (nullable = true)\n",
      " |-- Outstanding_Debt: string (nullable = true)\n",
      " |-- Credit_Utilization_Ratio: double (nullable = true)\n",
      " |-- Credit_History_Age: string (nullable = true)\n",
      " |-- Payment_of_Min_Amount: string (nullable = true)\n",
      " |-- Total_EMI_per_month: double (nullable = true)\n",
      " |-- Amount_invested_monthly: string (nullable = true)\n",
      " |-- Payment_Behaviour: string (nullable = true)\n",
      " |-- Monthly_Balance: string (nullable = true)\n",
      " |-- Credit_Score: string (nullable = true)\n",
      "\n",
      "Number of rows in the DataFrame: 100000\n"
     ]
    }
   ],
   "source": [
    "count_rows = df.count()\n",
    "df.printSchema()\n",
    "# Prints column information and number of rows\n",
    "print(\"Number of rows in the DataFrame:\", count_rows)"
   ]
  },
  {
   "cell_type": "markdown",
   "metadata": {},
   "source": [
    "# Functions\n",
    "The following functions prepare the data to a minimum standard that will allow us to then analyse the data withouth having to frequently change types and fill empty/null values"
   ]
  },
  {
   "cell_type": "markdown",
   "metadata": {},
   "source": [
    "## Replace by most common\n",
    "This function allows us to populate missing data from the same Customer_ID with precision, given that some data is universal to the same Customer independently of the data entry. As such we can retain more of the original dataset without having to drop a substantial amount of rows "
   ]
  },
  {
   "cell_type": "code",
   "execution_count": 6,
   "metadata": {},
   "outputs": [],
   "source": [
    "def replace_by_most_common_value_in_group(df, column, group_col=\"Customer_ID\"):\n",
    "    # Define the window specification over the group_col\n",
    "    windowSpec = Window.partitionBy(group_col)\n",
    "    \n",
    "    # Count the occurrences of each value in the specified column within each group\n",
    "    value_counts = df.groupBy(group_col, column).count()\n",
    "    \n",
    "    # Find the most common value for each group\n",
    "    most_common_value = (value_counts\n",
    "                         .withColumn('max_count', F.max('count').over(windowSpec))\n",
    "                         .where(F.col('count') == F.col('max_count'))\n",
    "                         .drop('count', 'max_count')\n",
    "                         .dropDuplicates([group_col])\n",
    "                         .withColumnRenamed(column, f\"{column}_common\"))\n",
    "\n",
    "    # Join the most common values back to the original DataFrame\n",
    "    df = df.join(most_common_value, [group_col], 'left_outer')\n",
    "    \n",
    "    # Replace the original column values with the most common values\n",
    "    df = df.withColumn(column, \n",
    "                       F.when(df[f\"{column}_common\"].isNotNull(), df[f\"{column}_common\"])\n",
    "                       .otherwise(df[column])\n",
    "                      ).drop(f\"{column}_common\")\n",
    "    \n",
    "    return df"
   ]
  },
  {
   "cell_type": "markdown",
   "metadata": {},
   "source": [
    "## Casts negative numbers\n",
    "In order to deal with negative numbers in columns that should not have negatives, such as Age, we replace those values with NaN, so the data can be plotted.\n",
    "The NaN values are then handled on the data processing."
   ]
  },
  {
   "cell_type": "code",
   "execution_count": 7,
   "metadata": {},
   "outputs": [],
   "source": [
    "def cast_numeric_no_negatives(df, col_name):\n",
    "    # Verifying if the column exists in the DataFrame\n",
    "    if col_name in df.columns:\n",
    "        # Applying the function to the column to replace negative values with NaN\n",
    "        df = df.withColumn(col_name, \n",
    "                           F.round(F.col(col_name), 4).cast(\"float\").alias(col_name))\n",
    "        df = df.withColumn(col_name, \n",
    "                           F.when(F.col(col_name) >= 0, F.col(col_name)).otherwise(None))\n",
    "    else:\n",
    "        print(\"Column not found in DataFrame.\")\n",
    "    return df"
   ]
  },
  {
   "cell_type": "markdown",
   "metadata": {},
   "source": [
    "## Cast Numeric\n",
    "Converts column numeric type to float"
   ]
  },
  {
   "cell_type": "code",
   "execution_count": 8,
   "metadata": {},
   "outputs": [],
   "source": [
    "def cast_numeric(df, col_name):\n",
    "    # Verifying if the column exists in the DataFrame\n",
    "    if col_name in df.columns:\n",
    "        # Convert the column to a numeric type and handle non-numeric values\n",
    "        df = df.withColumn(col_name, F.when(F.col(col_name).cast(\"float\").isNull(), F.lit(None)).otherwise(F.round(F.col(col_name).cast(\"float\"), 4)))\n",
    "    else:\n",
    "        print(\"Column not found in DataFrame.\")\n",
    "    return df"
   ]
  },
  {
   "cell_type": "markdown",
   "metadata": {},
   "source": [
    "## Cast Integer\n",
    "Converts column numeric type to integer"
   ]
  },
  {
   "cell_type": "code",
   "execution_count": 9,
   "metadata": {},
   "outputs": [],
   "source": [
    "def cast_int(df, column):\n",
    "    # Convert the column to IntegerType and handle errors with null values\n",
    "    df = df.withColumn(column, F.col(column).cast(IntegerType()))\n",
    "    return df"
   ]
  },
  {
   "cell_type": "markdown",
   "metadata": {},
   "source": [
    "## Replace with empty string\n",
    "Replaces unwanted strings of characters with an empty string"
   ]
  },
  {
   "cell_type": "code",
   "execution_count": 10,
   "metadata": {},
   "outputs": [],
   "source": [
    "def replace_by_empty(df, column, value_to_replace):\n",
    "    # Replace specified values with empty string (null)\n",
    "    df = df.withColumn(column, F.when(F.col(column) == value_to_replace, '').otherwise(F.col(column)))\n",
    "    return df"
   ]
  },
  {
   "cell_type": "markdown",
   "metadata": {},
   "source": [
    "# Pre-Process\n",
    "Call functions to process specific column groups"
   ]
  },
  {
   "cell_type": "code",
   "execution_count": 11,
   "metadata": {},
   "outputs": [],
   "source": [
    "# Cast numeric columns without allowing negative values\n",
    "numeric_cols_no_negatives = [\"Age\", \"Annual_Income\", \"Monthly_Inhand_Salary\", \"Num_Bank_Accounts\",\n",
    "                             \"Num_Credit_Card\", \"Interest_Rate\", \"Num_of_Loan\", \"Delay_from_due_date\",\n",
    "                             \"Num_of_Delayed_Payment\", \"Num_Credit_Inquiries\", \"Outstanding_Debt\",\n",
    "                             \"Credit_Utilization_Ratio\", \"Total_EMI_per_month\", \"Amount_invested_monthly\",\n",
    "                             \"Monthly_Balance\"]\n",
    "for col in numeric_cols_no_negatives:\n",
    "    df = cast_numeric_no_negatives(df, col)\n",
    "\n",
    "numeric_cols = [\"Changed_Credit_Limit\"]\n",
    "for col in numeric_cols:\n",
    "    df = cast_numeric(df, col)\n",
    "\n",
    "# Cast specific columns to IntegerType\n",
    "int_values = [\"Age\", \"Num_Bank_Accounts\", \"Num_Credit_Card\", \"Num_of_Loan\", \"Delay_from_due_date\", \"Num_Credit_Inquiries\"]\n",
    "for col in int_values:\n",
    "    df = cast_int(df, col)\n",
    "\n",
    "# Replace values in specified columns by the most common value within each group of \"Customer_ID\"\n",
    "uniform_by_client = [\"Name\", \"SSN\", \"Occupation\", \"Annual_Income\"]\n",
    "for col in uniform_by_client:\n",
    "    df = replace_by_most_common_value_in_group(df, col, \"Customer_ID\")\n",
    "\n",
    "# Replace specific values in columns with predefined replacements\n",
    "df = replace_by_empty(df, \"Payment_Behaviour\", \"!@9#%8\")\n",
    "df = replace_by_empty(df, \"Occupation\", \"_______\")\n",
    "df = replace_by_empty(df, \"Credit_Mix\", \"_\")\n",
    "df = replace_by_empty(df, \"Payment_of_Min_Amount\", \"NM\")\n",
    "df = replace_by_empty(df, \"Credit_History_Age\", \"NA\")"
   ]
  },
  {
   "cell_type": "code",
   "execution_count": 12,
   "metadata": {},
   "outputs": [
    {
     "name": "stdout",
     "output_type": "stream",
     "text": [
      "+-----------+-------+--------+--------------+----+-----------+-------------+-------------+---------------------+-----------------+---------------+-------------+-----------+--------------------+-------------------+----------------------+--------------------+--------------------+----------+----------------+------------------------+--------------------+---------------------+-------------------+-----------------------+--------------------+---------------+------------+\n",
      "|Customer_ID|     ID|   Month|          Name| Age|        SSN|   Occupation|Annual_Income|Monthly_Inhand_Salary|Num_Bank_Accounts|Num_Credit_Card|Interest_Rate|Num_of_Loan|        Type_of_Loan|Delay_from_due_date|Num_of_Delayed_Payment|Changed_Credit_Limit|Num_Credit_Inquiries|Credit_Mix|Outstanding_Debt|Credit_Utilization_Ratio|  Credit_History_Age|Payment_of_Min_Amount|Total_EMI_per_month|Amount_invested_monthly|   Payment_Behaviour|Monthly_Balance|Credit_Score|\n",
      "+-----------+-------+--------+--------------+----+-----------+-------------+-------------+---------------------+-----------------+---------------+-------------+-----------+--------------------+-------------------+----------------------+--------------------+--------------------+----------+----------------+------------------------+--------------------+---------------------+-------------------+-----------------------+--------------------+---------------+------------+\n",
      "| CUS_0x1000|0x1628a| January|Alistair Barrf|  17|913-74-1218|       Lawyer|     30625.94|            2706.1616|                6|              5|         27.0|          2|Credit-Builder Lo...|                 62|                  25.0|                1.63|                  10|       Bad|         1562.91|                 26.6121|10 Years and 2 Mo...|                  Yes|            42.9411|               244.7503|Low_spent_Large_v...|       252.9248|    Standard|\n",
      "| CUS_0x1000|0x1628d|   April|Alistair Barrf|  17|913-74-1218|       Lawyer|     30625.94|            2706.1616|                6|              5|         27.0|          2|Credit-Builder Lo...|                 64|                  25.0|                1.63|                  11|       Bad|         1562.91|                 32.8431|10 Years and 5 Mo...|                  Yes|            42.9411|                87.9099|                    |       419.7652|        Poor|\n",
      "| CUS_0x1000|0x1628b|February|Alistair Barrf|  17|913-74-1218|       Lawyer|     30625.94|                 NULL|                6|              5|         27.0|          2|Credit-Builder Lo...|                 62|                  23.0|                1.63|                  11|       Bad|         1562.91|                 29.4398|10 Years and 3 Mo...|                  Yes|            42.9411|               176.1326|High_spent_Small_...|       311.5425|        Poor|\n",
      "| CUS_0x1000|0x1628e|     May|Alistair Barrf|  17|913-74-1218|       Lawyer|     30625.94|            2706.1616|                6|              5|         27.0|          2|Credit-Builder Lo...|                 67|                  25.0|                2.63|                  11|       Bad|         1562.91|                 32.3305|10 Years and 6 Mo...|                  Yes|            42.9411|               191.8348|Low_spent_Large_v...|       305.8403|        Poor|\n",
      "| CUS_0x1000|0x1628f|    June|Alistair Barrf|  18|913-74-1218|       Lawyer|     30625.94|            2706.1616|                6|              5|         27.0|          2|Credit-Builder Lo...|                 62|                  23.0|                1.63|                  11|       Bad|         1562.91|                 40.0823|10 Years and 7 Mo...|                  Yes|            42.9411|               114.8024|High_spent_Small_...|       372.8727|        Poor|\n",
      "| CUS_0x1000|0x16290|    July|Alistair Barrf|  18|913-74-1218|       Lawyer|     30625.94|            2706.1616|                6|              5|         27.0|          2|Credit-Builder Lo...|                 62|                  25.0|                2.63|                  11|       Bad|         1562.91|                 38.1495|10 Years and 8 Mo...|                  Yes|            42.9411|               266.5972|Low_spent_Small_v...|       251.0779|        Poor|\n",
      "| CUS_0x1000|0x1628c|   March|Alistair Barrf|NULL|913-74-1218|       Lawyer|     30625.94|            2706.1616|                6|              5|         27.0|          2|Credit-Builder Lo...|                 62|                  28.0|                1.63|                  11|       Bad|         1562.91|                 38.2859|10 Years and 4 Mo...|                  Yes|            42.9411|               109.0565|High_spent_Medium...|       368.6186|        Poor|\n",
      "| CUS_0x1000|0x16291|  August|Alistair Barrf|  18|913-74-1218|       Lawyer|     30625.94|            2706.1616|                6|              5|         27.0|          2|Credit-Builder Lo...|                 57|                  26.0|                1.63|                  11|       Bad|         1562.91|                 30.0772|10 Years and 9 Mo...|                  Yes|            42.9411|                77.3143|High_spent_Medium...|       400.3608|        Poor|\n",
      "| CUS_0x1009| 0x66a5|   April|        Arunah|  26|063-67-6938|     Mechanic|     52312.68|              4250.39|                6|              5|         17.0|       1094|Not Specified, Ho...|                 10|                  18.0|                9.73|                   2|          |            NULL|                 24.9962|                    |                  Yes|           108.3665|               171.4504|High_spent_Small_...|       405.2221|    Standard|\n",
      "| CUS_0x1009| 0x66a3|February|        Arunah|  25|063-67-6938|     Mechanic|     52312.68|              4250.39|                6|              5|         17.0|          4|Not Specified, Ho...|                  8|                  16.0|                9.73|                   2|  Standard|          202.68|                 28.4512|30 Years and 6 Mo...|                  Yes|           108.3665|               142.4647|High_spent_Medium...|       424.2078|    Standard|\n",
      "| CUS_0x1009| 0x66a8|    July|        Arunah|  26|063-67-6938|     Mechanic|     52312.68|              4250.39|                6|              5|         17.0|          4|Not Specified, Ho...|                  8|                  18.0|                9.73|                   4|  Standard|          202.68|                 33.9431|30 Years and 11 M...|                  Yes|           108.3665|               155.1411|High_spent_Medium...|       411.5315|    Standard|\n",
      "| CUS_0x1009| 0x66a7|    June|        Arunah|  26|063-67-6938|     Mechanic|     52312.68|              4250.39|                6|              5|         17.0|          4|Not Specified, Ho...|                  3|                  18.0|                9.73|                   4|  Standard|          202.68|                  30.609|30 Years and 10 M...|                  Yes|           108.3665|               150.7959|                    |       445.8766|    Standard|\n",
      "| CUS_0x1009| 0x66a2| January|        Arunah|  25|063-67-6938|     Mechanic|     52312.68|              4250.39|                6|              5|         17.0|          4|Not Specified, Ho...|                  8|                1749.0|                9.73|                   2|  Standard|          202.68|                 23.6795|30 Years and 5 Mo...|                     |           108.3665|                261.211|Low_spent_Medium_...|       335.4616|    Standard|\n",
      "| CUS_0x1009| 0x66a6|     May|        Arunah|  26|063-67-6938|     Mechanic|     52312.68|              4250.39|                6|              5|         17.0|          4|Not Specified, Ho...|                  8|                  19.0|                9.73|                   4|          |          202.68|                 30.3818|30 Years and 9 Mo...|                  Yes|           108.3665|                70.9286|High_spent_Medium...|       495.7439|    Standard|\n",
      "| CUS_0x1009| 0x66a9|  August|        Arunah|  26|063-67-6938|     Mechanic|     52312.68|              4250.39|                6|              5|         17.0|          4|Not Specified, Ho...|                  5|                  18.0|                9.73|                   4|          |          202.68|                  40.287|31 Years and 0 Mo...|                  Yes|           108.3665|                58.6602|High_spent_Medium...|       508.0123|    Standard|\n",
      "| CUS_0x1009| 0x66a4|   March|        Arunah|  26|063-67-6938|     Mechanic|     52312.68|              4250.39|                6|              5|         17.0|       NULL|Not Specified, Ho...|                  8|                  18.0|                9.73|                   2|  Standard|          202.68|                  26.372|30 Years and 7 Mo...|                  Yes|           108.3665|               162.7831|High_spent_Medium...|       403.8894|    Standard|\n",
      "| CUS_0x100b| 0x1ef8|   March|      Shirboni|  18|238-62-0395|Media_Manager|    113781.39|                 NULL|                1|              4|          1.0|          0|                NULL|                 19|                   7.0|               11.34|                   1|      Good|          1030.2|                 43.8296|15 Years and 5 Mo...|                   No|                0.0|                   NULL|High_spent_Large_...|       962.5677|        Poor|\n",
      "| CUS_0x100b| 0x1ef6| January|      Shirboni|  18|238-62-0395|Media_Manager|    113781.39|             9549.782|                1|              4|          1.0|          0|                NULL|                 14|                   7.0|               11.34|                   1|      Good|          1030.2|                 37.9988|15 Years and 3 Mo...|                   No|                0.0|               397.2418|Low_spent_Medium_...|       837.7364|        Poor|\n",
      "| CUS_0x100b| 0x1efa|     May|      Shirboni|  19|238-62-0395|Media_Manager|    113781.39|             9549.782|                1|              4|          1.0|          0|                NULL|                  9|                   7.0|               11.34|                   1|      Good|          1030.2|                 32.0357|15 Years and 7 Mo...|                   No|                0.0|               758.0832|Low_spent_Small_v...|       486.8951|        Poor|\n",
      "| CUS_0x100b| 0x1ef7|February|      Shirboni|  18|238-62-0395|Media_Manager|    113781.39|             9549.782|                1|              4|          1.0|          0|                NULL|                 14|                   9.0|               11.34|                2271|          |          1030.2|                 35.9477|                    |                   No|                0.0|                661.624|Low_spent_Large_v...|       563.3542|        Poor|\n",
      "+-----------+-------+--------+--------------+----+-----------+-------------+-------------+---------------------+-----------------+---------------+-------------+-----------+--------------------+-------------------+----------------------+--------------------+--------------------+----------+----------------+------------------------+--------------------+---------------------+-------------------+-----------------------+--------------------+---------------+------------+\n",
      "only showing top 20 rows\n",
      "\n"
     ]
    }
   ],
   "source": [
    "df.orderBy(\"Customer_ID\").show()"
   ]
  },
  {
   "cell_type": "code",
   "execution_count": 13,
   "metadata": {},
   "outputs": [
    {
     "name": "stdout",
     "output_type": "stream",
     "text": [
      "+-----------+------+--------+----------------+----+-----------+-------------+-------------+---------------------+-----------------+---------------+-------------+-----------+--------------------+-------------------+----------------------+--------------------+--------------------+----------+----------------+------------------------+--------------------+---------------------+-------------------+-----------------------+--------------------+---------------+------------+\n",
      "|Customer_ID|    ID|   Month|            Name| Age|        SSN|   Occupation|Annual_Income|Monthly_Inhand_Salary|Num_Bank_Accounts|Num_Credit_Card|Interest_Rate|Num_of_Loan|        Type_of_Loan|Delay_from_due_date|Num_of_Delayed_Payment|Changed_Credit_Limit|Num_Credit_Inquiries|Credit_Mix|Outstanding_Debt|Credit_Utilization_Ratio|  Credit_History_Age|Payment_of_Min_Amount|Total_EMI_per_month|Amount_invested_monthly|   Payment_Behaviour|Monthly_Balance|Credit_Score|\n",
      "+-----------+------+--------+----------------+----+-----------+-------------+-------------+---------------------+-----------------+---------------+-------------+-----------+--------------------+-------------------+----------------------+--------------------+--------------------+----------+----------------+------------------------+--------------------+---------------------+-------------------+-----------------------+--------------------+---------------+------------+\n",
      "| CUS_0xb92b|0x60ae| January|        LaCapraq|5152|501-27-2873|       Doctor|    10357.485|            1163.1238|                9|              7|         27.0|          7|Credit-Builder Lo...|                 32|                  16.0|                4.52|                   6|       Bad|         2415.22|                 32.4212|16 Years and 5 Mo...|                  Yes|            57.0285|               146.3903|Low_spent_Small_v...|       202.8935|        Poor|\n",
      "| CUS_0xa301|0x4447|February|     \"\"\"Martiny\"|  39|989-57-9015|       Writer|     65934.22|             5454.518|                5|              7|          7.0|          0|                NULL|                 15|                  15.0|               12.25|                   4|  Standard|          1123.0|                 25.2272|21 Years and 4 Mo...|                     |                0.0|                 119.02|High_spent_Small_...|       686.4319|    Standard|\n",
      "| CUS_0xa0a2|0x389f|    June|         Andreas|5376|044-85-4173|       Doctor|     165002.4|              13725.2|                4|              3|          9.0|          1|       Mortgage Loan|                 12|                   6.0|                6.43|                   3|      Good|          108.82|                 43.6226|                    |                   No|           123.5813|               204.2636|High_spent_Large_...|       1284.675|        Good|\n",
      "| CUS_0x429a|0x63e4|    July|             Axk|  29|719-71-0189|     Mechanic|     68667.56|             5929.297|                7|              6|         21.0|        684|Home Equity Loan,...|                 26|                   9.0|               15.03|                   7|  Standard|         1384.94|                 38.4469|9 Years and 7 Months|                     |           146.8275|                 66.689|High_spent_Large_...|       619.4132|    Standard|\n",
      "| CUS_0xb95f|0x1740|    July|         Ashleyk|  30|467-13-1148|       Writer|     34290.12|              2697.51|                9|              8|         25.0|          7|Home Equity Loan,...|                 52|                  12.0|               13.96|                  13|  Standard|         2686.81|                 35.1189|14 Years and 2 Mo...|                  Yes|            185.112|               224.0932|                    |       150.5458|    Standard|\n",
      "| CUS_0xbbfc|0x4c4e|     May|    Jason Langei|  41|856-48-3446|     Musician|     33978.57|            2685.5476|                5|              5|          6.0|          3|Mortgage Loan, Pe...|                 30|                   9.0|               15.98|                   2|  Standard|         1082.25|                 32.7516|16 Years and 0 Mo...|                  Yes|            60.0686|               108.2018|Low_spent_Small_v...|       390.2843|    Standard|\n",
      "| CUS_0x27fb|0x2f64|    July|           Chanv|  40|410-50-2849|      Manager|     78477.18|             6412.765|                4|              5|         16.0|          2|Auto Loan, and Cr...|                  2|                  NULL|                7.35|                   1|  Standard|         1197.91|                 38.1051|24 Years and 8 Mo...|                  Yes|           123.3176|               233.0177|High_spent_Medium...|       534.9412|    Standard|\n",
      "| CUS_0x7799|0x2a60|    July|       Liana B.q|  29|401-76-8437|      Manager|     15762.72|              1593.56|                3|              3|         20.0|          4|Debt Consolidatio...|                 11|                   8.0|               10.76|                   4|          |         1050.18|                 37.4586|21 Years and 4 Mo...|                     |            40.9828|                22.7134|High_spent_Large_...|       335.6598|    Standard|\n",
      "| CUS_0x308b|0x1940|   March|     Longstrethy|  42|547-23-7195|       Doctor|     45207.54|                 NULL|                8|              8|         24.0|          6|Mortgage Loan, Au...|                 26|                  21.0|                4.78|                   9|       Bad|         2497.48|                 24.3018|16 Years and 6 Mo...|                  Yes|           148.9133|                   NULL|High_spent_Medium...|       407.1342|        Poor|\n",
      "| CUS_0xa560|0x277e| January|Mark Felsenthalr|  19|316-70-8777|      Teacher|    133410.66|            11387.555|                1|              3|          4.0|       NULL|                NULL|                  4|                   5.0|                1.05|                   3|      Good|          933.84|                 33.2461|27 Years and 4 Mo...|                   No|                0.0|                   NULL|High_spent_Small_...|       738.3452|        Good|\n",
      "| CUS_0xb2f7|0x5b7a| January|            Jedx|NULL|391-36-7954|       Writer|    102212.37|             8470.697|                7|              5|         16.0|          5|Personal Loan, Cr...|                 21|                  15.0|                7.97|                   7|  Standard|           657.3|                 28.7903|18 Years and 2 Mo...|                  Yes|           257.5916|               717.2019|Low_spent_Small_v...|       162.2763|    Standard|\n",
      "| CUS_0xc081|0x2858|   March|        Richardd|  14|736-71-7699|       Writer|     85423.16|                 NULL|                6|              3|         14.0|       NULL|Personal Loan, an...|                 33|                  17.0|               16.94|                   6|  Standard|          902.37|                 31.1726|13 Years and 5 Mo...|                  Yes|           120.1416|               326.8836|High_spent_Small_...|       513.0344|    Standard|\n",
      "| CUS_0x6672|0x4ebf|    June|         Elinorp|  48|096-10-4575|       Lawyer|     17577.76|            1762.8134|                3|              5|         19.0|          2|Debt Consolidatio...|                 25|                  12.0|                9.58|                   0|  Standard|         1447.93|                 25.4384|32 Years and 2 Mo...|                  Yes|            29.2955|               167.7661|Low_spent_Small_v...|       269.2198|    Standard|\n",
      "| CUS_0xac20|0x40b7|February| Lawrence Whiteo|  21|463-27-5535|       Writer|     49178.48|            3972.2068|                8|              4|          9.0|          4|Payday Loan, Stud...|                 15|                  19.0|               17.98|                   1|  Standard|         1484.58|                 32.3683|                    |                  Yes|            32247.0|                   NULL|High_spent_Small_...|       468.7659|    Standard|\n",
      "| CUS_0xacd4|0x3a86| January|       Ransdellf|NULL|988-25-1226|      Manager|     20651.43|            1610.9525|               10|              5|         22.0|          4|Payday Loan, Payd...|                 23|                  20.0|                7.98|                  12|       Bad|         2037.64|                  35.082|12 Years and 10 M...|                  Yes|            46.7741|               202.1735|Low_spent_Small_v...|       202.1476|        Poor|\n",
      "| CUS_0x4028|0x1dd8|   March|   Papachristouy|  36|407-45-5883|      Manager|     68935.26|             5518.605|                1|              5|          8.0|          3|Credit-Builder Lo...|                 14|                   9.0|                3.25|                   4|      Good|          457.81|                 37.4521|25 Years and 6 Mo...|                   No|           102.7963|               739.7897|                    |           NULL|        Good|\n",
      "| CUS_0xb5aa|0x4e18|    July| Poornima Guptaz|  16|419-67-9786|Media_Manager|     49417.52|            4175.1265|                4|              5|          9.0|          6|Student Loan, Stu...|                 30|                  17.0|                8.69|                   9|  Standard|         1182.62|                 24.1826|15 Years and 4 Mo...|                  Yes|           162.1273|               148.8346|Low_spent_Medium_...|       386.5507|    Standard|\n",
      "| CUS_0x49da|0x1fe1|  August|           Lashh|  27|915-13-4225|      Teacher|     96582.24|              7886.52|                3|              3|         13.0|          1|           Auto Loan|                 10|                  18.0|               19.79|                   0|          |          482.88|                 36.1539|26 Years and 2 Mo...|                  Yes|            72.4602|               115.2932|High_spent_Large_...|       840.8986|    Standard|\n",
      "| CUS_0x5b02|0x3438|    July|          Aaronl|  49|972-58-1211|    Architect|     28446.58|            2597.5483|                3|              5|          5.0|          4|Debt Consolidatio...|                  2|                   8.0|                7.12|                   4|      Good|           640.4|                 26.3785|27 Years and 2 Mo...|                   No|             66.064|                31.5509|High_spent_Large_...|         402.14|        Good|\n",
      "| CUS_0x3435|0x3a1b|February|        Piersonb|  17|845-16-5003|       Lawyer|     29840.22|             2636.685|                8|              9|         29.0|          7|Payday Loan, Payd...|                 18|                  25.0|               33.19|                  10|          |         2716.57|                 29.9011|2 Years and 2 Months|                  Yes|            114.668|                85.3277|High_spent_Medium...|       313.6728|        Poor|\n",
      "+-----------+------+--------+----------------+----+-----------+-------------+-------------+---------------------+-----------------+---------------+-------------+-----------+--------------------+-------------------+----------------------+--------------------+--------------------+----------+----------------+------------------------+--------------------+---------------------+-------------------+-----------------------+--------------------+---------------+------------+\n",
      "only showing top 20 rows\n",
      "\n",
      "root\n",
      " |-- Customer_ID: string (nullable = true)\n",
      " |-- ID: string (nullable = true)\n",
      " |-- Month: string (nullable = true)\n",
      " |-- Name: string (nullable = true)\n",
      " |-- Age: integer (nullable = true)\n",
      " |-- SSN: string (nullable = true)\n",
      " |-- Occupation: string (nullable = true)\n",
      " |-- Annual_Income: float (nullable = true)\n",
      " |-- Monthly_Inhand_Salary: float (nullable = true)\n",
      " |-- Num_Bank_Accounts: integer (nullable = true)\n",
      " |-- Num_Credit_Card: integer (nullable = true)\n",
      " |-- Interest_Rate: float (nullable = true)\n",
      " |-- Num_of_Loan: integer (nullable = true)\n",
      " |-- Type_of_Loan: string (nullable = true)\n",
      " |-- Delay_from_due_date: integer (nullable = true)\n",
      " |-- Num_of_Delayed_Payment: float (nullable = true)\n",
      " |-- Changed_Credit_Limit: float (nullable = true)\n",
      " |-- Num_Credit_Inquiries: integer (nullable = true)\n",
      " |-- Credit_Mix: string (nullable = true)\n",
      " |-- Outstanding_Debt: float (nullable = true)\n",
      " |-- Credit_Utilization_Ratio: float (nullable = true)\n",
      " |-- Credit_History_Age: string (nullable = true)\n",
      " |-- Payment_of_Min_Amount: string (nullable = true)\n",
      " |-- Total_EMI_per_month: float (nullable = true)\n",
      " |-- Amount_invested_monthly: float (nullable = true)\n",
      " |-- Payment_Behaviour: string (nullable = true)\n",
      " |-- Monthly_Balance: float (nullable = true)\n",
      " |-- Credit_Score: string (nullable = true)\n",
      "\n",
      "Number of rows in the DataFrame: 100000\n"
     ]
    }
   ],
   "source": [
    "df.show()\n",
    "count_rows = df.count()\n",
    "df.printSchema()\n",
    "print(\"Number of rows in the DataFrame:\", count_rows)"
   ]
  },
  {
   "cell_type": "code",
   "execution_count": 14,
   "metadata": {},
   "outputs": [
    {
     "name": "stdout",
     "output_type": "stream",
     "text": [
      "+-----------+------+--------+----------------+----+-----------+-------------+-------------+---------------------+-----------------+---------------+-------------+-----------+--------------------+-------------------+----------------------+--------------------+--------------------+----------+----------------+------------------------+--------------------+---------------------+-------------------+-----------------------+--------------------+---------------+------------+-------------------------+\n",
      "|Customer_ID|    ID|   Month|            Name| Age|        SSN|   Occupation|Annual_Income|Monthly_Inhand_Salary|Num_Bank_Accounts|Num_Credit_Card|Interest_Rate|Num_of_Loan|        Type_of_Loan|Delay_from_due_date|Num_of_Delayed_Payment|Changed_Credit_Limit|Num_Credit_Inquiries|Credit_Mix|Outstanding_Debt|Credit_Utilization_Ratio|  Credit_History_Age|Payment_of_Min_Amount|Total_EMI_per_month|Amount_invested_monthly|   Payment_Behaviour|Monthly_Balance|Credit_Score|Credit_History_Age_Months|\n",
      "+-----------+------+--------+----------------+----+-----------+-------------+-------------+---------------------+-----------------+---------------+-------------+-----------+--------------------+-------------------+----------------------+--------------------+--------------------+----------+----------------+------------------------+--------------------+---------------------+-------------------+-----------------------+--------------------+---------------+------------+-------------------------+\n",
      "| CUS_0xb92b|0x60ae| January|        LaCapraq|5152|501-27-2873|       Doctor|    10357.485|            1163.1238|                9|              7|         27.0|          7|Credit-Builder Lo...|                 32|                  16.0|                4.52|                   6|       Bad|         2415.22|                 32.4212|16 Years and 5 Mo...|                  Yes|            57.0285|               146.3903|Low_spent_Small_v...|       202.8935|        Poor|                      197|\n",
      "| CUS_0xa301|0x4447|February|     \"\"\"Martiny\"|  39|989-57-9015|       Writer|     65934.22|             5454.518|                5|              7|          7.0|          0|                NULL|                 15|                  15.0|               12.25|                   4|  Standard|          1123.0|                 25.2272|21 Years and 4 Mo...|                     |                0.0|                 119.02|High_spent_Small_...|       686.4319|    Standard|                      256|\n",
      "| CUS_0xa0a2|0x389f|    June|         Andreas|5376|044-85-4173|       Doctor|     165002.4|              13725.2|                4|              3|          9.0|          1|       Mortgage Loan|                 12|                   6.0|                6.43|                   3|      Good|          108.82|                 43.6226|                    |                   No|           123.5813|               204.2636|High_spent_Large_...|       1284.675|        Good|                     NULL|\n",
      "| CUS_0x429a|0x63e4|    July|             Axk|  29|719-71-0189|     Mechanic|     68667.56|             5929.297|                7|              6|         21.0|        684|Home Equity Loan,...|                 26|                   9.0|               15.03|                   7|  Standard|         1384.94|                 38.4469|9 Years and 7 Months|                     |           146.8275|                 66.689|High_spent_Large_...|       619.4132|    Standard|                      115|\n",
      "| CUS_0xb95f|0x1740|    July|         Ashleyk|  30|467-13-1148|       Writer|     34290.12|              2697.51|                9|              8|         25.0|          7|Home Equity Loan,...|                 52|                  12.0|               13.96|                  13|  Standard|         2686.81|                 35.1189|14 Years and 2 Mo...|                  Yes|            185.112|               224.0932|                    |       150.5458|    Standard|                      170|\n",
      "| CUS_0xbbfc|0x4c4e|     May|    Jason Langei|  41|856-48-3446|     Musician|     33978.57|            2685.5476|                5|              5|          6.0|          3|Mortgage Loan, Pe...|                 30|                   9.0|               15.98|                   2|  Standard|         1082.25|                 32.7516|16 Years and 0 Mo...|                  Yes|            60.0686|               108.2018|Low_spent_Small_v...|       390.2843|    Standard|                      192|\n",
      "| CUS_0x27fb|0x2f64|    July|           Chanv|  40|410-50-2849|      Manager|     78477.18|             6412.765|                4|              5|         16.0|          2|Auto Loan, and Cr...|                  2|                  NULL|                7.35|                   1|  Standard|         1197.91|                 38.1051|24 Years and 8 Mo...|                  Yes|           123.3176|               233.0177|High_spent_Medium...|       534.9412|    Standard|                      296|\n",
      "| CUS_0x7799|0x2a60|    July|       Liana B.q|  29|401-76-8437|      Manager|     15762.72|              1593.56|                3|              3|         20.0|          4|Debt Consolidatio...|                 11|                   8.0|               10.76|                   4|          |         1050.18|                 37.4586|21 Years and 4 Mo...|                     |            40.9828|                22.7134|High_spent_Large_...|       335.6598|    Standard|                      256|\n",
      "| CUS_0x308b|0x1940|   March|     Longstrethy|  42|547-23-7195|       Doctor|     45207.54|                 NULL|                8|              8|         24.0|          6|Mortgage Loan, Au...|                 26|                  21.0|                4.78|                   9|       Bad|         2497.48|                 24.3018|16 Years and 6 Mo...|                  Yes|           148.9133|                   NULL|High_spent_Medium...|       407.1342|        Poor|                      198|\n",
      "| CUS_0xa560|0x277e| January|Mark Felsenthalr|  19|316-70-8777|      Teacher|    133410.66|            11387.555|                1|              3|          4.0|       NULL|                NULL|                  4|                   5.0|                1.05|                   3|      Good|          933.84|                 33.2461|27 Years and 4 Mo...|                   No|                0.0|                   NULL|High_spent_Small_...|       738.3452|        Good|                      328|\n",
      "| CUS_0xb2f7|0x5b7a| January|            Jedx|NULL|391-36-7954|       Writer|    102212.37|             8470.697|                7|              5|         16.0|          5|Personal Loan, Cr...|                 21|                  15.0|                7.97|                   7|  Standard|           657.3|                 28.7903|18 Years and 2 Mo...|                  Yes|           257.5916|               717.2019|Low_spent_Small_v...|       162.2763|    Standard|                      218|\n",
      "| CUS_0xc081|0x2858|   March|        Richardd|  14|736-71-7699|       Writer|     85423.16|                 NULL|                6|              3|         14.0|       NULL|Personal Loan, an...|                 33|                  17.0|               16.94|                   6|  Standard|          902.37|                 31.1726|13 Years and 5 Mo...|                  Yes|           120.1416|               326.8836|High_spent_Small_...|       513.0344|    Standard|                      161|\n",
      "| CUS_0x6672|0x4ebf|    June|         Elinorp|  48|096-10-4575|       Lawyer|     17577.76|            1762.8134|                3|              5|         19.0|          2|Debt Consolidatio...|                 25|                  12.0|                9.58|                   0|  Standard|         1447.93|                 25.4384|32 Years and 2 Mo...|                  Yes|            29.2955|               167.7661|Low_spent_Small_v...|       269.2198|    Standard|                      386|\n",
      "| CUS_0xac20|0x40b7|February| Lawrence Whiteo|  21|463-27-5535|       Writer|     49178.48|            3972.2068|                8|              4|          9.0|          4|Payday Loan, Stud...|                 15|                  19.0|               17.98|                   1|  Standard|         1484.58|                 32.3683|                    |                  Yes|            32247.0|                   NULL|High_spent_Small_...|       468.7659|    Standard|                     NULL|\n",
      "| CUS_0xacd4|0x3a86| January|       Ransdellf|NULL|988-25-1226|      Manager|     20651.43|            1610.9525|               10|              5|         22.0|          4|Payday Loan, Payd...|                 23|                  20.0|                7.98|                  12|       Bad|         2037.64|                  35.082|12 Years and 10 M...|                  Yes|            46.7741|               202.1735|Low_spent_Small_v...|       202.1476|        Poor|                      154|\n",
      "| CUS_0x4028|0x1dd8|   March|   Papachristouy|  36|407-45-5883|      Manager|     68935.26|             5518.605|                1|              5|          8.0|          3|Credit-Builder Lo...|                 14|                   9.0|                3.25|                   4|      Good|          457.81|                 37.4521|25 Years and 6 Mo...|                   No|           102.7963|               739.7897|                    |           NULL|        Good|                      306|\n",
      "| CUS_0xb5aa|0x4e18|    July| Poornima Guptaz|  16|419-67-9786|Media_Manager|     49417.52|            4175.1265|                4|              5|          9.0|          6|Student Loan, Stu...|                 30|                  17.0|                8.69|                   9|  Standard|         1182.62|                 24.1826|15 Years and 4 Mo...|                  Yes|           162.1273|               148.8346|Low_spent_Medium_...|       386.5507|    Standard|                      184|\n",
      "| CUS_0x49da|0x1fe1|  August|           Lashh|  27|915-13-4225|      Teacher|     96582.24|              7886.52|                3|              3|         13.0|          1|           Auto Loan|                 10|                  18.0|               19.79|                   0|          |          482.88|                 36.1539|26 Years and 2 Mo...|                  Yes|            72.4602|               115.2932|High_spent_Large_...|       840.8986|    Standard|                      314|\n",
      "| CUS_0x5b02|0x3438|    July|          Aaronl|  49|972-58-1211|    Architect|     28446.58|            2597.5483|                3|              5|          5.0|          4|Debt Consolidatio...|                  2|                   8.0|                7.12|                   4|      Good|           640.4|                 26.3785|27 Years and 2 Mo...|                   No|             66.064|                31.5509|High_spent_Large_...|         402.14|        Good|                      326|\n",
      "| CUS_0x3435|0x3a1b|February|        Piersonb|  17|845-16-5003|       Lawyer|     29840.22|             2636.685|                8|              9|         29.0|          7|Payday Loan, Payd...|                 18|                  25.0|               33.19|                  10|          |         2716.57|                 29.9011|2 Years and 2 Months|                  Yes|            114.668|                85.3277|High_spent_Medium...|       313.6728|        Poor|                       26|\n",
      "+-----------+------+--------+----------------+----+-----------+-------------+-------------+---------------------+-----------------+---------------+-------------+-----------+--------------------+-------------------+----------------------+--------------------+--------------------+----------+----------------+------------------------+--------------------+---------------------+-------------------+-----------------------+--------------------+---------------+------------+-------------------------+\n",
      "only showing top 20 rows\n",
      "\n"
     ]
    }
   ],
   "source": [
    "# Extract years and months separately using regular expressions\n",
    "years = F.regexp_extract(F.col(\"Credit_History_Age\"), r\"(\\d+) Years\", 1).cast(\"int\")\n",
    "months = F.regexp_extract(F.col(\"Credit_History_Age\"), r\"(\\d+) Months\", 1).cast(\"int\")\n",
    "\n",
    "# Convert years to months and add with months\n",
    "total_months = years * 12 + months\n",
    "\n",
    "# Add the new column to the DataFrame\n",
    "df = df.withColumn(\"Credit_History_Age_Months\", total_months)\n",
    "\n",
    "df.show()"
   ]
  },
  {
   "cell_type": "code",
   "execution_count": 15,
   "metadata": {},
   "outputs": [
    {
     "name": "stdout",
     "output_type": "stream",
     "text": [
      "+-----------+------+--------+----------------+----+-----------+-------------+-------------+---------------------+-----------------+---------------+-------------+-----------+--------------------+-------------------+----------------------+--------------------+--------------------+----------+----------------+------------------------+--------------------+---------------------+-------------------+-----------------------+--------------------+---------------+------------+-------------------------+----------+\n",
      "|Customer_ID|    ID|   Month|            Name| Age|        SSN|   Occupation|Annual_Income|Monthly_Inhand_Salary|Num_Bank_Accounts|Num_Credit_Card|Interest_Rate|Num_of_Loan|        Type_of_Loan|Delay_from_due_date|Num_of_Delayed_Payment|Changed_Credit_Limit|Num_Credit_Inquiries|Credit_Mix|Outstanding_Debt|Credit_Utilization_Ratio|  Credit_History_Age|Payment_of_Min_Amount|Total_EMI_per_month|Amount_invested_monthly|   Payment_Behaviour|Monthly_Balance|Credit_Score|Credit_History_Age_Months|ID_decimal|\n",
      "+-----------+------+--------+----------------+----+-----------+-------------+-------------+---------------------+-----------------+---------------+-------------+-----------+--------------------+-------------------+----------------------+--------------------+--------------------+----------+----------------+------------------------+--------------------+---------------------+-------------------+-----------------------+--------------------+---------------+------------+-------------------------+----------+\n",
      "| CUS_0xb92b|0x60ae| January|        LaCapraq|5152|501-27-2873|       Doctor|    10357.485|            1163.1238|                9|              7|         27.0|          7|Credit-Builder Lo...|                 32|                  16.0|                4.52|                   6|       Bad|         2415.22|                 32.4212|16 Years and 5 Mo...|                  Yes|            57.0285|               146.3903|Low_spent_Small_v...|       202.8935|        Poor|                      197|     24750|\n",
      "| CUS_0xa301|0x4447|February|     \"\"\"Martiny\"|  39|989-57-9015|       Writer|     65934.22|             5454.518|                5|              7|          7.0|          0|                NULL|                 15|                  15.0|               12.25|                   4|  Standard|          1123.0|                 25.2272|21 Years and 4 Mo...|                     |                0.0|                 119.02|High_spent_Small_...|       686.4319|    Standard|                      256|     17479|\n",
      "| CUS_0xa0a2|0x389f|    June|         Andreas|5376|044-85-4173|       Doctor|     165002.4|              13725.2|                4|              3|          9.0|          1|       Mortgage Loan|                 12|                   6.0|                6.43|                   3|      Good|          108.82|                 43.6226|                    |                   No|           123.5813|               204.2636|High_spent_Large_...|       1284.675|        Good|                     NULL|     14495|\n",
      "| CUS_0x429a|0x63e4|    July|             Axk|  29|719-71-0189|     Mechanic|     68667.56|             5929.297|                7|              6|         21.0|        684|Home Equity Loan,...|                 26|                   9.0|               15.03|                   7|  Standard|         1384.94|                 38.4469|9 Years and 7 Months|                     |           146.8275|                 66.689|High_spent_Large_...|       619.4132|    Standard|                      115|     25572|\n",
      "| CUS_0xb95f|0x1740|    July|         Ashleyk|  30|467-13-1148|       Writer|     34290.12|              2697.51|                9|              8|         25.0|          7|Home Equity Loan,...|                 52|                  12.0|               13.96|                  13|  Standard|         2686.81|                 35.1189|14 Years and 2 Mo...|                  Yes|            185.112|               224.0932|                    |       150.5458|    Standard|                      170|      5952|\n",
      "| CUS_0xbbfc|0x4c4e|     May|    Jason Langei|  41|856-48-3446|     Musician|     33978.57|            2685.5476|                5|              5|          6.0|          3|Mortgage Loan, Pe...|                 30|                   9.0|               15.98|                   2|  Standard|         1082.25|                 32.7516|16 Years and 0 Mo...|                  Yes|            60.0686|               108.2018|Low_spent_Small_v...|       390.2843|    Standard|                      192|     19534|\n",
      "| CUS_0x27fb|0x2f64|    July|           Chanv|  40|410-50-2849|      Manager|     78477.18|             6412.765|                4|              5|         16.0|          2|Auto Loan, and Cr...|                  2|                  NULL|                7.35|                   1|  Standard|         1197.91|                 38.1051|24 Years and 8 Mo...|                  Yes|           123.3176|               233.0177|High_spent_Medium...|       534.9412|    Standard|                      296|     12132|\n",
      "| CUS_0x7799|0x2a60|    July|       Liana B.q|  29|401-76-8437|      Manager|     15762.72|              1593.56|                3|              3|         20.0|          4|Debt Consolidatio...|                 11|                   8.0|               10.76|                   4|          |         1050.18|                 37.4586|21 Years and 4 Mo...|                     |            40.9828|                22.7134|High_spent_Large_...|       335.6598|    Standard|                      256|     10848|\n",
      "| CUS_0x308b|0x1940|   March|     Longstrethy|  42|547-23-7195|       Doctor|     45207.54|                 NULL|                8|              8|         24.0|          6|Mortgage Loan, Au...|                 26|                  21.0|                4.78|                   9|       Bad|         2497.48|                 24.3018|16 Years and 6 Mo...|                  Yes|           148.9133|                   NULL|High_spent_Medium...|       407.1342|        Poor|                      198|      6464|\n",
      "| CUS_0xa560|0x277e| January|Mark Felsenthalr|  19|316-70-8777|      Teacher|    133410.66|            11387.555|                1|              3|          4.0|       NULL|                NULL|                  4|                   5.0|                1.05|                   3|      Good|          933.84|                 33.2461|27 Years and 4 Mo...|                   No|                0.0|                   NULL|High_spent_Small_...|       738.3452|        Good|                      328|     10110|\n",
      "| CUS_0xb2f7|0x5b7a| January|            Jedx|NULL|391-36-7954|       Writer|    102212.37|             8470.697|                7|              5|         16.0|          5|Personal Loan, Cr...|                 21|                  15.0|                7.97|                   7|  Standard|           657.3|                 28.7903|18 Years and 2 Mo...|                  Yes|           257.5916|               717.2019|Low_spent_Small_v...|       162.2763|    Standard|                      218|     23418|\n",
      "| CUS_0xc081|0x2858|   March|        Richardd|  14|736-71-7699|       Writer|     85423.16|                 NULL|                6|              3|         14.0|       NULL|Personal Loan, an...|                 33|                  17.0|               16.94|                   6|  Standard|          902.37|                 31.1726|13 Years and 5 Mo...|                  Yes|           120.1416|               326.8836|High_spent_Small_...|       513.0344|    Standard|                      161|     10328|\n",
      "| CUS_0x6672|0x4ebf|    June|         Elinorp|  48|096-10-4575|       Lawyer|     17577.76|            1762.8134|                3|              5|         19.0|          2|Debt Consolidatio...|                 25|                  12.0|                9.58|                   0|  Standard|         1447.93|                 25.4384|32 Years and 2 Mo...|                  Yes|            29.2955|               167.7661|Low_spent_Small_v...|       269.2198|    Standard|                      386|     20159|\n",
      "| CUS_0xac20|0x40b7|February| Lawrence Whiteo|  21|463-27-5535|       Writer|     49178.48|            3972.2068|                8|              4|          9.0|          4|Payday Loan, Stud...|                 15|                  19.0|               17.98|                   1|  Standard|         1484.58|                 32.3683|                    |                  Yes|            32247.0|                   NULL|High_spent_Small_...|       468.7659|    Standard|                     NULL|     16567|\n",
      "| CUS_0xacd4|0x3a86| January|       Ransdellf|NULL|988-25-1226|      Manager|     20651.43|            1610.9525|               10|              5|         22.0|          4|Payday Loan, Payd...|                 23|                  20.0|                7.98|                  12|       Bad|         2037.64|                  35.082|12 Years and 10 M...|                  Yes|            46.7741|               202.1735|Low_spent_Small_v...|       202.1476|        Poor|                      154|     14982|\n",
      "| CUS_0x4028|0x1dd8|   March|   Papachristouy|  36|407-45-5883|      Manager|     68935.26|             5518.605|                1|              5|          8.0|          3|Credit-Builder Lo...|                 14|                   9.0|                3.25|                   4|      Good|          457.81|                 37.4521|25 Years and 6 Mo...|                   No|           102.7963|               739.7897|                    |           NULL|        Good|                      306|      7640|\n",
      "| CUS_0xb5aa|0x4e18|    July| Poornima Guptaz|  16|419-67-9786|Media_Manager|     49417.52|            4175.1265|                4|              5|          9.0|          6|Student Loan, Stu...|                 30|                  17.0|                8.69|                   9|  Standard|         1182.62|                 24.1826|15 Years and 4 Mo...|                  Yes|           162.1273|               148.8346|Low_spent_Medium_...|       386.5507|    Standard|                      184|     19992|\n",
      "| CUS_0x49da|0x1fe1|  August|           Lashh|  27|915-13-4225|      Teacher|     96582.24|              7886.52|                3|              3|         13.0|          1|           Auto Loan|                 10|                  18.0|               19.79|                   0|          |          482.88|                 36.1539|26 Years and 2 Mo...|                  Yes|            72.4602|               115.2932|High_spent_Large_...|       840.8986|    Standard|                      314|      8161|\n",
      "| CUS_0x5b02|0x3438|    July|          Aaronl|  49|972-58-1211|    Architect|     28446.58|            2597.5483|                3|              5|          5.0|          4|Debt Consolidatio...|                  2|                   8.0|                7.12|                   4|      Good|           640.4|                 26.3785|27 Years and 2 Mo...|                   No|             66.064|                31.5509|High_spent_Large_...|         402.14|        Good|                      326|     13368|\n",
      "| CUS_0x3435|0x3a1b|February|        Piersonb|  17|845-16-5003|       Lawyer|     29840.22|             2636.685|                8|              9|         29.0|          7|Payday Loan, Payd...|                 18|                  25.0|               33.19|                  10|          |         2716.57|                 29.9011|2 Years and 2 Months|                  Yes|            114.668|                85.3277|High_spent_Medium...|       313.6728|        Poor|                       26|     14875|\n",
      "+-----------+------+--------+----------------+----+-----------+-------------+-------------+---------------------+-----------------+---------------+-------------+-----------+--------------------+-------------------+----------------------+--------------------+--------------------+----------+----------------+------------------------+--------------------+---------------------+-------------------+-----------------------+--------------------+---------------+------------+-------------------------+----------+\n",
      "only showing top 20 rows\n",
      "\n"
     ]
    }
   ],
   "source": [
    "# Convert hexadecimal 'ID' to decimal (integer)\n",
    "df = df.withColumn(\"ID_decimal\", F.conv(F.expr(\"substring(ID, 3)\"), 16, 10).cast(\"int\"))\n",
    "df.show()"
   ]
  },
  {
   "cell_type": "code",
   "execution_count": 16,
   "metadata": {},
   "outputs": [
    {
     "name": "stdout",
     "output_type": "stream",
     "text": [
      "+-----------+------+--------+----------------+----+-----------+-------------+-------------+---------------------+-----------------+---------------+-------------+-----------+--------------------+-------------------+----------------------+--------------------+--------------------+----------+----------------+------------------------+--------------------+---------------------+-------------------+-----------------------+--------------------+---------------+------------+-------------------------+----------+-------------------+\n",
      "|Customer_ID|    ID|   Month|            Name| Age|        SSN|   Occupation|Annual_Income|Monthly_Inhand_Salary|Num_Bank_Accounts|Num_Credit_Card|Interest_Rate|Num_of_Loan|        Type_of_Loan|Delay_from_due_date|Num_of_Delayed_Payment|Changed_Credit_Limit|Num_Credit_Inquiries|Credit_Mix|Outstanding_Debt|Credit_Utilization_Ratio|  Credit_History_Age|Payment_of_Min_Amount|Total_EMI_per_month|Amount_invested_monthly|   Payment_Behaviour|Monthly_Balance|Credit_Score|Credit_History_Age_Months|ID_decimal|Customer_ID_decimal|\n",
      "+-----------+------+--------+----------------+----+-----------+-------------+-------------+---------------------+-----------------+---------------+-------------+-----------+--------------------+-------------------+----------------------+--------------------+--------------------+----------+----------------+------------------------+--------------------+---------------------+-------------------+-----------------------+--------------------+---------------+------------+-------------------------+----------+-------------------+\n",
      "|     0xb92b|0x60ae| January|        LaCapraq|5152|501-27-2873|       Doctor|    10357.485|            1163.1238|                9|              7|         27.0|          7|Credit-Builder Lo...|                 32|                  16.0|                4.52|                   6|       Bad|         2415.22|                 32.4212|16 Years and 5 Mo...|                  Yes|            57.0285|               146.3903|Low_spent_Small_v...|       202.8935|        Poor|                      197|     24750|              47403|\n",
      "|     0xa301|0x4447|February|     \"\"\"Martiny\"|  39|989-57-9015|       Writer|     65934.22|             5454.518|                5|              7|          7.0|          0|                NULL|                 15|                  15.0|               12.25|                   4|  Standard|          1123.0|                 25.2272|21 Years and 4 Mo...|                     |                0.0|                 119.02|High_spent_Small_...|       686.4319|    Standard|                      256|     17479|              41729|\n",
      "|     0xa0a2|0x389f|    June|         Andreas|5376|044-85-4173|       Doctor|     165002.4|              13725.2|                4|              3|          9.0|          1|       Mortgage Loan|                 12|                   6.0|                6.43|                   3|      Good|          108.82|                 43.6226|                    |                   No|           123.5813|               204.2636|High_spent_Large_...|       1284.675|        Good|                     NULL|     14495|              41122|\n",
      "|     0x429a|0x63e4|    July|             Axk|  29|719-71-0189|     Mechanic|     68667.56|             5929.297|                7|              6|         21.0|        684|Home Equity Loan,...|                 26|                   9.0|               15.03|                   7|  Standard|         1384.94|                 38.4469|9 Years and 7 Months|                     |           146.8275|                 66.689|High_spent_Large_...|       619.4132|    Standard|                      115|     25572|              17050|\n",
      "|     0xb95f|0x1740|    July|         Ashleyk|  30|467-13-1148|       Writer|     34290.12|              2697.51|                9|              8|         25.0|          7|Home Equity Loan,...|                 52|                  12.0|               13.96|                  13|  Standard|         2686.81|                 35.1189|14 Years and 2 Mo...|                  Yes|            185.112|               224.0932|                    |       150.5458|    Standard|                      170|      5952|              47455|\n",
      "|     0xbbfc|0x4c4e|     May|    Jason Langei|  41|856-48-3446|     Musician|     33978.57|            2685.5476|                5|              5|          6.0|          3|Mortgage Loan, Pe...|                 30|                   9.0|               15.98|                   2|  Standard|         1082.25|                 32.7516|16 Years and 0 Mo...|                  Yes|            60.0686|               108.2018|Low_spent_Small_v...|       390.2843|    Standard|                      192|     19534|              48124|\n",
      "|     0x27fb|0x2f64|    July|           Chanv|  40|410-50-2849|      Manager|     78477.18|             6412.765|                4|              5|         16.0|          2|Auto Loan, and Cr...|                  2|                  NULL|                7.35|                   1|  Standard|         1197.91|                 38.1051|24 Years and 8 Mo...|                  Yes|           123.3176|               233.0177|High_spent_Medium...|       534.9412|    Standard|                      296|     12132|              10235|\n",
      "|     0x7799|0x2a60|    July|       Liana B.q|  29|401-76-8437|      Manager|     15762.72|              1593.56|                3|              3|         20.0|          4|Debt Consolidatio...|                 11|                   8.0|               10.76|                   4|          |         1050.18|                 37.4586|21 Years and 4 Mo...|                     |            40.9828|                22.7134|High_spent_Large_...|       335.6598|    Standard|                      256|     10848|              30617|\n",
      "|     0x308b|0x1940|   March|     Longstrethy|  42|547-23-7195|       Doctor|     45207.54|                 NULL|                8|              8|         24.0|          6|Mortgage Loan, Au...|                 26|                  21.0|                4.78|                   9|       Bad|         2497.48|                 24.3018|16 Years and 6 Mo...|                  Yes|           148.9133|                   NULL|High_spent_Medium...|       407.1342|        Poor|                      198|      6464|              12427|\n",
      "|     0xa560|0x277e| January|Mark Felsenthalr|  19|316-70-8777|      Teacher|    133410.66|            11387.555|                1|              3|          4.0|       NULL|                NULL|                  4|                   5.0|                1.05|                   3|      Good|          933.84|                 33.2461|27 Years and 4 Mo...|                   No|                0.0|                   NULL|High_spent_Small_...|       738.3452|        Good|                      328|     10110|              42336|\n",
      "|     0xb2f7|0x5b7a| January|            Jedx|NULL|391-36-7954|       Writer|    102212.37|             8470.697|                7|              5|         16.0|          5|Personal Loan, Cr...|                 21|                  15.0|                7.97|                   7|  Standard|           657.3|                 28.7903|18 Years and 2 Mo...|                  Yes|           257.5916|               717.2019|Low_spent_Small_v...|       162.2763|    Standard|                      218|     23418|              45815|\n",
      "|     0xc081|0x2858|   March|        Richardd|  14|736-71-7699|       Writer|     85423.16|                 NULL|                6|              3|         14.0|       NULL|Personal Loan, an...|                 33|                  17.0|               16.94|                   6|  Standard|          902.37|                 31.1726|13 Years and 5 Mo...|                  Yes|           120.1416|               326.8836|High_spent_Small_...|       513.0344|    Standard|                      161|     10328|              49281|\n",
      "|     0x6672|0x4ebf|    June|         Elinorp|  48|096-10-4575|       Lawyer|     17577.76|            1762.8134|                3|              5|         19.0|          2|Debt Consolidatio...|                 25|                  12.0|                9.58|                   0|  Standard|         1447.93|                 25.4384|32 Years and 2 Mo...|                  Yes|            29.2955|               167.7661|Low_spent_Small_v...|       269.2198|    Standard|                      386|     20159|              26226|\n",
      "|     0xac20|0x40b7|February| Lawrence Whiteo|  21|463-27-5535|       Writer|     49178.48|            3972.2068|                8|              4|          9.0|          4|Payday Loan, Stud...|                 15|                  19.0|               17.98|                   1|  Standard|         1484.58|                 32.3683|                    |                  Yes|            32247.0|                   NULL|High_spent_Small_...|       468.7659|    Standard|                     NULL|     16567|              44064|\n",
      "|     0xacd4|0x3a86| January|       Ransdellf|NULL|988-25-1226|      Manager|     20651.43|            1610.9525|               10|              5|         22.0|          4|Payday Loan, Payd...|                 23|                  20.0|                7.98|                  12|       Bad|         2037.64|                  35.082|12 Years and 10 M...|                  Yes|            46.7741|               202.1735|Low_spent_Small_v...|       202.1476|        Poor|                      154|     14982|              44244|\n",
      "|     0x4028|0x1dd8|   March|   Papachristouy|  36|407-45-5883|      Manager|     68935.26|             5518.605|                1|              5|          8.0|          3|Credit-Builder Lo...|                 14|                   9.0|                3.25|                   4|      Good|          457.81|                 37.4521|25 Years and 6 Mo...|                   No|           102.7963|               739.7897|                    |           NULL|        Good|                      306|      7640|              16424|\n",
      "|     0xb5aa|0x4e18|    July| Poornima Guptaz|  16|419-67-9786|Media_Manager|     49417.52|            4175.1265|                4|              5|          9.0|          6|Student Loan, Stu...|                 30|                  17.0|                8.69|                   9|  Standard|         1182.62|                 24.1826|15 Years and 4 Mo...|                  Yes|           162.1273|               148.8346|Low_spent_Medium_...|       386.5507|    Standard|                      184|     19992|              46506|\n",
      "|     0x49da|0x1fe1|  August|           Lashh|  27|915-13-4225|      Teacher|     96582.24|              7886.52|                3|              3|         13.0|          1|           Auto Loan|                 10|                  18.0|               19.79|                   0|          |          482.88|                 36.1539|26 Years and 2 Mo...|                  Yes|            72.4602|               115.2932|High_spent_Large_...|       840.8986|    Standard|                      314|      8161|              18906|\n",
      "|     0x5b02|0x3438|    July|          Aaronl|  49|972-58-1211|    Architect|     28446.58|            2597.5483|                3|              5|          5.0|          4|Debt Consolidatio...|                  2|                   8.0|                7.12|                   4|      Good|           640.4|                 26.3785|27 Years and 2 Mo...|                   No|             66.064|                31.5509|High_spent_Large_...|         402.14|        Good|                      326|     13368|              23298|\n",
      "|     0x3435|0x3a1b|February|        Piersonb|  17|845-16-5003|       Lawyer|     29840.22|             2636.685|                8|              9|         29.0|          7|Payday Loan, Payd...|                 18|                  25.0|               33.19|                  10|          |         2716.57|                 29.9011|2 Years and 2 Months|                  Yes|            114.668|                85.3277|High_spent_Medium...|       313.6728|        Poor|                       26|     14875|              13365|\n",
      "+-----------+------+--------+----------------+----+-----------+-------------+-------------+---------------------+-----------------+---------------+-------------+-----------+--------------------+-------------------+----------------------+--------------------+--------------------+----------+----------------+------------------------+--------------------+---------------------+-------------------+-----------------------+--------------------+---------------+------------+-------------------------+----------+-------------------+\n",
      "only showing top 20 rows\n",
      "\n"
     ]
    }
   ],
   "source": [
    "# Remove 'CUS_' prefix from 'Customer_ID'\n",
    "df = df.withColumn(\"Customer_ID\", F.regexp_replace(F.col(\"Customer_ID\"), \"CUS_\", \"\"))\n",
    "\n",
    "# Convert hexadecimal 'Customer_ID' to decimal (integer)\n",
    "df = df.withColumn(\"Customer_ID_decimal\", F.conv(F.expr(\"substring(Customer_ID, 3)\"), 16, 10).cast(\"int\"))\n",
    "df.show()"
   ]
  },
  {
   "cell_type": "code",
   "execution_count": 17,
   "metadata": {},
   "outputs": [],
   "source": [
    "# Drop specified columns (to be substituted by 'ID_decimal', 'Customer_ID_decimal','Credit_History_Age_Months')\n",
    "df = df.drop('ID', 'Customer_ID','Credit_History_Age')\n",
    "\n",
    "# Define the desired column order\n",
    "desired_order = [ \n",
    "    'ID_decimal', 'Customer_ID_decimal',\n",
    "    'Month', 'Name', 'Age', 'SSN', 'Occupation', 'Annual_Income', 'Monthly_Inhand_Salary',\n",
    "    'Num_Bank_Accounts', 'Num_Credit_Card', 'Interest_Rate', 'Num_of_Loan', 'Type_of_Loan',\n",
    "    'Delay_from_due_date', 'Num_of_Delayed_Payment', 'Changed_Credit_Limit',\n",
    "    'Num_Credit_Inquiries', 'Credit_Mix', 'Outstanding_Debt', 'Credit_Utilization_Ratio',\n",
    "    'Credit_History_Age_Months', 'Payment_of_Min_Amount', 'Total_EMI_per_month',\n",
    "    'Amount_invested_monthly', 'Payment_Behaviour', 'Monthly_Balance', 'Credit_Score',    \n",
    "]"
   ]
  },
  {
   "cell_type": "code",
   "execution_count": 18,
   "metadata": {},
   "outputs": [
    {
     "name": "stdout",
     "output_type": "stream",
     "text": [
      "+-----+-----------+--------+----------------+----+-----------+-------------+-------------+---------------------+-----------------+---------------+-------------+-----------+--------------------+-------------------+----------------------+--------------------+--------------------+----------+----------------+------------------------+------------------+---------------------+-------------------+-----------------------+--------------------+---------------+------------+\n",
      "|   ID|Customer_ID|   Month|            Name| Age|        SSN|   Occupation|Annual_Income|Monthly_Inhand_Salary|Num_Bank_Accounts|Num_Credit_Card|Interest_Rate|Num_of_Loan|        Type_of_Loan|Delay_from_due_date|Num_of_Delayed_Payment|Changed_Credit_Limit|Num_Credit_Inquiries|Credit_Mix|Outstanding_Debt|Credit_Utilization_Ratio|Credit_History_Age|Payment_of_Min_Amount|Total_EMI_per_month|Amount_invested_monthly|   Payment_Behaviour|Monthly_Balance|Credit_Score|\n",
      "+-----+-----------+--------+----------------+----+-----------+-------------+-------------+---------------------+-----------------+---------------+-------------+-----------+--------------------+-------------------+----------------------+--------------------+--------------------+----------+----------------+------------------------+------------------+---------------------+-------------------+-----------------------+--------------------+---------------+------------+\n",
      "|24750|      47403| January|        LaCapraq|5152|501-27-2873|       Doctor|    10357.485|            1163.1238|                9|              7|         27.0|          7|Credit-Builder Lo...|                 32|                  16.0|                4.52|                   6|       Bad|         2415.22|                 32.4212|               197|                  Yes|            57.0285|               146.3903|Low_spent_Small_v...|       202.8935|        Poor|\n",
      "|17479|      41729|February|     \"\"\"Martiny\"|  39|989-57-9015|       Writer|     65934.22|             5454.518|                5|              7|          7.0|          0|                NULL|                 15|                  15.0|               12.25|                   4|  Standard|          1123.0|                 25.2272|               256|                     |                0.0|                 119.02|High_spent_Small_...|       686.4319|    Standard|\n",
      "|14495|      41122|    June|         Andreas|5376|044-85-4173|       Doctor|     165002.4|              13725.2|                4|              3|          9.0|          1|       Mortgage Loan|                 12|                   6.0|                6.43|                   3|      Good|          108.82|                 43.6226|              NULL|                   No|           123.5813|               204.2636|High_spent_Large_...|       1284.675|        Good|\n",
      "|25572|      17050|    July|             Axk|  29|719-71-0189|     Mechanic|     68667.56|             5929.297|                7|              6|         21.0|        684|Home Equity Loan,...|                 26|                   9.0|               15.03|                   7|  Standard|         1384.94|                 38.4469|               115|                     |           146.8275|                 66.689|High_spent_Large_...|       619.4132|    Standard|\n",
      "| 5952|      47455|    July|         Ashleyk|  30|467-13-1148|       Writer|     34290.12|              2697.51|                9|              8|         25.0|          7|Home Equity Loan,...|                 52|                  12.0|               13.96|                  13|  Standard|         2686.81|                 35.1189|               170|                  Yes|            185.112|               224.0932|                    |       150.5458|    Standard|\n",
      "|19534|      48124|     May|    Jason Langei|  41|856-48-3446|     Musician|     33978.57|            2685.5476|                5|              5|          6.0|          3|Mortgage Loan, Pe...|                 30|                   9.0|               15.98|                   2|  Standard|         1082.25|                 32.7516|               192|                  Yes|            60.0686|               108.2018|Low_spent_Small_v...|       390.2843|    Standard|\n",
      "|12132|      10235|    July|           Chanv|  40|410-50-2849|      Manager|     78477.18|             6412.765|                4|              5|         16.0|          2|Auto Loan, and Cr...|                  2|                  NULL|                7.35|                   1|  Standard|         1197.91|                 38.1051|               296|                  Yes|           123.3176|               233.0177|High_spent_Medium...|       534.9412|    Standard|\n",
      "|10848|      30617|    July|       Liana B.q|  29|401-76-8437|      Manager|     15762.72|              1593.56|                3|              3|         20.0|          4|Debt Consolidatio...|                 11|                   8.0|               10.76|                   4|          |         1050.18|                 37.4586|               256|                     |            40.9828|                22.7134|High_spent_Large_...|       335.6598|    Standard|\n",
      "| 6464|      12427|   March|     Longstrethy|  42|547-23-7195|       Doctor|     45207.54|                 NULL|                8|              8|         24.0|          6|Mortgage Loan, Au...|                 26|                  21.0|                4.78|                   9|       Bad|         2497.48|                 24.3018|               198|                  Yes|           148.9133|                   NULL|High_spent_Medium...|       407.1342|        Poor|\n",
      "|10110|      42336| January|Mark Felsenthalr|  19|316-70-8777|      Teacher|    133410.66|            11387.555|                1|              3|          4.0|       NULL|                NULL|                  4|                   5.0|                1.05|                   3|      Good|          933.84|                 33.2461|               328|                   No|                0.0|                   NULL|High_spent_Small_...|       738.3452|        Good|\n",
      "|23418|      45815| January|            Jedx|NULL|391-36-7954|       Writer|    102212.37|             8470.697|                7|              5|         16.0|          5|Personal Loan, Cr...|                 21|                  15.0|                7.97|                   7|  Standard|           657.3|                 28.7903|               218|                  Yes|           257.5916|               717.2019|Low_spent_Small_v...|       162.2763|    Standard|\n",
      "|10328|      49281|   March|        Richardd|  14|736-71-7699|       Writer|     85423.16|                 NULL|                6|              3|         14.0|       NULL|Personal Loan, an...|                 33|                  17.0|               16.94|                   6|  Standard|          902.37|                 31.1726|               161|                  Yes|           120.1416|               326.8836|High_spent_Small_...|       513.0344|    Standard|\n",
      "|20159|      26226|    June|         Elinorp|  48|096-10-4575|       Lawyer|     17577.76|            1762.8134|                3|              5|         19.0|          2|Debt Consolidatio...|                 25|                  12.0|                9.58|                   0|  Standard|         1447.93|                 25.4384|               386|                  Yes|            29.2955|               167.7661|Low_spent_Small_v...|       269.2198|    Standard|\n",
      "|16567|      44064|February| Lawrence Whiteo|  21|463-27-5535|       Writer|     49178.48|            3972.2068|                8|              4|          9.0|          4|Payday Loan, Stud...|                 15|                  19.0|               17.98|                   1|  Standard|         1484.58|                 32.3683|              NULL|                  Yes|            32247.0|                   NULL|High_spent_Small_...|       468.7659|    Standard|\n",
      "|14982|      44244| January|       Ransdellf|NULL|988-25-1226|      Manager|     20651.43|            1610.9525|               10|              5|         22.0|          4|Payday Loan, Payd...|                 23|                  20.0|                7.98|                  12|       Bad|         2037.64|                  35.082|               154|                  Yes|            46.7741|               202.1735|Low_spent_Small_v...|       202.1476|        Poor|\n",
      "| 7640|      16424|   March|   Papachristouy|  36|407-45-5883|      Manager|     68935.26|             5518.605|                1|              5|          8.0|          3|Credit-Builder Lo...|                 14|                   9.0|                3.25|                   4|      Good|          457.81|                 37.4521|               306|                   No|           102.7963|               739.7897|                    |           NULL|        Good|\n",
      "|19992|      46506|    July| Poornima Guptaz|  16|419-67-9786|Media_Manager|     49417.52|            4175.1265|                4|              5|          9.0|          6|Student Loan, Stu...|                 30|                  17.0|                8.69|                   9|  Standard|         1182.62|                 24.1826|               184|                  Yes|           162.1273|               148.8346|Low_spent_Medium_...|       386.5507|    Standard|\n",
      "| 8161|      18906|  August|           Lashh|  27|915-13-4225|      Teacher|     96582.24|              7886.52|                3|              3|         13.0|          1|           Auto Loan|                 10|                  18.0|               19.79|                   0|          |          482.88|                 36.1539|               314|                  Yes|            72.4602|               115.2932|High_spent_Large_...|       840.8986|    Standard|\n",
      "|13368|      23298|    July|          Aaronl|  49|972-58-1211|    Architect|     28446.58|            2597.5483|                3|              5|          5.0|          4|Debt Consolidatio...|                  2|                   8.0|                7.12|                   4|      Good|           640.4|                 26.3785|               326|                   No|             66.064|                31.5509|High_spent_Large_...|         402.14|        Good|\n",
      "|14875|      13365|February|        Piersonb|  17|845-16-5003|       Lawyer|     29840.22|             2636.685|                8|              9|         29.0|          7|Payday Loan, Payd...|                 18|                  25.0|               33.19|                  10|          |         2716.57|                 29.9011|                26|                  Yes|            114.668|                85.3277|High_spent_Medium...|       313.6728|        Poor|\n",
      "+-----+-----------+--------+----------------+----+-----------+-------------+-------------+---------------------+-----------------+---------------+-------------+-----------+--------------------+-------------------+----------------------+--------------------+--------------------+----------+----------------+------------------------+------------------+---------------------+-------------------+-----------------------+--------------------+---------------+------------+\n",
      "only showing top 20 rows\n",
      "\n"
     ]
    }
   ],
   "source": [
    "# Reorder columns as per 'desired_order'\n",
    "df = df.select(*desired_order)\n",
    "\n",
    "# Rename 'ID_decimal' and 'Customer_ID_decimal' back to 'ID' and 'Customer_ID'\n",
    "df = df.withColumnRenamed('ID_decimal', 'ID').withColumnRenamed('Customer_ID_decimal', 'Customer_ID').withColumnRenamed('Credit_History_Age_Months', 'Credit_History_Age')     \n",
    "\n",
    "# Show the updated DataFrame\n",
    "df.show()"
   ]
  },
  {
   "cell_type": "code",
   "execution_count": 19,
   "metadata": {},
   "outputs": [
    {
     "name": "stdout",
     "output_type": "stream",
     "text": [
      "+-----+-----------+--------+-----------------+----+-----------+----------+-------------+---------------------+-----------------+---------------+-------------+-----------+--------------------+-------------------+----------------------+--------------------+--------------------+----------+----------------+------------------------+------------------+---------------------+-------------------+-----------------------+--------------------+---------------+------------+\n",
      "|   ID|Customer_ID|   Month|             Name| Age|        SSN|Occupation|Annual_Income|Monthly_Inhand_Salary|Num_Bank_Accounts|Num_Credit_Card|Interest_Rate|Num_of_Loan|        Type_of_Loan|Delay_from_due_date|Num_of_Delayed_Payment|Changed_Credit_Limit|Num_Credit_Inquiries|Credit_Mix|Outstanding_Debt|Credit_Utilization_Ratio|Credit_History_Age|Payment_of_Min_Amount|Total_EMI_per_month|Amount_invested_monthly|   Payment_Behaviour|Monthly_Balance|Credit_Score|\n",
      "+-----+-----------+--------+-----------------+----+-----------+----------+-------------+---------------------+-----------------+---------------+-------------+-----------+--------------------+-------------------+----------------------+--------------------+--------------------+----------+----------------+------------------------+------------------+---------------------+-------------------+-----------------------+--------------------+---------------+------------+\n",
      "|27757|       1006|  August|Matthias Blamontb|  38|354-65-6948|Journalist|     16756.18|            1331.3483|                9|              6|         22.0|          2|Credit-Builder Lo...|                 48|                  12.0|               10.66|                   8|  Standard|         1941.73|                 25.8125|               189|                  Yes|            32972.0|                66.7182|Low_spent_Small_v...|       328.9745|        Poor|\n",
      "|27753|       1006|   April|Matthias Blamontb|NULL|354-65-6948|Journalist|     16756.18|            1331.3483|                9|              6|         22.0|          2|Credit-Builder Lo...|                 48|                  13.0|               10.66|                   8|  Standard|         1941.73|                 33.7256|               185|                  Yes|            27.4421|                 56.495|High_spent_Small_...|       309.1978|        Poor|\n",
      "|27752|       1006|   March|Matthias Blamontb|  38|354-65-6948|Journalist|     16756.18|            1331.3483|                9|              6|         22.0|          2|Credit-Builder Lo...|                 48|                  12.0|               10.66|                   8|  Standard|         1941.73|                 32.1905|               184|                  Yes|            27.4421|                61.7327|Low_spent_Small_v...|         333.96|        Poor|\n",
      "|27750|       1006| January|Matthias Blamontb|  37|354-65-6948|Journalist|     16756.18|            1331.3483|                9|              6|         22.0|          2|Credit-Builder Lo...|                 48|                  NULL|               10.66|                NULL|  Standard|         1941.73|                 37.5011|               182|                  Yes|            27.4421|                45.3011|High_spent_Medium...|       310.3917|        Poor|\n",
      "|27751|       1006|February|Matthias Blamontb|  38|354-65-6948|Journalist|     16756.18|            1331.3483|                9|              6|         22.0|       NULL|Credit-Builder Lo...|                 48|                  12.0|               10.66|                   8|  Standard|         1941.73|                 34.7122|               183|                  Yes|            27.4421|                90.0784|Low_spent_Medium_...|       295.6143|        Poor|\n",
      "|27754|       1006|     May|Matthias Blamontb|  38|354-65-6948|Journalist|     16756.18|            1331.3483|                9|              6|         22.0|          2|Credit-Builder Lo...|                 48|                  NULL|               10.66|                   8|  Standard|         1941.73|                 38.7553|               186|                  Yes|            27.4421|                51.7262|Low_spent_Large_v...|       323.9665|        Poor|\n",
      "|27755|       1006|    June|Matthias Blamontb|  38|354-65-6948|Journalist|     16756.18|            1331.3483|                9|              6|         22.0|          2|Credit-Builder Lo...|                 48|                  12.0|               10.66|                   8|          |         1941.73|                 27.1975|               187|                  Yes|            27.4421|                60.8283|                    |       334.8645|        Poor|\n",
      "|27756|       1006|    July|Matthias Blamontb|  38|354-65-6948|Journalist|     16756.18|            1331.3483|                9|              6|         22.0|          2|Credit-Builder Lo...|                 48|                  11.0|               10.66|                   8|  Standard|         1941.73|                 23.9244|               188|                  Yes|            27.4421|                95.6486|Low_spent_Large_v...|       280.0441|        Poor|\n",
      "|53256|       1007|    July|     Soyoung Kimu|  48|964-81-2710|   Manager|     21212.91|            1496.7426|                3|              4|         10.0|          3|Home Equity Loan,...|                 19|                  20.0|                5.13|                   1|          |          993.15|                 40.6332|               352|                   No|            45.7457|                 59.309|Low_spent_Small_v...|       334.6196|    Standard|\n",
      "|53254|       1007|     May|     Soyoung Kimu|  48|964-81-2710|   Manager|     21212.91|                 NULL|                3|              4|         10.0|       NULL|Home Equity Loan,...|                 19|                  NULL|                5.13|                1196|          |          993.15|                 35.0043|               350|                   No|            45.7457|               148.3096|Low_spent_Small_v...|        245.619|    Standard|\n",
      "|53250|       1007| January|     Soyoung Kimu|  48|964-81-2710|   Manager|     21212.91|            1496.7426|                3|              4|         10.0|          3|Home Equity Loan,...|                 19|                  19.0|               12.13|                   1|          |          993.15|                  35.269|               346|                   No|            45.7457|                30.3735|High_spent_Medium...|       323.5551|    Standard|\n",
      "|53257|       1007|  August|     Soyoung Kimu|  48|964-81-2710|   Manager|     21212.91|            1496.7426|                3|            888|         10.0|          3|Home Equity Loan,...|                 16|                  19.0|                5.13|                   1|  Standard|          993.15|                 38.9119|              NULL|                   No|            45.7457|               118.5424|Low_spent_Small_v...|       275.3861|        Poor|\n",
      "|53255|       1007|    June|     Soyoung Kimu|  48|964-81-2710|   Manager|     21212.91|            1496.7426|                3|              4|         10.0|          3|Home Equity Loan,...|                 19|                  21.0|                2.13|                   1|  Standard|          993.15|                 35.5584|              NULL|                   No|            45.7457|                   NULL|                    |       239.4648|    Standard|\n",
      "|53252|       1007|   March|     Soyoung Kimu|  48|964-81-2710|   Manager|     21212.91|            1496.7426|                3|              4|         10.0|          3|Home Equity Loan,...|                 19|                  19.0|                5.13|                   1|  Standard|          993.15|                 30.0026|               348|                   No|            45.7457|                   NULL|Low_spent_Small_v...|       265.4875|    Standard|\n",
      "|53253|       1007|   April|     Soyoung Kimu|  48|964-81-2710|   Manager|     21212.91|            1496.7426|             1174|              4|         10.0|          3|Home Equity Loan,...|                 19|                  19.0|                5.13|                   1|  Standard|          993.15|                  37.475|               349|                   No|            45.7457|                62.8125|High_spent_Medium...|       291.1161|    Standard|\n",
      "|53251|       1007|February|     Soyoung Kimu|  48|964-81-2710|   Manager|     21212.91|            1496.7426|                3|              4|         10.0|          3|Home Equity Loan,...|                 19|                  19.0|                5.13|                   1|  Standard|          993.15|                 37.6556|               347|                   No|            45.7457|                  44.32|High_spent_Medium...|       309.6086|    Standard|\n",
      "|56857|       1008|  August|             Koht|  37|802-19-4704| Developer|     33540.43|             2655.036|                6|              3|         17.0|          0|                NULL|                 26|                  13.0|               14.11|                  10|  Standard|         1138.97|                 23.6839|               299|                  Yes|                0.0|               165.2044|Low_spent_Large_v...|       370.2991|    Standard|\n",
      "|56856|       1008|    July|             Koht|  37|802-19-4704| Developer|     33540.43|             2655.036|                6|              3|         17.0|          0|                NULL|                 26|                  11.0|               14.11|                  10|  Standard|         1138.97|                 32.7251|               298|                  Yes|                0.0|               197.8504|Low_spent_Large_v...|       337.6532|    Standard|\n",
      "|56854|       1008|     May|             Koht|  37|802-19-4704| Developer|     33540.43|             2655.036|                6|              3|         17.0|          0|                NULL|                 26|                  11.0|               14.11|                  10|  Standard|         1138.97|                 30.1889|               296|                  Yes|                0.0|                74.1981|High_spent_Medium...|       441.3055|    Standard|\n",
      "|56853|       1008|   April|             Koht|  37|802-19-4704| Developer|     33540.43|             2655.036|                6|              3|         17.0|          0|                NULL|                 26|                  NULL|               14.11|                  10|          |         1138.97|                 28.3291|              NULL|                     |                0.0|                170.869|High_spent_Small_...|       354.6346|    Standard|\n",
      "+-----+-----------+--------+-----------------+----+-----------+----------+-------------+---------------------+-----------------+---------------+-------------+-----------+--------------------+-------------------+----------------------+--------------------+--------------------+----------+----------------+------------------------+------------------+---------------------+-------------------+-----------------------+--------------------+---------------+------------+\n",
      "only showing top 20 rows\n",
      "\n"
     ]
    }
   ],
   "source": [
    "df.orderBy(\"Customer_ID\").show()"
   ]
  },
  {
   "cell_type": "code",
   "execution_count": 20,
   "metadata": {},
   "outputs": [],
   "source": [
    "x = df.toPandas()\n",
    " \n",
    "x.to_csv('/BigData/dataset/clean.csv', index=False)"
   ]
  },
  {
   "cell_type": "code",
   "execution_count": 21,
   "metadata": {},
   "outputs": [],
   "source": [
    "# Save DB\n",
    "df = df.repartition(16)\n",
    "df.write.mode(\"overwrite\").orc(clean_dataset_path)"
   ]
  },
  {
   "cell_type": "code",
   "execution_count": 23,
   "metadata": {},
   "outputs": [
    {
     "name": "stdout",
     "output_type": "stream",
     "text": [
      "root\n",
      " |-- ID: integer (nullable = true)\n",
      " |-- Customer_ID: integer (nullable = true)\n",
      " |-- Month: string (nullable = true)\n",
      " |-- Name: string (nullable = true)\n",
      " |-- Age: integer (nullable = true)\n",
      " |-- SSN: string (nullable = true)\n",
      " |-- Occupation: string (nullable = true)\n",
      " |-- Annual_Income: float (nullable = true)\n",
      " |-- Monthly_Inhand_Salary: float (nullable = true)\n",
      " |-- Num_Bank_Accounts: integer (nullable = true)\n",
      " |-- Num_Credit_Card: integer (nullable = true)\n",
      " |-- Interest_Rate: float (nullable = true)\n",
      " |-- Num_of_Loan: integer (nullable = true)\n",
      " |-- Type_of_Loan: string (nullable = true)\n",
      " |-- Delay_from_due_date: integer (nullable = true)\n",
      " |-- Num_of_Delayed_Payment: float (nullable = true)\n",
      " |-- Changed_Credit_Limit: float (nullable = true)\n",
      " |-- Num_Credit_Inquiries: integer (nullable = true)\n",
      " |-- Credit_Mix: string (nullable = true)\n",
      " |-- Outstanding_Debt: float (nullable = true)\n",
      " |-- Credit_Utilization_Ratio: float (nullable = true)\n",
      " |-- Credit_History_Age: integer (nullable = true)\n",
      " |-- Payment_of_Min_Amount: string (nullable = true)\n",
      " |-- Total_EMI_per_month: float (nullable = true)\n",
      " |-- Amount_invested_monthly: float (nullable = true)\n",
      " |-- Payment_Behaviour: string (nullable = true)\n",
      " |-- Monthly_Balance: float (nullable = true)\n",
      " |-- Credit_Score: string (nullable = true)\n",
      "\n"
     ]
    }
   ],
   "source": [
    "df.printSchema()"
   ]
  },
  {
   "cell_type": "code",
   "execution_count": 22,
   "metadata": {},
   "outputs": [],
   "source": [
    "spark.stop()"
   ]
  }
 ],
 "metadata": {
  "kernelspec": {
   "display_name": "Python 3 (ipykernel)",
   "language": "python",
   "name": "python3"
  },
  "language_info": {
   "codemirror_mode": {
    "name": "ipython",
    "version": 3
   },
   "file_extension": ".py",
   "mimetype": "text/x-python",
   "name": "python",
   "nbconvert_exporter": "python",
   "pygments_lexer": "ipython3",
   "version": "3.11.7"
  },
  "orig_nbformat": 4,
  "vscode": {
   "interpreter": {
    "hash": "e7370f93d1d0cde622a1f8e1c04877d8463912d04d973331ad4851f04de6915a"
   }
  }
 },
 "nbformat": 4,
 "nbformat_minor": 2
}
