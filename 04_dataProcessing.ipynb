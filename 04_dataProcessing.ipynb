{
 "cells": [
  {
   "cell_type": "markdown",
   "metadata": {},
   "source": [
    "# Directory\n",
    "Setting up the project and dataset directories"
   ]
  },
  {
   "cell_type": "code",
   "execution_count": 137,
   "metadata": {},
   "outputs": [
    {
     "name": "stdout",
     "output_type": "stream",
     "text": [
      "Current Working Directory: /\n",
      "New working directory: /BigData\n"
     ]
    }
   ],
   "source": [
    "# Set root dir\n",
    "import os\n",
    "\n",
    "os.chdir(\"/\")\n",
    "print(\"Current Working Directory:\", os.getcwd())\n",
    "\n",
    "# !!CHANGE THIS!!\n",
    "working_dir=\"/BigData\"  # BREU + Docker + E: (offline)\n",
    "\n",
    "dataset_dir=f\"{working_dir}/dataset\"\n",
    "\n",
    "dataset_original_csv = f'{dataset_dir}/creditScores.csv'\n",
    "\n",
    "dataset_csv_path = f'{dataset_dir}/creditScores_csv'\n",
    "dataset_json_path = f'{dataset_dir}/creditScores_json'\n",
    "dataset_parquet_path = f'{dataset_dir}/creditScores_parquet'\n",
    "dataset_orc_path = f'{dataset_dir}/creditScores_orc'\n",
    "dataset_avro_path = f'{dataset_dir}/creditScores_avro'\n",
    "\n",
    "clean_dataset_path = f'{dataset_dir}/clean_creditScores_orc'\n",
    "final_dataset_path = f'{dataset_dir}/final_creditScores_orc'\n",
    "\n",
    "outputs = f\"{working_dir}/output\"\n",
    "pipeline_model_path = f\"{outputs}/pipeline_model\"\n",
    "\n",
    "os.chdir(working_dir)\n",
    "print(f\"New working directory: {working_dir}\")\n"
   ]
  },
  {
   "cell_type": "markdown",
   "metadata": {},
   "source": [
    "# Spark"
   ]
  },
  {
   "cell_type": "code",
   "execution_count": 138,
   "metadata": {},
   "outputs": [],
   "source": [
    "from pyspark import SparkConf\n",
    "from pyspark.ml import Pipeline\n",
    "from pyspark.ml.feature import StringIndexer, OneHotEncoder, SQLTransformer\n",
    "from pyspark.sql import functions as F, SparkSession, DataFrame\n",
    "from pyspark.sql.functions import *\n",
    "\n",
    "proj_conf = SparkConf()\\\n",
    "        .setAppName(\"projBigData_performance\")\\\n",
    "        .set(\"spark.driver.memory\", \"16g\")\\\n",
    "        .set(\"spark.jars.packages\", \"org.apache.spark:spark-avro_2.12:3.5.0\")\n",
    "\n",
    "spark = SparkSession.builder.config(conf=proj_conf).getOrCreate()"
   ]
  },
  {
   "cell_type": "code",
   "execution_count": 94,
   "metadata": {},
   "outputs": [],
   "source": [
    "# spark.stop()"
   ]
  },
  {
   "cell_type": "code",
   "execution_count": 139,
   "metadata": {},
   "outputs": [
    {
     "name": "stdout",
     "output_type": "stream",
     "text": [
      "root\n",
      " |-- ID: long (nullable = true)\n",
      " |-- Customer_ID: long (nullable = true)\n",
      " |-- Month: string (nullable = true)\n",
      " |-- Name: string (nullable = true)\n",
      " |-- Age: integer (nullable = true)\n",
      " |-- SSN: string (nullable = true)\n",
      " |-- Occupation: string (nullable = true)\n",
      " |-- Annual_Income: float (nullable = true)\n",
      " |-- Monthly_Inhand_Salary: float (nullable = true)\n",
      " |-- Num_Bank_Accounts: integer (nullable = true)\n",
      " |-- Num_Credit_Card: integer (nullable = true)\n",
      " |-- Interest_Rate: float (nullable = true)\n",
      " |-- Num_of_Loan: integer (nullable = true)\n",
      " |-- Type_of_Loan: string (nullable = true)\n",
      " |-- Delay_from_due_date: integer (nullable = true)\n",
      " |-- Num_of_Delayed_Payment: float (nullable = true)\n",
      " |-- Changed_Credit_Limit: double (nullable = true)\n",
      " |-- Num_Credit_Inquiries: integer (nullable = true)\n",
      " |-- Credit_Mix: string (nullable = true)\n",
      " |-- Outstanding_Debt: float (nullable = true)\n",
      " |-- Credit_Utilization_Ratio: float (nullable = true)\n",
      " |-- Credit_History_Age: integer (nullable = true)\n",
      " |-- Payment_of_Min_Amount: string (nullable = true)\n",
      " |-- Total_EMI_per_month: float (nullable = true)\n",
      " |-- Amount_invested_monthly: float (nullable = true)\n",
      " |-- Payment_Behaviour: string (nullable = true)\n",
      " |-- Monthly_Balance: float (nullable = true)\n",
      " |-- Credit_Score: string (nullable = true)\n",
      "\n"
     ]
    }
   ],
   "source": [
    "df = spark.read.orc(clean_dataset_path)\n",
    "df.printSchema()"
   ]
  },
  {
   "cell_type": "code",
   "execution_count": 96,
   "metadata": {},
   "outputs": [
    {
     "name": "stdout",
     "output_type": "stream",
     "text": [
      "+-----+-----------+--------+-----------------+----+-----------+----------+-------------+---------------------+-----------------+---------------+-------------+-----------+-------------------------------------------------+-------------------+----------------------+--------------------+--------------------+----------+----------------+------------------------+------------------+---------------------+-------------------+-----------------------+--------------------------------+---------------+------------+\n",
      "|ID   |Customer_ID|Month   |Name             |Age |SSN        |Occupation|Annual_Income|Monthly_Inhand_Salary|Num_Bank_Accounts|Num_Credit_Card|Interest_Rate|Num_of_Loan|Type_of_Loan                                     |Delay_from_due_date|Num_of_Delayed_Payment|Changed_Credit_Limit|Num_Credit_Inquiries|Credit_Mix|Outstanding_Debt|Credit_Utilization_Ratio|Credit_History_Age|Payment_of_Min_Amount|Total_EMI_per_month|Amount_invested_monthly|Payment_Behaviour               |Monthly_Balance|Credit_Score|\n",
      "+-----+-----------+--------+-----------------+----+-----------+----------+-------------+---------------------+-----------------+---------------+-------------+-----------+-------------------------------------------------+-------------------+----------------------+--------------------+--------------------+----------+----------------+------------------------+------------------+---------------------+-------------------+-----------------------+--------------------------------+---------------+------------+\n",
      "|27751|1006       |February|Matthias Blamontb|38  |354-65-6948|Journalist|16756.18     |1331.3483            |9                |6              |22.0         |NULL       |Credit-Builder Loan, and Payday Loan             |48                 |12.0                  |10.66               |8                   |Standard  |1941.73         |34.7122                 |183               |Yes                  |27.4421            |90.0784                |Low_spent_Medium_value_payments |295.6143       |Poor        |\n",
      "|27754|1006       |May     |Matthias Blamontb|38  |354-65-6948|Journalist|16756.18     |1331.3483            |9                |6              |22.0         |2          |Credit-Builder Loan, and Payday Loan             |48                 |NULL                  |10.66               |8                   |Standard  |1941.73         |38.7553                 |186               |Yes                  |27.4421            |51.7262                |Low_spent_Large_value_payments  |323.9665       |Poor        |\n",
      "|27753|1006       |April   |Matthias Blamontb|NULL|354-65-6948|Journalist|16756.18     |1331.3483            |9                |6              |22.0         |2          |Credit-Builder Loan, and Payday Loan             |48                 |13.0                  |10.66               |8                   |Standard  |1941.73         |33.7256                 |185               |Yes                  |27.4421            |56.495                 |High_spent_Small_value_payments |309.1978       |Poor        |\n",
      "|27755|1006       |June    |Matthias Blamontb|38  |354-65-6948|Journalist|16756.18     |1331.3483            |9                |6              |22.0         |2          |Credit-Builder Loan, and Payday Loan             |48                 |12.0                  |10.66               |8                   |          |1941.73         |27.1975                 |187               |Yes                  |27.4421            |60.8283                |                                |334.8645       |Poor        |\n",
      "|27757|1006       |August  |Matthias Blamontb|38  |354-65-6948|Journalist|16756.18     |1331.3483            |9                |6              |22.0         |2          |Credit-Builder Loan, and Payday Loan             |48                 |12.0                  |10.66               |8                   |Standard  |1941.73         |25.8125                 |189               |Yes                  |32972.0            |66.7182                |Low_spent_Small_value_payments  |328.9745       |Poor        |\n",
      "|27752|1006       |March   |Matthias Blamontb|38  |354-65-6948|Journalist|16756.18     |1331.3483            |9                |6              |22.0         |2          |Credit-Builder Loan, and Payday Loan             |48                 |12.0                  |10.66               |8                   |Standard  |1941.73         |32.1905                 |184               |Yes                  |27.4421            |61.7327                |Low_spent_Small_value_payments  |333.96         |Poor        |\n",
      "|27756|1006       |July    |Matthias Blamontb|38  |354-65-6948|Journalist|16756.18     |1331.3483            |9                |6              |22.0         |2          |Credit-Builder Loan, and Payday Loan             |48                 |11.0                  |10.66               |8                   |Standard  |1941.73         |23.9244                 |188               |Yes                  |27.4421            |95.6486                |Low_spent_Large_value_payments  |280.0441       |Poor        |\n",
      "|27750|1006       |January |Matthias Blamontb|37  |354-65-6948|Journalist|16756.18     |1331.3483            |9                |6              |22.0         |2          |Credit-Builder Loan, and Payday Loan             |48                 |NULL                  |10.66               |NULL                |Standard  |1941.73         |37.5011                 |182               |Yes                  |27.4421            |45.3011                |High_spent_Medium_value_payments|310.3917       |Poor        |\n",
      "|53255|1007       |June    |Soyoung Kimu     |48  |964-81-2710|Manager   |21212.91     |1496.7426            |3                |4              |10.0         |3          |Home Equity Loan, Mortgage Loan, and Student Loan|19                 |21.0                  |2.13                |1                   |Standard  |993.15          |35.5584                 |NULL              |No                   |45.7457            |NULL                   |                                |239.4648       |Standard    |\n",
      "|53253|1007       |April   |Soyoung Kimu     |48  |964-81-2710|Manager   |21212.91     |1496.7426            |1174             |4              |10.0         |3          |Home Equity Loan, Mortgage Loan, and Student Loan|19                 |19.0                  |5.13                |1                   |Standard  |993.15          |37.475                  |349               |No                   |45.7457            |62.8125                |High_spent_Medium_value_payments|291.1161       |Standard    |\n",
      "|53257|1007       |August  |Soyoung Kimu     |48  |964-81-2710|Manager   |21212.91     |1496.7426            |3                |888            |10.0         |3          |Home Equity Loan, Mortgage Loan, and Student Loan|16                 |19.0                  |5.13                |1                   |Standard  |993.15          |38.9119                 |NULL              |No                   |45.7457            |118.5424               |Low_spent_Small_value_payments  |275.3861       |Poor        |\n",
      "|53252|1007       |March   |Soyoung Kimu     |48  |964-81-2710|Manager   |21212.91     |1496.7426            |3                |4              |10.0         |3          |Home Equity Loan, Mortgage Loan, and Student Loan|19                 |19.0                  |5.13                |1                   |Standard  |993.15          |30.0026                 |348               |No                   |45.7457            |NULL                   |Low_spent_Small_value_payments  |265.4875       |Standard    |\n",
      "|53256|1007       |July    |Soyoung Kimu     |48  |964-81-2710|Manager   |21212.91     |1496.7426            |3                |4              |10.0         |3          |Home Equity Loan, Mortgage Loan, and Student Loan|19                 |20.0                  |5.13                |1                   |          |993.15          |40.6332                 |352               |No                   |45.7457            |59.309                 |Low_spent_Small_value_payments  |334.6196       |Standard    |\n",
      "|53251|1007       |February|Soyoung Kimu     |48  |964-81-2710|Manager   |21212.91     |1496.7426            |3                |4              |10.0         |3          |Home Equity Loan, Mortgage Loan, and Student Loan|19                 |19.0                  |5.13                |1                   |Standard  |993.15          |37.6556                 |347               |No                   |45.7457            |44.32                  |High_spent_Medium_value_payments|309.6086       |Standard    |\n",
      "|53250|1007       |January |Soyoung Kimu     |48  |964-81-2710|Manager   |21212.91     |1496.7426            |3                |4              |10.0         |3          |Home Equity Loan, Mortgage Loan, and Student Loan|19                 |19.0                  |12.13               |1                   |          |993.15          |35.269                  |346               |No                   |45.7457            |30.3735                |High_spent_Medium_value_payments|323.5551       |Standard    |\n",
      "|53254|1007       |May     |Soyoung Kimu     |48  |964-81-2710|Manager   |21212.91     |NULL                 |3                |4              |10.0         |NULL       |Home Equity Loan, Mortgage Loan, and Student Loan|19                 |NULL                  |5.13                |1196                |          |993.15          |35.0043                 |350               |No                   |45.7457            |148.3096               |Low_spent_Small_value_payments  |245.619        |Standard    |\n",
      "|56851|1008       |February|Koht             |37  |802-19-4704|Developer |33540.43     |2655.036             |6                |3              |17.0         |0          |NULL                                             |28                 |11.0                  |14.11               |10                  |Standard  |1138.97         |28.3447                 |293               |Yes                  |0.0                |NULL                   |Low_spent_Large_value_payments  |350.3935       |Standard    |\n",
      "|56853|1008       |April   |Koht             |37  |802-19-4704|Developer |33540.43     |2655.036             |6                |3              |17.0         |0          |NULL                                             |26                 |NULL                  |14.11               |10                  |          |1138.97         |28.3291                 |NULL              |                     |0.0                |170.869                |High_spent_Small_value_payments |354.6346       |Standard    |\n",
      "|56856|1008       |July    |Koht             |37  |802-19-4704|Developer |33540.43     |2655.036             |6                |3              |17.0         |0          |NULL                                             |26                 |11.0                  |14.11               |10                  |Standard  |1138.97         |32.7251                 |298               |Yes                  |0.0                |197.8504               |Low_spent_Large_value_payments  |337.6532       |Standard    |\n",
      "|56857|1008       |August  |Koht             |37  |802-19-4704|Developer |33540.43     |2655.036             |6                |3              |17.0         |0          |NULL                                             |26                 |13.0                  |14.11               |10                  |Standard  |1138.97         |23.6839                 |299               |Yes                  |0.0                |165.2044               |Low_spent_Large_value_payments  |370.2991       |Standard    |\n",
      "+-----+-----------+--------+-----------------+----+-----------+----------+-------------+---------------------+-----------------+---------------+-------------+-----------+-------------------------------------------------+-------------------+----------------------+--------------------+--------------------+----------+----------------+------------------------+------------------+---------------------+-------------------+-----------------------+--------------------------------+---------------+------------+\n",
      "only showing top 20 rows\n",
      "\n"
     ]
    }
   ],
   "source": [
    "df.orderBy(\"Customer_ID\").show(truncate=False)"
   ]
  },
  {
   "cell_type": "markdown",
   "metadata": {},
   "source": [
    "# Process columns (outside pipeline)"
   ]
  },
  {
   "cell_type": "code",
   "execution_count": 97,
   "metadata": {},
   "outputs": [],
   "source": [
    "pipeline_steps = []"
   ]
  },
  {
   "cell_type": "markdown",
   "metadata": {},
   "source": [
    "### Aux functions"
   ]
  },
  {
   "cell_type": "code",
   "execution_count": 98,
   "metadata": {},
   "outputs": [],
   "source": [
    "def check_missing_values(df: DataFrame, column: str) -> None:\n",
    "    missing_count = df.filter((F.col(column).isNull()) | (F.col(column) == \"\")).count() # Considers isNull and Empty string as missing\n",
    "    print(f\"Number of missing values in column '{column}': {missing_count}\")\n",
    "    \n",
    "def check_distinc_values(df: DataFrame, column: str, truncate: bool = True) -> None:\n",
    "    df.select(column).distinct().show(truncate=truncate)\n",
    "\n",
    "def get_distinct_values(df: DataFrame, column_name: str) -> list:\n",
    "    unique_values = df.select(column_name).distinct().rdd.flatMap(lambda x: x).collect()\n",
    "    return unique_values\n",
    "\n",
    "def string_na_missing_values(df: DataFrame, column_name: str) -> DataFrame:\n",
    "    # Replace null values or empty strings in the specified column with the string \"NA\"\n",
    "    df = df.withColumn(column_name, F.when((F.col(column_name).isNull()) | (F.col(column_name) == \"\"), F.lit(\"NA\")).otherwise(F.col(column_name)))\n",
    "    return df"
   ]
  },
  {
   "cell_type": "markdown",
   "metadata": {},
   "source": [
    "#### In handling the empty values we had a few options and proceeded as follows:\n",
    "\n",
    "Numerical Columns -> Filter by customer and replace by most common in the given customer for values which were meant to be constant values such as yearly income within the same year, or occupation.\n",
    "\n",
    "Numerical Columns -> Filter by customer and replace with mean value of the given column for that customer\n",
    "\n",
    "Categorical Columns -> Fill with string \"NA\" as per the function string_na_mising_values\n",
    "\n",
    "---\n",
    "\n",
    "#### Proceeding this way in our view allows us to:\n",
    "\n",
    "Retain data integrity - Not losing rows and information due to dropping them on finding an empty value.\n",
    "\n",
    "Avoiding Bias in the Model - Dropping rows may lead to bias in the model especially if the missing values happen to not be random. It's important to avoid unintentionally excluding certain patterns or groups from your analysis, and marking values as \"NA\" ensures the model considers absence of information.\n",
    "\n",
    "Facilitating impute parameters - On deploying the model, the model is prepared to handle empty values and process them accordingly, with respect to it's training in what that empty value might impact the outcome.\n",
    "\n",
    "Consistency - Consistent approach to handling missing values across most features avoids unintentional external bias."
   ]
  },
  {
   "cell_type": "markdown",
   "metadata": {},
   "source": [
    "## Remove unused columns (cleaning)\n",
    "\n",
    "ID, Name and SSN are not required"
   ]
  },
  {
   "cell_type": "code",
   "execution_count": 99,
   "metadata": {},
   "outputs": [
    {
     "name": "stdout",
     "output_type": "stream",
     "text": [
      "+-----------+--------+----+----------+-------------+---------------------+-----------------+---------------+-------------+-----------+-------------------------------------------------+-------------------+----------------------+--------------------+--------------------+----------+----------------+------------------------+------------------+---------------------+-------------------+-----------------------+--------------------------------+---------------+------------+\n",
      "|Customer_ID|Month   |Age |Occupation|Annual_Income|Monthly_Inhand_Salary|Num_Bank_Accounts|Num_Credit_Card|Interest_Rate|Num_of_Loan|Type_of_Loan                                     |Delay_from_due_date|Num_of_Delayed_Payment|Changed_Credit_Limit|Num_Credit_Inquiries|Credit_Mix|Outstanding_Debt|Credit_Utilization_Ratio|Credit_History_Age|Payment_of_Min_Amount|Total_EMI_per_month|Amount_invested_monthly|Payment_Behaviour               |Monthly_Balance|Credit_Score|\n",
      "+-----------+--------+----+----------+-------------+---------------------+-----------------+---------------+-------------+-----------+-------------------------------------------------+-------------------+----------------------+--------------------+--------------------+----------+----------------+------------------------+------------------+---------------------+-------------------+-----------------------+--------------------------------+---------------+------------+\n",
      "|1006       |August  |38  |Journalist|16756.18     |1331.3483            |9                |6              |22.0         |2          |Credit-Builder Loan, and Payday Loan             |48                 |12.0                  |10.66               |8                   |Standard  |1941.73         |25.8125                 |189               |Yes                  |32972.0            |66.7182                |Low_spent_Small_value_payments  |328.9745       |Poor        |\n",
      "|1006       |April   |NULL|Journalist|16756.18     |1331.3483            |9                |6              |22.0         |2          |Credit-Builder Loan, and Payday Loan             |48                 |13.0                  |10.66               |8                   |Standard  |1941.73         |33.7256                 |185               |Yes                  |27.4421            |56.495                 |High_spent_Small_value_payments |309.1978       |Poor        |\n",
      "|1006       |May     |38  |Journalist|16756.18     |1331.3483            |9                |6              |22.0         |2          |Credit-Builder Loan, and Payday Loan             |48                 |NULL                  |10.66               |8                   |Standard  |1941.73         |38.7553                 |186               |Yes                  |27.4421            |51.7262                |Low_spent_Large_value_payments  |323.9665       |Poor        |\n",
      "|1006       |July    |38  |Journalist|16756.18     |1331.3483            |9                |6              |22.0         |2          |Credit-Builder Loan, and Payday Loan             |48                 |11.0                  |10.66               |8                   |Standard  |1941.73         |23.9244                 |188               |Yes                  |27.4421            |95.6486                |Low_spent_Large_value_payments  |280.0441       |Poor        |\n",
      "|1006       |February|38  |Journalist|16756.18     |1331.3483            |9                |6              |22.0         |NULL       |Credit-Builder Loan, and Payday Loan             |48                 |12.0                  |10.66               |8                   |Standard  |1941.73         |34.7122                 |183               |Yes                  |27.4421            |90.0784                |Low_spent_Medium_value_payments |295.6143       |Poor        |\n",
      "|1006       |June    |38  |Journalist|16756.18     |1331.3483            |9                |6              |22.0         |2          |Credit-Builder Loan, and Payday Loan             |48                 |12.0                  |10.66               |8                   |          |1941.73         |27.1975                 |187               |Yes                  |27.4421            |60.8283                |                                |334.8645       |Poor        |\n",
      "|1006       |January |37  |Journalist|16756.18     |1331.3483            |9                |6              |22.0         |2          |Credit-Builder Loan, and Payday Loan             |48                 |NULL                  |10.66               |NULL                |Standard  |1941.73         |37.5011                 |182               |Yes                  |27.4421            |45.3011                |High_spent_Medium_value_payments|310.3917       |Poor        |\n",
      "|1006       |March   |38  |Journalist|16756.18     |1331.3483            |9                |6              |22.0         |2          |Credit-Builder Loan, and Payday Loan             |48                 |12.0                  |10.66               |8                   |Standard  |1941.73         |32.1905                 |184               |Yes                  |27.4421            |61.7327                |Low_spent_Small_value_payments  |333.96         |Poor        |\n",
      "|1007       |March   |48  |Manager   |21212.91     |1496.7426            |3                |4              |10.0         |3          |Home Equity Loan, Mortgage Loan, and Student Loan|19                 |19.0                  |5.13                |1                   |Standard  |993.15          |30.0026                 |348               |No                   |45.7457            |NULL                   |Low_spent_Small_value_payments  |265.4875       |Standard    |\n",
      "|1007       |July    |48  |Manager   |21212.91     |1496.7426            |3                |4              |10.0         |3          |Home Equity Loan, Mortgage Loan, and Student Loan|19                 |20.0                  |5.13                |1                   |          |993.15          |40.6332                 |352               |No                   |45.7457            |59.309                 |Low_spent_Small_value_payments  |334.6196       |Standard    |\n",
      "|1007       |February|48  |Manager   |21212.91     |1496.7426            |3                |4              |10.0         |3          |Home Equity Loan, Mortgage Loan, and Student Loan|19                 |19.0                  |5.13                |1                   |Standard  |993.15          |37.6556                 |347               |No                   |45.7457            |44.32                  |High_spent_Medium_value_payments|309.6086       |Standard    |\n",
      "|1007       |June    |48  |Manager   |21212.91     |1496.7426            |3                |4              |10.0         |3          |Home Equity Loan, Mortgage Loan, and Student Loan|19                 |21.0                  |2.13                |1                   |Standard  |993.15          |35.5584                 |NULL              |No                   |45.7457            |NULL                   |                                |239.4648       |Standard    |\n",
      "|1007       |May     |48  |Manager   |21212.91     |NULL                 |3                |4              |10.0         |NULL       |Home Equity Loan, Mortgage Loan, and Student Loan|19                 |NULL                  |5.13                |1196                |          |993.15          |35.0043                 |350               |No                   |45.7457            |148.3096               |Low_spent_Small_value_payments  |245.619        |Standard    |\n",
      "|1007       |April   |48  |Manager   |21212.91     |1496.7426            |1174             |4              |10.0         |3          |Home Equity Loan, Mortgage Loan, and Student Loan|19                 |19.0                  |5.13                |1                   |Standard  |993.15          |37.475                  |349               |No                   |45.7457            |62.8125                |High_spent_Medium_value_payments|291.1161       |Standard    |\n",
      "|1007       |January |48  |Manager   |21212.91     |1496.7426            |3                |4              |10.0         |3          |Home Equity Loan, Mortgage Loan, and Student Loan|19                 |19.0                  |12.13               |1                   |          |993.15          |35.269                  |346               |No                   |45.7457            |30.3735                |High_spent_Medium_value_payments|323.5551       |Standard    |\n",
      "|1007       |August  |48  |Manager   |21212.91     |1496.7426            |3                |888            |10.0         |3          |Home Equity Loan, Mortgage Loan, and Student Loan|16                 |19.0                  |5.13                |1                   |Standard  |993.15          |38.9119                 |NULL              |No                   |45.7457            |118.5424               |Low_spent_Small_value_payments  |275.3861       |Poor        |\n",
      "|1008       |August  |37  |Developer |33540.43     |2655.036             |6                |3              |17.0         |0          |NULL                                             |26                 |13.0                  |14.11               |10                  |Standard  |1138.97         |23.6839                 |299               |Yes                  |0.0                |165.2044               |Low_spent_Large_value_payments  |370.2991       |Standard    |\n",
      "|1008       |March   |37  |Developer |33540.43     |2655.036             |6                |3              |17.0         |0          |NULL                                             |22                 |11.0                  |14.11               |10                  |Standard  |1138.97         |33.2652                 |294               |Yes                  |0.0                |337.1997               |Low_spent_Small_value_payments  |218.3038       |Standard    |\n",
      "|1008       |April   |37  |Developer |33540.43     |2655.036             |6                |3              |17.0         |0          |NULL                                             |26                 |NULL                  |14.11               |10                  |          |1138.97         |28.3291                 |NULL              |                     |0.0                |170.869                |High_spent_Small_value_payments |354.6346       |Standard    |\n",
      "|1008       |January |3452|Developer |33540.43     |2655.036             |6                |3              |17.0         |0          |NULL                                             |25                 |11.0                  |14.11               |6                   |          |1138.97         |27.8162                 |292               |Yes                  |0.0                |118.8807               |High_spent_Small_value_payments |406.6229       |Standard    |\n",
      "+-----------+--------+----+----------+-------------+---------------------+-----------------+---------------+-------------+-----------+-------------------------------------------------+-------------------+----------------------+--------------------+--------------------+----------+----------------+------------------------+------------------+---------------------+-------------------+-----------------------+--------------------------------+---------------+------------+\n",
      "only showing top 20 rows\n",
      "\n"
     ]
    }
   ],
   "source": [
    "to_drop = [\"ID\", \"Name\", \"SSN\"]\n",
    "for col in to_drop:\n",
    "    df = df.drop(col)\n",
    "\n",
    "df.orderBy(\"Customer_ID\").show(truncate=False)\n",
    "\n",
    "# We will be keeping Customer_ID for now as a means to populate other columns based on data that's universal for every entry of the same Customer_ID"
   ]
  },
  {
   "cell_type": "markdown",
   "metadata": {},
   "source": [
    "## Dealing with Outliers"
   ]
  },
  {
   "cell_type": "code",
   "execution_count": 100,
   "metadata": {},
   "outputs": [],
   "source": [
    "def iqr_outlier_treatment(dataframe: DataFrame, columns: list, factor=3):\n",
    "\n",
    "    for column in columns:\n",
    "        # Calculate Q1, Q3, and IQR\n",
    "        quantiles = dataframe.approxQuantile(column, [0.25, 0.75], 0.01)\n",
    "        q1, q3 = quantiles[0], quantiles[1]\n",
    "        iqr = q3 - q1\n",
    "\n",
    "        # Define the upper and lower bounds for outliers\n",
    "        lower_bound = q1 - factor * iqr\n",
    "        upper_bound = q3 + factor * iqr\n",
    "\n",
    "        # Replace outliers with empty values\n",
    "        dataframe = dataframe.withColumn(column, F.when((F.col(column) < lower_bound) | (F.col(column) > upper_bound), None).otherwise(F.col(column)))\n",
    "\n",
    "    return dataframe"
   ]
  },
  {
   "cell_type": "code",
   "execution_count": 101,
   "metadata": {},
   "outputs": [
    {
     "data": {
      "text/plain": [
       "['Age',\n",
       " 'Annual_Income',\n",
       " 'Monthly_Inhand_Salary',\n",
       " 'Num_Bank_Accounts',\n",
       " 'Num_Credit_Card',\n",
       " 'Interest_Rate',\n",
       " 'Num_of_Loan',\n",
       " 'Delay_from_due_date',\n",
       " 'Num_of_Delayed_Payment',\n",
       " 'Changed_Credit_Limit',\n",
       " 'Num_Credit_Inquiries',\n",
       " 'Outstanding_Debt',\n",
       " 'Credit_Utilization_Ratio',\n",
       " 'Credit_History_Age',\n",
       " 'Total_EMI_per_month',\n",
       " 'Amount_invested_monthly',\n",
       " 'Monthly_Balance']"
      ]
     },
     "execution_count": 101,
     "metadata": {},
     "output_type": "execute_result"
    }
   ],
   "source": [
    "numeric_columns = ['Age', 'Annual_Income', 'Monthly_Inhand_Salary', 'Num_Bank_Accounts', 'Num_Credit_Card',\n",
    "          'Interest_Rate', 'Num_of_Loan', 'Delay_from_due_date', 'Num_of_Delayed_Payment', 'Changed_Credit_Limit',\n",
    "          'Num_Credit_Inquiries', 'Outstanding_Debt', 'Credit_Utilization_Ratio', 'Credit_History_Age', 'Total_EMI_per_month',\n",
    "          'Amount_invested_monthly', 'Monthly_Balance']\n",
    "\n",
    "numeric_columns"
   ]
  },
  {
   "cell_type": "code",
   "execution_count": 102,
   "metadata": {},
   "outputs": [],
   "source": [
    "df = iqr_outlier_treatment(df, numeric_columns)"
   ]
  },
  {
   "cell_type": "code",
   "execution_count": 103,
   "metadata": {},
   "outputs": [
    {
     "name": "stdout",
     "output_type": "stream",
     "text": [
      "+-----------+--------+----+----------+-------------+---------------------+-----------------+---------------+-------------+-----------+--------------------+-------------------+----------------------+--------------------+--------------------+----------+----------------+------------------------+------------------+---------------------+-------------------+-----------------------+--------------------+---------------+------------+\n",
      "|Customer_ID|   Month| Age|Occupation|Annual_Income|Monthly_Inhand_Salary|Num_Bank_Accounts|Num_Credit_Card|Interest_Rate|Num_of_Loan|        Type_of_Loan|Delay_from_due_date|Num_of_Delayed_Payment|Changed_Credit_Limit|Num_Credit_Inquiries|Credit_Mix|Outstanding_Debt|Credit_Utilization_Ratio|Credit_History_Age|Payment_of_Min_Amount|Total_EMI_per_month|Amount_invested_monthly|   Payment_Behaviour|Monthly_Balance|Credit_Score|\n",
      "+-----------+--------+----+----------+-------------+---------------------+-----------------+---------------+-------------+-----------+--------------------+-------------------+----------------------+--------------------+--------------------+----------+----------------+------------------------+------------------+---------------------+-------------------+-----------------------+--------------------+---------------+------------+\n",
      "|       1006|     May|  38|Journalist|     16756.18|            1331.3483|                9|              6|         22.0|          2|Credit-Builder Lo...|                 48|                  NULL|               10.66|                   8|  Standard|         1941.73|                 38.7553|               186|                  Yes|            27.4421|                51.7262|Low_spent_Large_v...|       323.9665|        Poor|\n",
      "|       1006|February|  38|Journalist|     16756.18|            1331.3483|                9|              6|         22.0|       NULL|Credit-Builder Lo...|                 48|                  12.0|               10.66|                   8|  Standard|         1941.73|                 34.7122|               183|                  Yes|            27.4421|                90.0784|Low_spent_Medium_...|       295.6143|        Poor|\n",
      "|       1006|  August|  38|Journalist|     16756.18|            1331.3483|                9|              6|         22.0|          2|Credit-Builder Lo...|                 48|                  12.0|               10.66|                   8|  Standard|         1941.73|                 25.8125|               189|                  Yes|               NULL|                66.7182|Low_spent_Small_v...|       328.9745|        Poor|\n",
      "|       1006|   April|NULL|Journalist|     16756.18|            1331.3483|                9|              6|         22.0|          2|Credit-Builder Lo...|                 48|                  13.0|               10.66|                   8|  Standard|         1941.73|                 33.7256|               185|                  Yes|            27.4421|                 56.495|High_spent_Small_...|       309.1978|        Poor|\n",
      "|       1006| January|  37|Journalist|     16756.18|            1331.3483|                9|              6|         22.0|          2|Credit-Builder Lo...|                 48|                  NULL|               10.66|                NULL|  Standard|         1941.73|                 37.5011|               182|                  Yes|            27.4421|                45.3011|High_spent_Medium...|       310.3917|        Poor|\n",
      "|       1006|    June|  38|Journalist|     16756.18|            1331.3483|                9|              6|         22.0|          2|Credit-Builder Lo...|                 48|                  12.0|               10.66|                   8|          |         1941.73|                 27.1975|               187|                  Yes|            27.4421|                60.8283|                    |       334.8645|        Poor|\n",
      "|       1006|    July|  38|Journalist|     16756.18|            1331.3483|                9|              6|         22.0|          2|Credit-Builder Lo...|                 48|                  11.0|               10.66|                   8|  Standard|         1941.73|                 23.9244|               188|                  Yes|            27.4421|                95.6486|Low_spent_Large_v...|       280.0441|        Poor|\n",
      "|       1006|   March|  38|Journalist|     16756.18|            1331.3483|                9|              6|         22.0|          2|Credit-Builder Lo...|                 48|                  12.0|               10.66|                   8|  Standard|         1941.73|                 32.1905|               184|                  Yes|            27.4421|                61.7327|Low_spent_Small_v...|         333.96|        Poor|\n",
      "|       1007|    June|  48|   Manager|     21212.91|            1496.7426|                3|              4|         10.0|          3|Home Equity Loan,...|                 19|                  21.0|                2.13|                   1|  Standard|          993.15|                 35.5584|              NULL|                   No|            45.7457|                   NULL|                    |       239.4648|    Standard|\n",
      "|       1007|    July|  48|   Manager|     21212.91|            1496.7426|                3|              4|         10.0|          3|Home Equity Loan,...|                 19|                  20.0|                5.13|                   1|          |          993.15|                 40.6332|               352|                   No|            45.7457|                 59.309|Low_spent_Small_v...|       334.6196|    Standard|\n",
      "|       1007|  August|  48|   Manager|     21212.91|            1496.7426|                3|           NULL|         10.0|          3|Home Equity Loan,...|                 16|                  19.0|                5.13|                   1|  Standard|          993.15|                 38.9119|              NULL|                   No|            45.7457|               118.5424|Low_spent_Small_v...|       275.3861|        Poor|\n",
      "|       1007| January|  48|   Manager|     21212.91|            1496.7426|                3|              4|         10.0|          3|Home Equity Loan,...|                 19|                  19.0|               12.13|                   1|          |          993.15|                  35.269|               346|                   No|            45.7457|                30.3735|High_spent_Medium...|       323.5551|    Standard|\n",
      "|       1007|     May|  48|   Manager|     21212.91|                 NULL|                3|              4|         10.0|       NULL|Home Equity Loan,...|                 19|                  NULL|                5.13|                NULL|          |          993.15|                 35.0043|               350|                   No|            45.7457|               148.3096|Low_spent_Small_v...|        245.619|    Standard|\n",
      "|       1007|   March|  48|   Manager|     21212.91|            1496.7426|                3|              4|         10.0|          3|Home Equity Loan,...|                 19|                  19.0|                5.13|                   1|  Standard|          993.15|                 30.0026|               348|                   No|            45.7457|                   NULL|Low_spent_Small_v...|       265.4875|    Standard|\n",
      "|       1007|   April|  48|   Manager|     21212.91|            1496.7426|             NULL|              4|         10.0|          3|Home Equity Loan,...|                 19|                  19.0|                5.13|                   1|  Standard|          993.15|                  37.475|               349|                   No|            45.7457|                62.8125|High_spent_Medium...|       291.1161|    Standard|\n",
      "|       1007|February|  48|   Manager|     21212.91|            1496.7426|                3|              4|         10.0|          3|Home Equity Loan,...|                 19|                  19.0|                5.13|                   1|  Standard|          993.15|                 37.6556|               347|                   No|            45.7457|                  44.32|High_spent_Medium...|       309.6086|    Standard|\n",
      "|       1008|February|  37| Developer|     33540.43|             2655.036|                6|              3|         17.0|          0|                NULL|                 28|                  11.0|               14.11|                  10|  Standard|         1138.97|                 28.3447|               293|                  Yes|                0.0|                   NULL|Low_spent_Large_v...|       350.3935|    Standard|\n",
      "|       1008|   April|  37| Developer|     33540.43|             2655.036|                6|              3|         17.0|          0|                NULL|                 26|                  NULL|               14.11|                  10|          |         1138.97|                 28.3291|              NULL|                     |                0.0|                170.869|High_spent_Small_...|       354.6346|    Standard|\n",
      "|       1008|    July|  37| Developer|     33540.43|             2655.036|                6|              3|         17.0|          0|                NULL|                 26|                  11.0|               14.11|                  10|  Standard|         1138.97|                 32.7251|               298|                  Yes|                0.0|               197.8504|Low_spent_Large_v...|       337.6532|    Standard|\n",
      "|       1008|  August|  37| Developer|     33540.43|             2655.036|                6|              3|         17.0|          0|                NULL|                 26|                  13.0|               14.11|                  10|  Standard|         1138.97|                 23.6839|               299|                  Yes|                0.0|               165.2044|Low_spent_Large_v...|       370.2991|    Standard|\n",
      "+-----------+--------+----+----------+-------------+---------------------+-----------------+---------------+-------------+-----------+--------------------+-------------------+----------------------+--------------------+--------------------+----------+----------------+------------------------+------------------+---------------------+-------------------+-----------------------+--------------------+---------------+------------+\n",
      "only showing top 20 rows\n",
      "\n"
     ]
    }
   ],
   "source": [
    "df.orderBy(\"Customer_ID\").show()"
   ]
  },
  {
   "cell_type": "markdown",
   "metadata": {},
   "source": [
    "## Age (cleaning)\n",
    "\n",
    "There are a lot of ages that do not make sense.\n",
    "\n",
    "We need to ensure that every client records has the same age or a diference of 1."
   ]
  },
  {
   "cell_type": "code",
   "execution_count": 104,
   "metadata": {},
   "outputs": [
    {
     "name": "stdout",
     "output_type": "stream",
     "text": [
      "+-----------+---------------+\n",
      "|Customer_ID|Most_Common_Age|\n",
      "+-----------+---------------+\n",
      "|       1006|             38|\n",
      "|       1007|             48|\n",
      "|       1008|             37|\n",
      "|       1009|             22|\n",
      "|       1011|             44|\n",
      "|       1013|             30|\n",
      "|       1014|             55|\n",
      "|       1015|             25|\n",
      "|       1017|             27|\n",
      "|       1019|             30|\n",
      "+-----------+---------------+\n",
      "only showing top 10 rows\n",
      "\n"
     ]
    }
   ],
   "source": [
    "from pyspark.sql import functions as F\n",
    "from pyspark.sql.window import Window\n",
    "\n",
    "# 1) Calculate mode (most common val by customer)\n",
    "age_mode_df = (df.groupBy('Customer_ID', 'Age')\n",
    "               .count()\n",
    "               .withColumn('max_count', F.max('count').over(Window.partitionBy('Customer_ID')))\n",
    "               .where(F.col('count') == F.col('max_count'))\n",
    "               .drop('count', 'max_count')\n",
    "               .withColumnRenamed('Age', 'Most_Common_Age'))\n",
    "\n",
    "age_mode_df.show(10)"
   ]
  },
  {
   "cell_type": "code",
   "execution_count": 105,
   "metadata": {},
   "outputs": [
    {
     "name": "stdout",
     "output_type": "stream",
     "text": [
      "+-----------+--------+---+-------------+-------------+---------------------+-----------------+---------------+-------------+-----------+--------------------+-------------------+----------------------+--------------------+--------------------+----------+----------------+------------------------+------------------+---------------------+-------------------+-----------------------+--------------------+---------------+------------+---------------+--------------+\n",
      "|Customer_ID|   Month|Age|   Occupation|Annual_Income|Monthly_Inhand_Salary|Num_Bank_Accounts|Num_Credit_Card|Interest_Rate|Num_of_Loan|        Type_of_Loan|Delay_from_due_date|Num_of_Delayed_Payment|Changed_Credit_Limit|Num_Credit_Inquiries|Credit_Mix|Outstanding_Debt|Credit_Utilization_Ratio|Credit_History_Age|Payment_of_Min_Amount|Total_EMI_per_month|Amount_invested_monthly|   Payment_Behaviour|Monthly_Balance|Credit_Score|Most_Common_Age|age_difference|\n",
      "+-----------+--------+---+-------------+-------------+---------------------+-----------------+---------------+-------------+-----------+--------------------+-------------------+----------------------+--------------------+--------------------+----------+----------------+------------------------+------------------+---------------------+-------------------+-----------------------+--------------------+---------------+------------+---------------+--------------+\n",
      "|       6159| January| 29|    Scientist|     30028.29|            2286.3574|                3|              6|         10.0|          4|Personal Loan, St...|                 15|                  20.0|               17.65|                   8|  Standard|         1410.84|                 34.0156|                80|                  Yes|            76.3204|               192.5217|Low_spent_Large_v...|       229.7936|    Standard|             29|             0|\n",
      "|      42577|February| 26|    Developer|     73802.24|            5971.1865|                8|             10|         17.0|          8|Debt Consolidatio...|                 47|                  18.0|               17.61|                   6|       Bad|         3626.94|                  37.803|                71|                  Yes|           487.3028|                40.2993|High_spent_Large_...|       309.5166|        Poor|             26|             0|\n",
      "|      12073|   April| 15|      Teacher|     58306.26|             4750.855|                6|              5|         25.0|          3|Credit-Builder Lo...|                 28|                   7.0|                9.49|                  11|  Standard|         1628.95|                 29.4736|               182|                     |           101.0695|               256.4764|Low_spent_Medium_...|       397.5396|        Poor|             15|             0|\n",
      "|      27460|     May| 39|    Developer|     20742.46|            1801.5383|                5|              4|          8.0|          5|Home Equity Loan,...|                 14|                  21.0|                16.0|                   8|  Standard|         1319.87|                 31.2792|               198|                  Yes|            60.0661|                   NULL|Low_spent_Small_v...|       316.0947|    Standard|             39|             0|\n",
      "|      26985|   March| 55|       Writer|     124623.9|            10305.325|                5|              2|         10.0|          4|Mortgage Loan, Mo...|                  4|                  12.0|                5.76|                   2|      Good|         1039.13|                 39.6102|               310|                   No|           321.0803|               319.5629|High_spent_Medium...|       639.8894|        Good|             55|             0|\n",
      "|      26985|   March| 55|       Writer|     124623.9|            10305.325|                5|              2|         10.0|          4|Mortgage Loan, Mo...|                  4|                  12.0|                5.76|                   2|      Good|         1039.13|                 39.6102|               310|                   No|           321.0803|               319.5629|High_spent_Medium...|       639.8894|        Good|             56|             1|\n",
      "|       2649|    July| 37|   Journalist|     20961.27|            1833.7725|               11|             11|         16.0|          3|Home Equity Loan,...|                 39|                  18.0|                7.12|                NULL|  Standard|         1917.28|                 36.5145|               197|                     |             43.215|                71.4385|High_spent_Medium...|       318.7237|        Poor|             37|             0|\n",
      "|      20214|   April| 39|    Scientist|     31372.54|            2741.3784|                8|              6|         28.0|          7|Auto Loan, Debt C...|                 18|                  15.0|               18.82|                  11|       Bad|         3231.08|                 26.6435|                25|                  Yes|           121.9598|                   NULL|High_spent_Medium...|        309.897|    Standard|             39|             0|\n",
      "|      37397| January| 32|Media_Manager|     36196.52|            3201.3767|                8|              7|         33.0|          5|Payday Loan, Stud...|                 45|                  20.0|               21.53|                  12|       Bad|         4730.21|                 27.7222|               152|                  Yes|           108.5759|                87.4147|Low_spent_Medium_...|       404.1471|    Standard|             32|             0|\n",
      "|       5968|   April| 37|      Teacher|     10021.72|             548.1433|                7|              8|         32.0|          7|Home Equity Loan,...|                 22|                  18.0|                8.97|                  12|       Bad|         2150.61|                 28.9429|                66|                  Yes|            46.9865|                 25.195|Low_spent_Medium_...|       262.6328|        Poor|             37|             0|\n",
      "|      38237|   April| 18|    Scientist|      9536.42|             769.7017|                7|              5|         26.0|          6|Personal Loan, St...|                 27|                  19.0|                5.26|                  15|       Bad|         1298.56|                 31.5486|               238|                  Yes|            37.0934|                27.8434|                    |       292.0334|        Poor|             18|             0|\n",
      "|      49486|February| 31|     Engineer|     42578.46|             3811.205|               10|              7|         34.0|          5|Debt Consolidatio...|                 27|                  18.0|               22.22|                   8|       Bad|         3538.34|                 30.1147|                 6|                  Yes|           109.6764|                   NULL|High_spent_Small_...|        303.699|        Poor|             31|             0|\n",
      "|      40362|   April| 51| Entrepreneur|     36137.59|            2876.4658|                3|              4|          2.0|          4|Debt Consolidatio...|                  6|                   0.0|                7.21|                   2|      Good|         1261.71|                 23.1909|               329|                   No|            73.1408|                38.4252|High_spent_Large_...|       416.0805|        Good|             51|             0|\n",
      "|       4499| January| 45|    Developer|     31877.72|            2571.4768|                3|              6|         20.0|          1| Credit-Builder Loan|                 28|                  16.0|                1.46|                   2|  Standard|          886.59|                 36.0235|              NULL|                   No|            21.7944|                89.7186|Low_spent_Medium_...|       425.6347|    Standard|             46|             1|\n",
      "|      35601|    June| 23| Entrepreneur|    12837.245|                 NULL|                8|              4|         10.0|          3|Personal Loan, Pa...|                 11|                  11.0|                4.34|                   0|  Standard|         1222.28|                 24.4745|               340|                   No|            21.2433|                43.1339|Low_spent_Large_v...|       289.3998|    Standard|             23|             0|\n",
      "|      28268|    July| 26|Media_Manager|     59458.29|            4692.8574|                8|              5|         13.0|          1|       Personal Loan|                 27|                  20.0|                6.62|                   1|  Standard|         1114.52|                  39.197|               233|                  Yes|             26.333|                51.7036|High_spent_Large_...|       631.2492|    Standard|             26|             0|\n",
      "|       8641|     May| 53|    Architect|    107280.66|             8671.055|             NULL|              5|         10.0|          1|         Payday Loan|                 30|                  13.0|               13.23|                   4|  Standard|         1028.07|                 36.4534|              NULL|                  Yes|            51.4764|               177.3554|High_spent_Large_...|       878.2738|    Standard|             53|             0|\n",
      "|      34387|February| 38|   Accountant|     14958.54|             1192.545|                6|             10|         18.0|          7|Debt Consolidatio...|                 41|                  NULL|               17.88|                   8|  Standard|         1746.06|                 31.8223|              NULL|                  Yes|            71.1732|                   42.0|                    |       296.0813|        Poor|             38|             0|\n",
      "|      48088|   March| 21|   Accountant|     88275.18|             7607.265|                8|              4|          7.0|          2|Not Specified, an...|                 14|                   7.0|               18.42|                   6|  Standard|          141.75|                  32.497|               282|                  Yes|           140.5728|               385.8087|Low_spent_Large_v...|        504.345|    Standard|             21|             0|\n",
      "|       2305|    June| 39|    Architect|     19041.48|              1883.79|                7|              7|         16.0|          7|Home Equity Loan,...|                 50|                  NULL|                6.64|                  11|       Bad|         1819.24|                 25.4828|                93|                  Yes|            83.1881|                35.1758|High_spent_Large_...|       310.0151|    Standard|             39|             0|\n",
      "+-----------+--------+---+-------------+-------------+---------------------+-----------------+---------------+-------------+-----------+--------------------+-------------------+----------------------+--------------------+--------------------+----------+----------------+------------------------+------------------+---------------------+-------------------+-----------------------+--------------------+---------------+------------+---------------+--------------+\n",
      "only showing top 20 rows\n",
      "\n"
     ]
    }
   ],
   "source": [
    "# # 2) Calc difference between ages and most common\n",
    "df = df.join(age_mode_df, 'Customer_ID', 'left')\n",
    "df = df.withColumn('age_difference', F.abs(F.col('Age') - F.col('Most_Common_Age')))\n",
    "\n",
    "df.show()"
   ]
  },
  {
   "cell_type": "code",
   "execution_count": 106,
   "metadata": {},
   "outputs": [
    {
     "name": "stdout",
     "output_type": "stream",
     "text": [
      "+-----------+--------+----+----------+-------------+---------------------+-----------------+---------------+-------------+-----------+--------------------+-------------------+----------------------+--------------------+--------------------+----------+----------------+------------------------+------------------+---------------------+-------------------+-----------------------+--------------------+---------------+------------+---------------+--------------+\n",
      "|Customer_ID|   Month| Age|Occupation|Annual_Income|Monthly_Inhand_Salary|Num_Bank_Accounts|Num_Credit_Card|Interest_Rate|Num_of_Loan|        Type_of_Loan|Delay_from_due_date|Num_of_Delayed_Payment|Changed_Credit_Limit|Num_Credit_Inquiries|Credit_Mix|Outstanding_Debt|Credit_Utilization_Ratio|Credit_History_Age|Payment_of_Min_Amount|Total_EMI_per_month|Amount_invested_monthly|   Payment_Behaviour|Monthly_Balance|Credit_Score|Most_Common_Age|age_difference|\n",
      "+-----------+--------+----+----------+-------------+---------------------+-----------------+---------------+-------------+-----------+--------------------+-------------------+----------------------+--------------------+--------------------+----------+----------------+------------------------+------------------+---------------------+-------------------+-----------------------+--------------------+---------------+------------+---------------+--------------+\n",
      "|       1006|  August|  38|Journalist|     16756.18|            1331.3483|                9|              6|         22.0|          2|Credit-Builder Lo...|                 48|                  12.0|               10.66|                   8|  Standard|         1941.73|                 25.8125|               189|                  Yes|               NULL|                66.7182|Low_spent_Small_v...|       328.9745|        Poor|             38|             0|\n",
      "|       1006|February|  38|Journalist|     16756.18|            1331.3483|                9|              6|         22.0|       NULL|Credit-Builder Lo...|                 48|                  12.0|               10.66|                   8|  Standard|         1941.73|                 34.7122|               183|                  Yes|            27.4421|                90.0784|Low_spent_Medium_...|       295.6143|        Poor|             38|             0|\n",
      "|       1006|   April|NULL|Journalist|     16756.18|            1331.3483|                9|              6|         22.0|          2|Credit-Builder Lo...|                 48|                  13.0|               10.66|                   8|  Standard|         1941.73|                 33.7256|               185|                  Yes|            27.4421|                 56.495|High_spent_Small_...|       309.1978|        Poor|             38|          NULL|\n",
      "|       1006|     May|  38|Journalist|     16756.18|            1331.3483|                9|              6|         22.0|          2|Credit-Builder Lo...|                 48|                  NULL|               10.66|                   8|  Standard|         1941.73|                 38.7553|               186|                  Yes|            27.4421|                51.7262|Low_spent_Large_v...|       323.9665|        Poor|             38|             0|\n",
      "|       1006|    July|  38|Journalist|     16756.18|            1331.3483|                9|              6|         22.0|          2|Credit-Builder Lo...|                 48|                  11.0|               10.66|                   8|  Standard|         1941.73|                 23.9244|               188|                  Yes|            27.4421|                95.6486|Low_spent_Large_v...|       280.0441|        Poor|             38|             0|\n",
      "|       1006| January|  37|Journalist|     16756.18|            1331.3483|                9|              6|         22.0|          2|Credit-Builder Lo...|                 48|                  NULL|               10.66|                NULL|  Standard|         1941.73|                 37.5011|               182|                  Yes|            27.4421|                45.3011|High_spent_Medium...|       310.3917|        Poor|             38|             1|\n",
      "|       1006|    June|  38|Journalist|     16756.18|            1331.3483|                9|              6|         22.0|          2|Credit-Builder Lo...|                 48|                  12.0|               10.66|                   8|          |         1941.73|                 27.1975|               187|                  Yes|            27.4421|                60.8283|                    |       334.8645|        Poor|             38|             0|\n",
      "|       1006|   March|  38|Journalist|     16756.18|            1331.3483|                9|              6|         22.0|          2|Credit-Builder Lo...|                 48|                  12.0|               10.66|                   8|  Standard|         1941.73|                 32.1905|               184|                  Yes|            27.4421|                61.7327|Low_spent_Small_v...|         333.96|        Poor|             38|             0|\n",
      "|       1007|    July|  48|   Manager|     21212.91|            1496.7426|                3|              4|         10.0|          3|Home Equity Loan,...|                 19|                  20.0|                5.13|                   1|          |          993.15|                 40.6332|               352|                   No|            45.7457|                 59.309|Low_spent_Small_v...|       334.6196|    Standard|             48|             0|\n",
      "|       1007|    June|  48|   Manager|     21212.91|            1496.7426|                3|              4|         10.0|          3|Home Equity Loan,...|                 19|                  21.0|                2.13|                   1|  Standard|          993.15|                 35.5584|              NULL|                   No|            45.7457|                   NULL|                    |       239.4648|    Standard|             48|             0|\n",
      "+-----------+--------+----+----------+-------------+---------------------+-----------------+---------------+-------------+-----------+--------------------+-------------------+----------------------+--------------------+--------------------+----------+----------------+------------------------+------------------+---------------------+-------------------+-----------------------+--------------------+---------------+------------+---------------+--------------+\n",
      "only showing top 10 rows\n",
      "\n"
     ]
    }
   ],
   "source": [
    "df.orderBy(\"Customer_ID\").show(10)"
   ]
  },
  {
   "cell_type": "code",
   "execution_count": 107,
   "metadata": {},
   "outputs": [],
   "source": [
    "# 3) Identify and replace outliers (more than 1 year diff)\n",
    "df = df.withColumn('Age', F.when((df['age_difference'] > 1) | df['Age'].isNull(), df['Most_Common_Age']).otherwise(df['Age']))"
   ]
  },
  {
   "cell_type": "code",
   "execution_count": 108,
   "metadata": {},
   "outputs": [
    {
     "name": "stdout",
     "output_type": "stream",
     "text": [
      "+-----------+--------+---+----------+-------------+---------------------+-----------------+---------------+-------------+-----------+--------------------+-------------------+----------------------+--------------------+--------------------+----------+----------------+------------------------+------------------+---------------------+-------------------+-----------------------+--------------------+---------------+------------+---------------+--------------+\n",
      "|Customer_ID|   Month|Age|Occupation|Annual_Income|Monthly_Inhand_Salary|Num_Bank_Accounts|Num_Credit_Card|Interest_Rate|Num_of_Loan|        Type_of_Loan|Delay_from_due_date|Num_of_Delayed_Payment|Changed_Credit_Limit|Num_Credit_Inquiries|Credit_Mix|Outstanding_Debt|Credit_Utilization_Ratio|Credit_History_Age|Payment_of_Min_Amount|Total_EMI_per_month|Amount_invested_monthly|   Payment_Behaviour|Monthly_Balance|Credit_Score|Most_Common_Age|age_difference|\n",
      "+-----------+--------+---+----------+-------------+---------------------+-----------------+---------------+-------------+-----------+--------------------+-------------------+----------------------+--------------------+--------------------+----------+----------------+------------------------+------------------+---------------------+-------------------+-----------------------+--------------------+---------------+------------+---------------+--------------+\n",
      "|       1006|     May| 38|Journalist|     16756.18|            1331.3483|                9|              6|         22.0|          2|Credit-Builder Lo...|                 48|                  NULL|               10.66|                   8|  Standard|         1941.73|                 38.7553|               186|                  Yes|            27.4421|                51.7262|Low_spent_Large_v...|       323.9665|        Poor|             38|             0|\n",
      "|       1006|   April| 38|Journalist|     16756.18|            1331.3483|                9|              6|         22.0|          2|Credit-Builder Lo...|                 48|                  13.0|               10.66|                   8|  Standard|         1941.73|                 33.7256|               185|                  Yes|            27.4421|                 56.495|High_spent_Small_...|       309.1978|        Poor|             38|          NULL|\n",
      "|       1006|  August| 38|Journalist|     16756.18|            1331.3483|                9|              6|         22.0|          2|Credit-Builder Lo...|                 48|                  12.0|               10.66|                   8|  Standard|         1941.73|                 25.8125|               189|                  Yes|               NULL|                66.7182|Low_spent_Small_v...|       328.9745|        Poor|             38|             0|\n",
      "|       1006|    July| 38|Journalist|     16756.18|            1331.3483|                9|              6|         22.0|          2|Credit-Builder Lo...|                 48|                  11.0|               10.66|                   8|  Standard|         1941.73|                 23.9244|               188|                  Yes|            27.4421|                95.6486|Low_spent_Large_v...|       280.0441|        Poor|             38|             0|\n",
      "|       1006|February| 38|Journalist|     16756.18|            1331.3483|                9|              6|         22.0|       NULL|Credit-Builder Lo...|                 48|                  12.0|               10.66|                   8|  Standard|         1941.73|                 34.7122|               183|                  Yes|            27.4421|                90.0784|Low_spent_Medium_...|       295.6143|        Poor|             38|             0|\n",
      "|       1006| January| 37|Journalist|     16756.18|            1331.3483|                9|              6|         22.0|          2|Credit-Builder Lo...|                 48|                  NULL|               10.66|                NULL|  Standard|         1941.73|                 37.5011|               182|                  Yes|            27.4421|                45.3011|High_spent_Medium...|       310.3917|        Poor|             38|             1|\n",
      "|       1006|    June| 38|Journalist|     16756.18|            1331.3483|                9|              6|         22.0|          2|Credit-Builder Lo...|                 48|                  12.0|               10.66|                   8|          |         1941.73|                 27.1975|               187|                  Yes|            27.4421|                60.8283|                    |       334.8645|        Poor|             38|             0|\n",
      "|       1006|   March| 38|Journalist|     16756.18|            1331.3483|                9|              6|         22.0|          2|Credit-Builder Lo...|                 48|                  12.0|               10.66|                   8|  Standard|         1941.73|                 32.1905|               184|                  Yes|            27.4421|                61.7327|Low_spent_Small_v...|         333.96|        Poor|             38|             0|\n",
      "|       1007|   March| 48|   Manager|     21212.91|            1496.7426|                3|              4|         10.0|          3|Home Equity Loan,...|                 19|                  19.0|                5.13|                   1|  Standard|          993.15|                 30.0026|               348|                   No|            45.7457|                   NULL|Low_spent_Small_v...|       265.4875|    Standard|             48|             0|\n",
      "|       1007| January| 48|   Manager|     21212.91|            1496.7426|                3|              4|         10.0|          3|Home Equity Loan,...|                 19|                  19.0|               12.13|                   1|          |          993.15|                  35.269|               346|                   No|            45.7457|                30.3735|High_spent_Medium...|       323.5551|    Standard|             48|             0|\n",
      "+-----------+--------+---+----------+-------------+---------------------+-----------------+---------------+-------------+-----------+--------------------+-------------------+----------------------+--------------------+--------------------+----------+----------------+------------------------+------------------+---------------------+-------------------+-----------------------+--------------------+---------------+------------+---------------+--------------+\n",
      "only showing top 10 rows\n",
      "\n"
     ]
    }
   ],
   "source": [
    "df.orderBy(\"Customer_ID\").show(10)"
   ]
  },
  {
   "cell_type": "code",
   "execution_count": 109,
   "metadata": {},
   "outputs": [
    {
     "name": "stdout",
     "output_type": "stream",
     "text": [
      "+-----------+--------+---+----------+-------------+---------------------+-----------------+---------------+-------------+-----------+-------------------------------------------------+-------------------+----------------------+--------------------+--------------------+----------+----------------+------------------------+------------------+---------------------+-------------------+-----------------------+--------------------------------+---------------+------------+\n",
      "|Customer_ID|Month   |Age|Occupation|Annual_Income|Monthly_Inhand_Salary|Num_Bank_Accounts|Num_Credit_Card|Interest_Rate|Num_of_Loan|Type_of_Loan                                     |Delay_from_due_date|Num_of_Delayed_Payment|Changed_Credit_Limit|Num_Credit_Inquiries|Credit_Mix|Outstanding_Debt|Credit_Utilization_Ratio|Credit_History_Age|Payment_of_Min_Amount|Total_EMI_per_month|Amount_invested_monthly|Payment_Behaviour               |Monthly_Balance|Credit_Score|\n",
      "+-----------+--------+---+----------+-------------+---------------------+-----------------+---------------+-------------+-----------+-------------------------------------------------+-------------------+----------------------+--------------------+--------------------+----------+----------------+------------------------+------------------+---------------------+-------------------+-----------------------+--------------------------------+---------------+------------+\n",
      "|1006       |August  |38 |Journalist|16756.18     |1331.3483            |9                |6              |22.0         |2          |Credit-Builder Loan, and Payday Loan             |48                 |12.0                  |10.66               |8                   |Standard  |1941.73         |25.8125                 |189               |Yes                  |NULL               |66.7182                |Low_spent_Small_value_payments  |328.9745       |Poor        |\n",
      "|1006       |April   |38 |Journalist|16756.18     |1331.3483            |9                |6              |22.0         |2          |Credit-Builder Loan, and Payday Loan             |48                 |13.0                  |10.66               |8                   |Standard  |1941.73         |33.7256                 |185               |Yes                  |27.4421            |56.495                 |High_spent_Small_value_payments |309.1978       |Poor        |\n",
      "|1006       |May     |38 |Journalist|16756.18     |1331.3483            |9                |6              |22.0         |2          |Credit-Builder Loan, and Payday Loan             |48                 |NULL                  |10.66               |8                   |Standard  |1941.73         |38.7553                 |186               |Yes                  |27.4421            |51.7262                |Low_spent_Large_value_payments  |323.9665       |Poor        |\n",
      "|1006       |July    |38 |Journalist|16756.18     |1331.3483            |9                |6              |22.0         |2          |Credit-Builder Loan, and Payday Loan             |48                 |11.0                  |10.66               |8                   |Standard  |1941.73         |23.9244                 |188               |Yes                  |27.4421            |95.6486                |Low_spent_Large_value_payments  |280.0441       |Poor        |\n",
      "|1006       |February|38 |Journalist|16756.18     |1331.3483            |9                |6              |22.0         |NULL       |Credit-Builder Loan, and Payday Loan             |48                 |12.0                  |10.66               |8                   |Standard  |1941.73         |34.7122                 |183               |Yes                  |27.4421            |90.0784                |Low_spent_Medium_value_payments |295.6143       |Poor        |\n",
      "|1006       |June    |38 |Journalist|16756.18     |1331.3483            |9                |6              |22.0         |2          |Credit-Builder Loan, and Payday Loan             |48                 |12.0                  |10.66               |8                   |          |1941.73         |27.1975                 |187               |Yes                  |27.4421            |60.8283                |                                |334.8645       |Poor        |\n",
      "|1006       |January |37 |Journalist|16756.18     |1331.3483            |9                |6              |22.0         |2          |Credit-Builder Loan, and Payday Loan             |48                 |NULL                  |10.66               |NULL                |Standard  |1941.73         |37.5011                 |182               |Yes                  |27.4421            |45.3011                |High_spent_Medium_value_payments|310.3917       |Poor        |\n",
      "|1006       |March   |38 |Journalist|16756.18     |1331.3483            |9                |6              |22.0         |2          |Credit-Builder Loan, and Payday Loan             |48                 |12.0                  |10.66               |8                   |Standard  |1941.73         |32.1905                 |184               |Yes                  |27.4421            |61.7327                |Low_spent_Small_value_payments  |333.96         |Poor        |\n",
      "|1007       |March   |48 |Manager   |21212.91     |1496.7426            |3                |4              |10.0         |3          |Home Equity Loan, Mortgage Loan, and Student Loan|19                 |19.0                  |5.13                |1                   |Standard  |993.15          |30.0026                 |348               |No                   |45.7457            |NULL                   |Low_spent_Small_value_payments  |265.4875       |Standard    |\n",
      "|1007       |June    |48 |Manager   |21212.91     |1496.7426            |3                |4              |10.0         |3          |Home Equity Loan, Mortgage Loan, and Student Loan|19                 |21.0                  |2.13                |1                   |Standard  |993.15          |35.5584                 |NULL              |No                   |45.7457            |NULL                   |                                |239.4648       |Standard    |\n",
      "|1007       |February|48 |Manager   |21212.91     |1496.7426            |3                |4              |10.0         |3          |Home Equity Loan, Mortgage Loan, and Student Loan|19                 |19.0                  |5.13                |1                   |Standard  |993.15          |37.6556                 |347               |No                   |45.7457            |44.32                  |High_spent_Medium_value_payments|309.6086       |Standard    |\n",
      "|1007       |April   |48 |Manager   |21212.91     |1496.7426            |NULL             |4              |10.0         |3          |Home Equity Loan, Mortgage Loan, and Student Loan|19                 |19.0                  |5.13                |1                   |Standard  |993.15          |37.475                  |349               |No                   |45.7457            |62.8125                |High_spent_Medium_value_payments|291.1161       |Standard    |\n",
      "|1007       |July    |48 |Manager   |21212.91     |1496.7426            |3                |4              |10.0         |3          |Home Equity Loan, Mortgage Loan, and Student Loan|19                 |20.0                  |5.13                |1                   |          |993.15          |40.6332                 |352               |No                   |45.7457            |59.309                 |Low_spent_Small_value_payments  |334.6196       |Standard    |\n",
      "|1007       |August  |48 |Manager   |21212.91     |1496.7426            |3                |NULL           |10.0         |3          |Home Equity Loan, Mortgage Loan, and Student Loan|16                 |19.0                  |5.13                |1                   |Standard  |993.15          |38.9119                 |NULL              |No                   |45.7457            |118.5424               |Low_spent_Small_value_payments  |275.3861       |Poor        |\n",
      "|1007       |January |48 |Manager   |21212.91     |1496.7426            |3                |4              |10.0         |3          |Home Equity Loan, Mortgage Loan, and Student Loan|19                 |19.0                  |12.13               |1                   |          |993.15          |35.269                  |346               |No                   |45.7457            |30.3735                |High_spent_Medium_value_payments|323.5551       |Standard    |\n",
      "|1007       |May     |48 |Manager   |21212.91     |NULL                 |3                |4              |10.0         |NULL       |Home Equity Loan, Mortgage Loan, and Student Loan|19                 |NULL                  |5.13                |NULL                |          |993.15          |35.0043                 |350               |No                   |45.7457            |148.3096               |Low_spent_Small_value_payments  |245.619        |Standard    |\n",
      "|1008       |February|37 |Developer |33540.43     |2655.036             |6                |3              |17.0         |0          |NULL                                             |28                 |11.0                  |14.11               |10                  |Standard  |1138.97         |28.3447                 |293               |Yes                  |0.0                |NULL                   |Low_spent_Large_value_payments  |350.3935       |Standard    |\n",
      "|1008       |March   |37 |Developer |33540.43     |2655.036             |6                |3              |17.0         |0          |NULL                                             |22                 |11.0                  |14.11               |10                  |Standard  |1138.97         |33.2652                 |294               |Yes                  |0.0                |337.1997               |Low_spent_Small_value_payments  |218.3038       |Standard    |\n",
      "|1008       |July    |37 |Developer |33540.43     |2655.036             |6                |3              |17.0         |0          |NULL                                             |26                 |11.0                  |14.11               |10                  |Standard  |1138.97         |32.7251                 |298               |Yes                  |0.0                |197.8504               |Low_spent_Large_value_payments  |337.6532       |Standard    |\n",
      "|1008       |April   |37 |Developer |33540.43     |2655.036             |6                |3              |17.0         |0          |NULL                                             |26                 |NULL                  |14.11               |10                  |          |1138.97         |28.3291                 |NULL              |                     |0.0                |170.869                |High_spent_Small_value_payments |354.6346       |Standard    |\n",
      "+-----------+--------+---+----------+-------------+---------------------+-----------------+---------------+-------------+-----------+-------------------------------------------------+-------------------+----------------------+--------------------+--------------------+----------+----------------+------------------------+------------------+---------------------+-------------------+-----------------------+--------------------------------+---------------+------------+\n",
      "only showing top 20 rows\n",
      "\n"
     ]
    }
   ],
   "source": [
    "# Drop aux cols\n",
    "df = df.drop('Most_Common_Age', 'age_difference')\n",
    "\n",
    "df.orderBy(\"Customer_ID\").show(truncate=False)"
   ]
  },
  {
   "cell_type": "markdown",
   "metadata": {},
   "source": [
    "## Save Final Dataframe/Dataset\n",
    "\n",
    "This will be the initial dataset used to train our models (before the pipeline)"
   ]
  },
  {
   "cell_type": "code",
   "execution_count": 110,
   "metadata": {},
   "outputs": [],
   "source": [
    "df = df.repartition(16)\n",
    "df.write.mode(\"overwrite\").orc(final_dataset_path)"
   ]
  },
  {
   "cell_type": "markdown",
   "metadata": {},
   "source": [
    "# Process columns (inside pipeline)\n",
    "\n",
    "In this section, we will prepare the pipeline to be used in the next step (models)\n",
    "\n",
    "The pipeline will start with the last save Dataframe, as will the models step."
   ]
  },
  {
   "cell_type": "markdown",
   "metadata": {},
   "source": [
    "## Type of Loans (Pipeline)\n",
    "\n",
    "Type_of_loan is a complex column that need to be processed into several cols"
   ]
  },
  {
   "cell_type": "code",
   "execution_count": 111,
   "metadata": {},
   "outputs": [
    {
     "name": "stdout",
     "output_type": "stream",
     "text": [
      "+----------------------------------------------------------------------------------------------------------------------------------------------------+\n",
      "|Type_of_loan                                                                                                                                        |\n",
      "+----------------------------------------------------------------------------------------------------------------------------------------------------+\n",
      "|Not Specified, Personal Loan, and Debt Consolidation Loan                                                                                           |\n",
      "|Auto Loan, Payday Loan, Student Loan, and Credit-Builder Loan                                                                                       |\n",
      "|Personal Loan, Personal Loan, Credit-Builder Loan, Student Loan, and Auto Loan                                                                      |\n",
      "|Personal Loan, Home Equity Loan, Home Equity Loan, Mortgage Loan, Personal Loan, Student Loan, Credit-Builder Loan, Mortgage Loan, and Mortgage Loan|\n",
      "|Debt Consolidation Loan, Debt Consolidation Loan, Personal Loan, Payday Loan, and Not Specified                                                     |\n",
      "|Student Loan, Payday Loan, Credit-Builder Loan, Home Equity Loan, Personal Loan, Credit-Builder Loan, and Student Loan                              |\n",
      "|Payday Loan, Credit-Builder Loan, and Credit-Builder Loan                                                                                           |\n",
      "|Debt Consolidation Loan, Student Loan, Payday Loan, Not Specified, and Auto Loan                                                                    |\n",
      "|Debt Consolidation Loan, Personal Loan, Home Equity Loan, Home Equity Loan, Not Specified, Mortgage Loan, and Payday Loan                           |\n",
      "|Payday Loan, Personal Loan, Mortgage Loan, and Auto Loan                                                                                            |\n",
      "|Personal Loan, Debt Consolidation Loan, Personal Loan, Home Equity Loan, and Debt Consolidation Loan                                                |\n",
      "|Personal Loan, Not Specified, Not Specified, Student Loan, Auto Loan, Home Equity Loan, Student Loan, and Student Loan                              |\n",
      "|Payday Loan, Payday Loan, Payday Loan, and Debt Consolidation Loan                                                                                  |\n",
      "|Credit-Builder Loan, Not Specified, Credit-Builder Loan, and Student Loan                                                                           |\n",
      "|Mortgage Loan, Debt Consolidation Loan, Personal Loan, Auto Loan, and Debt Consolidation Loan                                                       |\n",
      "|Personal Loan, Not Specified, Student Loan, and Mortgage Loan                                                                                       |\n",
      "|Credit-Builder Loan, Student Loan, and Home Equity Loan                                                                                             |\n",
      "|Personal Loan, and Mortgage Loan                                                                                                                    |\n",
      "|Home Equity Loan, Personal Loan, Mortgage Loan, and Mortgage Loan                                                                                   |\n",
      "|Not Specified, Debt Consolidation Loan, and Auto Loan                                                                                               |\n",
      "+----------------------------------------------------------------------------------------------------------------------------------------------------+\n",
      "only showing top 20 rows\n",
      "\n"
     ]
    }
   ],
   "source": [
    "check_distinc_values(df, \"Type_of_loan\", truncate=False)"
   ]
  },
  {
   "cell_type": "code",
   "execution_count": 112,
   "metadata": {},
   "outputs": [],
   "source": [
    "all_loan_types = [\"credit-builder loan\", \"not specified\", \"mortgage loan\", \"auto loan\", \"student loan\",\n",
    "                  \"home equity loan\", \"personal loan\", \"payday loan\", \"debt consolidation loan\"]"
   ]
  },
  {
   "cell_type": "code",
   "execution_count": 113,
   "metadata": {},
   "outputs": [],
   "source": [
    "from pyspark.ml import Transformer\n",
    "from pyspark.ml.param.shared import HasInputCol, HasOutputCol\n",
    "import pyspark.sql.functions as F\n",
    "from pyspark.ml.util import DefaultParamsReadable, DefaultParamsWritable\n",
    "\n",
    "\n",
    "# https://stackoverflow.com/questions/32331848/create-a-custom-transformer-in-pyspark-ml\n",
    "class OneHotLoanType(Transformer, HasInputCol, HasOutputCol, DefaultParamsReadable, DefaultParamsWritable):\n",
    "    \"\"\"\n",
    "    A custom Transformer that converts 'Type_of_loan' into one-hot encoded columns.\n",
    "    \"\"\"\n",
    "    def __init__(self, inputCol=\"Type_of_loan\", outputCol=\"loan_type_vector\", loanTypes=[]):\n",
    "        super(OneHotLoanType, self).__init__()\n",
    "        self.setInputCol(inputCol)\n",
    "        self.setOutputCol(outputCol)\n",
    "        self.loanTypes = loanTypes\n",
    "    \n",
    "    def setInputCol(self, value):\n",
    "        \"\"\"\n",
    "        Sets the value of :py:attr:`inputCol`.\n",
    "        \"\"\"\n",
    "        return self._set(inputCol=value)\n",
    "    \n",
    "    def setOutputCol(self, value):\n",
    "        \"\"\"\n",
    "        Sets the value of :py:attr:`outputCol`.\n",
    "        \"\"\"\n",
    "        return self._set(outputCol=value)\n",
    "\n",
    "    def _transform(self, df):\n",
    "        inputCol = self.getInputCol()\n",
    "        clean_input_field = F.regexp_replace(F.lower(F.col(inputCol)), \" and \", \" \")\n",
    "        \n",
    "        for loan_type in self.loanTypes:\n",
    "            df = df.withColumn(loan_type, F.array_contains(F.split(clean_input_field, \", \"), loan_type).cast(\"int\"))\n",
    "            df = df.withColumn(loan_type, F.coalesce(F.col(loan_type), F.lit(0)))\n",
    "            df = df.withColumnRenamed(loan_type, loan_type.replace(\" \", \"_\").replace(\"-\", \"_\"))\n",
    "\n",
    "        return df"
   ]
  },
  {
   "cell_type": "code",
   "execution_count": 114,
   "metadata": {},
   "outputs": [
    {
     "name": "stdout",
     "output_type": "stream",
     "text": [
      "Pipeline Steps:\n"
     ]
    },
    {
     "data": {
      "text/plain": [
       "[OneHotLoanType_240f364623ce]"
      ]
     },
     "execution_count": 114,
     "metadata": {},
     "output_type": "execute_result"
    }
   ],
   "source": [
    "one_hot_loan_type = OneHotLoanType(inputCol=\"Type_of_loan\", outputCol=\"loan_type_vector\", loanTypes=all_loan_types)\n",
    "\n",
    "pipeline_steps += [one_hot_loan_type]\n",
    "\n",
    "print(\"Pipeline Steps:\")\n",
    "pipeline_steps"
   ]
  },
  {
   "cell_type": "markdown",
   "metadata": {},
   "source": [
    "## Month (Pipeline)"
   ]
  },
  {
   "cell_type": "code",
   "execution_count": 115,
   "metadata": {},
   "outputs": [
    {
     "name": "stdout",
     "output_type": "stream",
     "text": [
      "Number of missing values in column 'Month': 0\n",
      "+--------+\n",
      "|   Month|\n",
      "+--------+\n",
      "|    July|\n",
      "|February|\n",
      "| January|\n",
      "|   March|\n",
      "|     May|\n",
      "|  August|\n",
      "|   April|\n",
      "|    June|\n",
      "+--------+\n",
      "\n"
     ]
    }
   ],
   "source": [
    "check_missing_values(df, \"Month\")\n",
    "check_distinc_values(df, \"Month\")"
   ]
  },
  {
   "cell_type": "code",
   "execution_count": 116,
   "metadata": {},
   "outputs": [
    {
     "name": "stdout",
     "output_type": "stream",
     "text": [
      "Pipeline Steps:\n"
     ]
    },
    {
     "data": {
      "text/plain": [
       "[OneHotLoanType_240f364623ce, SQLTransformer_bf1a65c74c3b]"
      ]
     },
     "execution_count": 116,
     "metadata": {},
     "output_type": "execute_result"
    }
   ],
   "source": [
    "# Set SQL Transformer query month -> month_num\n",
    "sql_statement = f\"\"\"SELECT *,\n",
    "                    CASE Month\n",
    "                        WHEN 'January' THEN 1\n",
    "                        WHEN 'February' THEN 2\n",
    "                        WHEN 'March' THEN 3\n",
    "                        WHEN 'April' THEN 4\n",
    "                        WHEN 'May' THEN 5\n",
    "                        WHEN 'June' THEN 6\n",
    "                        WHEN 'July' THEN 7\n",
    "                        WHEN 'August' THEN 8\n",
    "                        WHEN 'September' THEN 9\n",
    "                        WHEN 'October' THEN 10\n",
    "                        WHEN 'November' THEN 11\n",
    "                        WHEN 'December' THEN 12\n",
    "                        ELSE 0\n",
    "                    END as Month_num FROM __THIS__;\n",
    "                    \"\"\"\n",
    "pipeline_steps += [SQLTransformer(statement=sql_statement)]\n",
    "\n",
    "print(\"Pipeline Steps:\")\n",
    "pipeline_steps"
   ]
  },
  {
   "cell_type": "markdown",
   "metadata": {},
   "source": [
    "## Populate missing categorical (Pipeline)"
   ]
  },
  {
   "cell_type": "code",
   "execution_count": 117,
   "metadata": {},
   "outputs": [],
   "source": [
    "from pyspark.ml import Transformer\n",
    "from pyspark.ml.param.shared import HasInputCols, Param, Params, TypeConverters\n",
    "import pyspark.sql.functions as F\n",
    "\n",
    "class FillMissingCategorical(Transformer, HasInputCols, Params, DefaultParamsReadable, DefaultParamsWritable):\n",
    "    def __init__(self, inputCol=None, fillValue=\"NA\"):\n",
    "        super(FillMissingCategorical, self).__init__()\n",
    "        self.inputCol = Param(self, \"inputCol\", \"\")\n",
    "        self.fillValue = Param(self, \"fillValue\", \"\")\n",
    "        self._setDefault(inputCol=inputCol, fillValue=fillValue)\n",
    "        \n",
    "    def setInputCol(self, value):\n",
    "        return self._set(inputCol=value)\n",
    "    \n",
    "    def setFillValue(self, value):\n",
    "        return self._set(fillValue=value)\n",
    "    \n",
    "    def _transform(self, df):\n",
    "        fill_value = self.getOrDefault(self.fillValue)\n",
    "        target_col = self.getOrDefault(self.inputCol)\n",
    "        \n",
    "        df = df.withColumn(target_col, F.when((F.col(target_col).isNull()) | (F.col(target_col) == \"\"), F.lit(fill_value)).otherwise(F.col(target_col)))\n",
    "\n",
    "        return df"
   ]
  },
  {
   "cell_type": "code",
   "execution_count": 118,
   "metadata": {},
   "outputs": [
    {
     "name": "stdout",
     "output_type": "stream",
     "text": [
      "Pipeline Steps:\n"
     ]
    },
    {
     "data": {
      "text/plain": [
       "[OneHotLoanType_240f364623ce,\n",
       " SQLTransformer_bf1a65c74c3b,\n",
       " FillMissingCategorical_db19d6bea5b1,\n",
       " StringIndexer_23a5662e3390,\n",
       " OneHotEncoder_42ba01d3697f,\n",
       " FillMissingCategorical_9fda294c4025,\n",
       " StringIndexer_d02b3207599c,\n",
       " OneHotEncoder_87589e059d9a,\n",
       " FillMissingCategorical_d9ac17981d2c,\n",
       " StringIndexer_b2a70d5848d7,\n",
       " OneHotEncoder_56378ce551b3,\n",
       " FillMissingCategorical_1fdc1d84f679,\n",
       " StringIndexer_ad3380a95f3f,\n",
       " OneHotEncoder_42a543ae10b2]"
      ]
     },
     "execution_count": 118,
     "metadata": {},
     "output_type": "execute_result"
    }
   ],
   "source": [
    "default_fill_value = \"NA\"\n",
    "\n",
    "# Indexers with no order. Needs one_hot encode\n",
    "fill_missing_and_string_indexer = [\"Occupation\", \"Credit_Mix\", \"Payment_Behaviour\", \"Payment_of_Min_Amount\"]\n",
    "\n",
    "for categoricalCol in fill_missing_and_string_indexer:\n",
    "    fill_missing = FillMissingCategorical(inputCol=categoricalCol, fillValue=default_fill_value) # Error in the indexer if missing values\n",
    "    string_indexer = StringIndexer(inputCol=categoricalCol, outputCol=categoricalCol + \"_indexed\", handleInvalid='keep') # deal with unseen values\n",
    "    encoder = OneHotEncoder(inputCols=[string_indexer.getOutputCol()], outputCols=[categoricalCol + \"_oneHot\"])\n",
    "    pipeline_steps += [fill_missing, string_indexer, encoder]\n",
    "    # pipeline_steps += [string_indexer, encoder]\n",
    "\n",
    "print(\"Pipeline Steps:\")\n",
    "pipeline_steps"
   ]
  },
  {
   "cell_type": "markdown",
   "metadata": {},
   "source": [
    "## Populate missing numerical (Pipeline)"
   ]
  },
  {
   "cell_type": "code",
   "execution_count": 119,
   "metadata": {},
   "outputs": [],
   "source": [
    "from pyspark.ml import Transformer\n",
    "from pyspark.ml.param.shared import HasInputCols, Param, Params\n",
    "import pyspark.sql.functions as F\n",
    "\n",
    "class ZeroFillImputer(Transformer, HasInputCols, Params, DefaultParamsReadable, DefaultParamsWritable):\n",
    "    def __init__(self, inputCols=None):\n",
    "        super(ZeroFillImputer, self).__init__()\n",
    "        self.inputCols = Param(self, \"inputCols\", \"\")\n",
    "        self._setDefault(inputCols=inputCols)\n",
    "        \n",
    "    def setInputCols(self, value):\n",
    "        return self._set(inputCols=value)\n",
    "    \n",
    "    def _transform(self, df):\n",
    "        input_cols = self.getOrDefault(self.inputCols)\n",
    "        for col in input_cols:\n",
    "            df = df.withColumn(col, F.coalesce(F.col(col), F.lit(0)))\n",
    "        return df"
   ]
  },
  {
   "cell_type": "code",
   "execution_count": 120,
   "metadata": {},
   "outputs": [],
   "source": [
    "from pyspark.ml import Transformer\n",
    "from pyspark.ml.param.shared import HasInputCols, Param, Params\n",
    "import pyspark.sql.functions as F\n",
    "from pyspark.sql.window import Window\n",
    "\n",
    "class ImputerWithCustomerData(Transformer, HasInputCols, Params, DefaultParamsReadable, DefaultParamsWritable):\n",
    "    def __init__(self, inputCols=None):\n",
    "        super(ImputerWithCustomerData, self).__init__()\n",
    "        self.inputCols = Param(self, \"inputCols\", \"\")\n",
    "        self._setDefault(inputCols=inputCols)\n",
    "        \n",
    "    def setInputCols(self, value):\n",
    "        return self._set(inputCols=value)\n",
    "    \n",
    "    def _transform(self, df):\n",
    "        input_cols = self.getOrDefault(self.inputCols)\n",
    "        \n",
    "        for col in input_cols:\n",
    "            # Calculate the global mean for the column\n",
    "            global_mean = df.select(F.mean(col).alias(f'{col}_global_mean')).collect()[0][f'{col}_global_mean']\n",
    "            \n",
    "            # Calculate the mean of values grouped by Customer_ID\n",
    "            windowSpec  = Window.partitionBy(\"Customer_ID\")\n",
    "            mean_values = df.withColumn(f\"{col}_customer_mean\", F.mean(df[col]).over(windowSpec))\n",
    "            \n",
    "            # Replace the missing values by the customer mean, if possible, otherwise use the global mean\n",
    "            df = mean_values.withColumn(col, F.coalesce(F.col(col), F.col(f\"{col}_customer_mean\"), F.lit(global_mean)))\n",
    "            \n",
    "            # Drop the intermediate mean column\n",
    "            df = df.drop(f\"{col}_customer_mean\")\n",
    "\n",
    "            \n",
    "        return df\n"
   ]
  },
  {
   "cell_type": "code",
   "execution_count": 121,
   "metadata": {},
   "outputs": [],
   "source": [
    "from pyspark.ml import Transformer\n",
    "from pyspark.ml.param.shared import HasInputCols, Param, Params\n",
    "import pyspark.sql.functions as F\n",
    "\n",
    "class EnsureIntegerType(Transformer, HasInputCols, Params, DefaultParamsReadable, DefaultParamsWritable):\n",
    "    def __init__(self, inputCols=None):\n",
    "        super(EnsureIntegerType, self).__init__()\n",
    "        self.inputCols = Param(self, \"inputCols\", \"\")\n",
    "        self._setDefault(inputCols=inputCols)\n",
    "        \n",
    "    def setInputCols(self, value):\n",
    "        return self._set(inputCols=value)\n",
    "    \n",
    "    def _transform(self, df):\n",
    "        input_cols = self.getOrDefault(self.inputCols)\n",
    "        for col in input_cols:\n",
    "            df = df.withColumn(col, F.col(col).cast('int'))\n",
    "        return df\n"
   ]
  },
  {
   "cell_type": "code",
   "execution_count": 122,
   "metadata": {},
   "outputs": [
    {
     "name": "stdout",
     "output_type": "stream",
     "text": [
      "Pipeline Steps:\n"
     ]
    },
    {
     "data": {
      "text/plain": [
       "[OneHotLoanType_240f364623ce,\n",
       " SQLTransformer_bf1a65c74c3b,\n",
       " FillMissingCategorical_db19d6bea5b1,\n",
       " StringIndexer_23a5662e3390,\n",
       " OneHotEncoder_42ba01d3697f,\n",
       " FillMissingCategorical_9fda294c4025,\n",
       " StringIndexer_d02b3207599c,\n",
       " OneHotEncoder_87589e059d9a,\n",
       " FillMissingCategorical_d9ac17981d2c,\n",
       " StringIndexer_b2a70d5848d7,\n",
       " OneHotEncoder_56378ce551b3,\n",
       " FillMissingCategorical_1fdc1d84f679,\n",
       " StringIndexer_ad3380a95f3f,\n",
       " OneHotEncoder_42a543ae10b2,\n",
       " ImputerWithCustomerData_2ae4d0da2c4f,\n",
       " ZeroFillImputer_d60b0d32397f,\n",
       " EnsureIntegerType_eb0547c5b4c7]"
      ]
     },
     "execution_count": 122,
     "metadata": {},
     "output_type": "execute_result"
    }
   ],
   "source": [
    "from pyspark.ml.feature import Imputer\n",
    "\n",
    "numerical_to_fill = [\"Age\", \"Annual_Income\", \"Monthly_Inhand_Salary\", \"Num_Bank_Accounts\",\n",
    "                     \"Delay_from_due_date\", \"Num_of_Delayed_Payment\", \"Changed_Credit_Limit\",\n",
    "                     \"Outstanding_Debt\", \"Credit_History_Age\", \"Amount_invested_monthly\",\n",
    "                     \"Monthly_Balance\", \"Num_Credit_Card\", \"Num_Credit_Inquiries\", \"Interest_Rate\",\n",
    "                     \"Credit_Utilization_Ratio\", \"Total_EMI_per_month\"]\n",
    "\n",
    "numerical_to_zero_fill = [\"Num_of_Loan\"]\n",
    "\n",
    "ensure_int_cols = ['Age', 'Num_Bank_Accounts', 'Delay_from_due_date', 'Num_of_Delayed_Payment',\n",
    "                   'Credit_History_Age', 'Num_Credit_Card', 'Num_Credit_Inquiries']\n",
    "\n",
    "# mean_imputer = Imputer(inputCols=numerical_to_fill,  # List the columns to be imputed\n",
    "#                        outputCols=[\"{}_imputed\".format(c) for c in numerical_to_fill],  # Output column names\n",
    "#                        strategy='mean'  # Can be \"mean\", \"median\", or \"mode\"\n",
    "#                        )\n",
    "\n",
    "mean_imputer = ImputerWithCustomerData(inputCols=numerical_to_fill)\n",
    "\n",
    "zero_imputer = ZeroFillImputer(inputCols=numerical_to_zero_fill)\n",
    "\n",
    "ensure_integer_transformer = EnsureIntegerType(inputCols=ensure_int_cols)\n",
    "\n",
    "pipeline_steps += [mean_imputer]\n",
    "pipeline_steps += [zero_imputer]\n",
    "pipeline_steps += [ensure_integer_transformer]\n",
    "\n",
    "print(\"Pipeline Steps:\")\n",
    "pipeline_steps"
   ]
  },
  {
   "cell_type": "markdown",
   "metadata": {},
   "source": [
    "## Credit Score - Target (Pipeline)"
   ]
  },
  {
   "cell_type": "code",
   "execution_count": 123,
   "metadata": {},
   "outputs": [
    {
     "name": "stdout",
     "output_type": "stream",
     "text": [
      "Pipeline Steps:\n"
     ]
    },
    {
     "data": {
      "text/plain": [
       "[OneHotLoanType_240f364623ce,\n",
       " SQLTransformer_bf1a65c74c3b,\n",
       " FillMissingCategorical_db19d6bea5b1,\n",
       " StringIndexer_23a5662e3390,\n",
       " OneHotEncoder_42ba01d3697f,\n",
       " FillMissingCategorical_9fda294c4025,\n",
       " StringIndexer_d02b3207599c,\n",
       " OneHotEncoder_87589e059d9a,\n",
       " FillMissingCategorical_d9ac17981d2c,\n",
       " StringIndexer_b2a70d5848d7,\n",
       " OneHotEncoder_56378ce551b3,\n",
       " FillMissingCategorical_1fdc1d84f679,\n",
       " StringIndexer_ad3380a95f3f,\n",
       " OneHotEncoder_42a543ae10b2,\n",
       " ImputerWithCustomerData_2ae4d0da2c4f,\n",
       " ZeroFillImputer_d60b0d32397f,\n",
       " EnsureIntegerType_eb0547c5b4c7,\n",
       " SQLTransformer_775f00266c6e]"
      ]
     },
     "execution_count": 123,
     "metadata": {},
     "output_type": "execute_result"
    }
   ],
   "source": [
    "sql_statement = f\"\"\"SELECT *,\n",
    "                    CASE Credit_Score\n",
    "                        WHEN 'Poor' THEN 0\n",
    "                        WHEN 'Standard' THEN 1\n",
    "                        WHEN 'Good' THEN 2\n",
    "                        ELSE -1\n",
    "                    END as Credit_score_num FROM __THIS__;\n",
    "                    \"\"\"\n",
    "\n",
    "pipeline_steps += [SQLTransformer(statement=sql_statement)]\n",
    "\n",
    "print(\"Pipeline Steps:\")\n",
    "pipeline_steps"
   ]
  },
  {
   "cell_type": "code",
   "execution_count": 124,
   "metadata": {},
   "outputs": [
    {
     "name": "stdout",
     "output_type": "stream",
     "text": [
      "+-----------+--------+---+----------+-------------+---------------------+-----------------+---------------+-------------+-----------+-------------------------------------------------+-------------------+----------------------+--------------------+--------------------+----------+----------------+------------------------+------------------+---------------------+-------------------+-----------------------+--------------------------------+---------------+------------+\n",
      "|Customer_ID|Month   |Age|Occupation|Annual_Income|Monthly_Inhand_Salary|Num_Bank_Accounts|Num_Credit_Card|Interest_Rate|Num_of_Loan|Type_of_Loan                                     |Delay_from_due_date|Num_of_Delayed_Payment|Changed_Credit_Limit|Num_Credit_Inquiries|Credit_Mix|Outstanding_Debt|Credit_Utilization_Ratio|Credit_History_Age|Payment_of_Min_Amount|Total_EMI_per_month|Amount_invested_monthly|Payment_Behaviour               |Monthly_Balance|Credit_Score|\n",
      "+-----------+--------+---+----------+-------------+---------------------+-----------------+---------------+-------------+-----------+-------------------------------------------------+-------------------+----------------------+--------------------+--------------------+----------+----------------+------------------------+------------------+---------------------+-------------------+-----------------------+--------------------------------+---------------+------------+\n",
      "|1006       |June    |38 |Journalist|16756.18     |1331.3483            |9                |6              |22.0         |2          |Credit-Builder Loan, and Payday Loan             |48                 |12.0                  |10.66               |8                   |          |1941.73         |27.1975                 |187               |Yes                  |27.4421            |60.8283                |                                |334.8645       |Poor        |\n",
      "|1006       |April   |38 |Journalist|16756.18     |1331.3483            |9                |6              |22.0         |2          |Credit-Builder Loan, and Payday Loan             |48                 |13.0                  |10.66               |8                   |Standard  |1941.73         |33.7256                 |185               |Yes                  |27.4421            |56.495                 |High_spent_Small_value_payments |309.1978       |Poor        |\n",
      "|1006       |May     |38 |Journalist|16756.18     |1331.3483            |9                |6              |22.0         |2          |Credit-Builder Loan, and Payday Loan             |48                 |NULL                  |10.66               |8                   |Standard  |1941.73         |38.7553                 |186               |Yes                  |27.4421            |51.7262                |Low_spent_Large_value_payments  |323.9665       |Poor        |\n",
      "|1006       |February|38 |Journalist|16756.18     |1331.3483            |9                |6              |22.0         |NULL       |Credit-Builder Loan, and Payday Loan             |48                 |12.0                  |10.66               |8                   |Standard  |1941.73         |34.7122                 |183               |Yes                  |27.4421            |90.0784                |Low_spent_Medium_value_payments |295.6143       |Poor        |\n",
      "|1006       |March   |38 |Journalist|16756.18     |1331.3483            |9                |6              |22.0         |2          |Credit-Builder Loan, and Payday Loan             |48                 |12.0                  |10.66               |8                   |Standard  |1941.73         |32.1905                 |184               |Yes                  |27.4421            |61.7327                |Low_spent_Small_value_payments  |333.96         |Poor        |\n",
      "|1006       |August  |38 |Journalist|16756.18     |1331.3483            |9                |6              |22.0         |2          |Credit-Builder Loan, and Payday Loan             |48                 |12.0                  |10.66               |8                   |Standard  |1941.73         |25.8125                 |189               |Yes                  |NULL               |66.7182                |Low_spent_Small_value_payments  |328.9745       |Poor        |\n",
      "|1006       |January |37 |Journalist|16756.18     |1331.3483            |9                |6              |22.0         |2          |Credit-Builder Loan, and Payday Loan             |48                 |NULL                  |10.66               |NULL                |Standard  |1941.73         |37.5011                 |182               |Yes                  |27.4421            |45.3011                |High_spent_Medium_value_payments|310.3917       |Poor        |\n",
      "|1006       |July    |38 |Journalist|16756.18     |1331.3483            |9                |6              |22.0         |2          |Credit-Builder Loan, and Payday Loan             |48                 |11.0                  |10.66               |8                   |Standard  |1941.73         |23.9244                 |188               |Yes                  |27.4421            |95.6486                |Low_spent_Large_value_payments  |280.0441       |Poor        |\n",
      "|1007       |February|48 |Manager   |21212.91     |1496.7426            |3                |4              |10.0         |3          |Home Equity Loan, Mortgage Loan, and Student Loan|19                 |19.0                  |5.13                |1                   |Standard  |993.15          |37.6556                 |347               |No                   |45.7457            |44.32                  |High_spent_Medium_value_payments|309.6086       |Standard    |\n",
      "|1007       |January |48 |Manager   |21212.91     |1496.7426            |3                |4              |10.0         |3          |Home Equity Loan, Mortgage Loan, and Student Loan|19                 |19.0                  |12.13               |1                   |          |993.15          |35.269                  |346               |No                   |45.7457            |30.3735                |High_spent_Medium_value_payments|323.5551       |Standard    |\n",
      "|1007       |April   |48 |Manager   |21212.91     |1496.7426            |NULL             |4              |10.0         |3          |Home Equity Loan, Mortgage Loan, and Student Loan|19                 |19.0                  |5.13                |1                   |Standard  |993.15          |37.475                  |349               |No                   |45.7457            |62.8125                |High_spent_Medium_value_payments|291.1161       |Standard    |\n",
      "|1007       |June    |48 |Manager   |21212.91     |1496.7426            |3                |4              |10.0         |3          |Home Equity Loan, Mortgage Loan, and Student Loan|19                 |21.0                  |2.13                |1                   |Standard  |993.15          |35.5584                 |NULL              |No                   |45.7457            |NULL                   |                                |239.4648       |Standard    |\n",
      "|1007       |March   |48 |Manager   |21212.91     |1496.7426            |3                |4              |10.0         |3          |Home Equity Loan, Mortgage Loan, and Student Loan|19                 |19.0                  |5.13                |1                   |Standard  |993.15          |30.0026                 |348               |No                   |45.7457            |NULL                   |Low_spent_Small_value_payments  |265.4875       |Standard    |\n",
      "|1007       |July    |48 |Manager   |21212.91     |1496.7426            |3                |4              |10.0         |3          |Home Equity Loan, Mortgage Loan, and Student Loan|19                 |20.0                  |5.13                |1                   |          |993.15          |40.6332                 |352               |No                   |45.7457            |59.309                 |Low_spent_Small_value_payments  |334.6196       |Standard    |\n",
      "|1007       |August  |48 |Manager   |21212.91     |1496.7426            |3                |NULL           |10.0         |3          |Home Equity Loan, Mortgage Loan, and Student Loan|16                 |19.0                  |5.13                |1                   |Standard  |993.15          |38.9119                 |NULL              |No                   |45.7457            |118.5424               |Low_spent_Small_value_payments  |275.3861       |Poor        |\n",
      "|1007       |May     |48 |Manager   |21212.91     |NULL                 |3                |4              |10.0         |NULL       |Home Equity Loan, Mortgage Loan, and Student Loan|19                 |NULL                  |5.13                |NULL                |          |993.15          |35.0043                 |350               |No                   |45.7457            |148.3096               |Low_spent_Small_value_payments  |245.619        |Standard    |\n",
      "|1008       |July    |37 |Developer |33540.43     |2655.036             |6                |3              |17.0         |0          |NULL                                             |26                 |11.0                  |14.11               |10                  |Standard  |1138.97         |32.7251                 |298               |Yes                  |0.0                |197.8504               |Low_spent_Large_value_payments  |337.6532       |Standard    |\n",
      "|1008       |June    |37 |Developer |33540.43     |2655.036             |6                |3              |17.0         |0          |NULL                                             |26                 |NULL                  |14.11               |10                  |Standard  |1138.97         |25.1531                 |297               |Yes                  |0.0                |105.4574               |High_spent_Small_value_payments |420.0462       |Standard    |\n",
      "|1008       |January |37 |Developer |33540.43     |2655.036             |6                |3              |17.0         |0          |NULL                                             |25                 |11.0                  |14.11               |6                   |          |1138.97         |27.8162                 |292               |Yes                  |0.0                |118.8807               |High_spent_Small_value_payments |406.6229       |Standard    |\n",
      "|1008       |August  |37 |Developer |33540.43     |2655.036             |6                |3              |17.0         |0          |NULL                                             |26                 |13.0                  |14.11               |10                  |Standard  |1138.97         |23.6839                 |299               |Yes                  |0.0                |165.2044               |Low_spent_Large_value_payments  |370.2991       |Standard    |\n",
      "+-----------+--------+---+----------+-------------+---------------------+-----------------+---------------+-------------+-----------+-------------------------------------------------+-------------------+----------------------+--------------------+--------------------+----------+----------------+------------------------+------------------+---------------------+-------------------+-----------------------+--------------------------------+---------------+------------+\n",
      "only showing top 20 rows\n",
      "\n"
     ]
    }
   ],
   "source": [
    "df.orderBy(\"Customer_ID\").show(truncate=False)"
   ]
  },
  {
   "cell_type": "markdown",
   "metadata": {},
   "source": [
    "## Asembler"
   ]
  },
  {
   "cell_type": "code",
   "execution_count": 125,
   "metadata": {},
   "outputs": [],
   "source": [
    "# Columns that we will keep after running the pipeline.\n",
    "# It contains every relevant feature, including the target var\n",
    "# Also includes the \"features\" column\n",
    "cols_to_keep = [\"Month_num\",\n",
    "                \"Age\",\n",
    "                \"Annual_Income\",\n",
    "                \"Monthly_Inhand_Salary\",\n",
    "                \"Occupation_oneHot\",\n",
    "                \"Num_Bank_Accounts\",\n",
    "                \"Num_Credit_Card\",\n",
    "                \"Interest_Rate\",\n",
    "                \"Delay_from_due_date\",\n",
    "                \"Num_of_Delayed_Payment\",\n",
    "                \"Changed_Credit_Limit\",\n",
    "                \"Num_Credit_Inquiries\",\n",
    "                \"Outstanding_Debt\",\n",
    "                \"Credit_Utilization_Ratio\",\n",
    "                \"Credit_History_Age\",\n",
    "                \"Total_EMI_per_month\",\n",
    "                \"Amount_invested_monthly\",\n",
    "                \"Monthly_Balance\",\n",
    "                \"Credit_Mix_oneHot\",\n",
    "                \"Num_of_Loan\",\n",
    "                \"debt_consolidation_loan\",\n",
    "                \"personal_loan\",\n",
    "                \"payday_loan\",\n",
    "                \"mortgage_loan\",\n",
    "                \"credit_builder_loan\",\n",
    "                \"auto_loan\",\n",
    "                \"home_equity_loan\",\n",
    "                \"student_loan\",\n",
    "                \"not_specified\",\n",
    "                \"Payment_Behaviour_oneHot\",\n",
    "                \"Payment_of_Min_Amount_oneHot\",\n",
    "                \"Credit_score_num\",\n",
    "                \"features\",\n",
    "                \"scaledFeatures\"]\n",
    "\n",
    "# Features used to predict the target var\n",
    "# Pretty much {cols_to_keep} but without the target var\n",
    "features = [\"Month_num\",\n",
    "            \"Age\",\n",
    "            \"Annual_Income\",\n",
    "            \"Monthly_Inhand_Salary\",\n",
    "            \"Occupation_oneHot\",\n",
    "            \"Num_Bank_Accounts\",\n",
    "            \"Num_Credit_Card\",\n",
    "            \"Interest_Rate\",\n",
    "            \"Delay_from_due_date\",\n",
    "            \"Num_of_Delayed_Payment\",\n",
    "            \"Changed_Credit_Limit\",\n",
    "            \"Num_Credit_Inquiries\",\n",
    "            \"Outstanding_Debt\",\n",
    "            \"Credit_Mix_oneHot\",\n",
    "            \"Credit_Utilization_Ratio\",\n",
    "            \"Credit_History_Age\",\n",
    "            \"Total_EMI_per_month\",\n",
    "            \"Amount_invested_monthly\",\n",
    "            \"Monthly_Balance\",\n",
    "            \"Num_of_Loan\",\n",
    "            \"debt_consolidation_loan\",\n",
    "            \"personal_loan\",\n",
    "            \"payday_loan\",\n",
    "            \"mortgage_loan\",\n",
    "            \"credit_builder_loan\",\n",
    "            \"auto_loan\",\n",
    "            \"home_equity_loan\",\n",
    "            \"student_loan\",\n",
    "            \"not_specified\",\n",
    "            \"Payment_Behaviour_oneHot\",\n",
    "            \"Payment_of_Min_Amount_oneHot\"]"
   ]
  },
  {
   "cell_type": "code",
   "execution_count": 126,
   "metadata": {},
   "outputs": [],
   "source": [
    "from pyspark.ml.feature import VectorAssembler\n",
    "from pyspark.ml.feature import StandardScaler\n",
    "\n",
    "assembler = VectorAssembler(inputCols=features,\n",
    "                            outputCol=\"features\")\n",
    "\n",
    "scaler = StandardScaler(inputCol=\"features\",\n",
    "                        outputCol=\"scaledFeatures\",\n",
    "                        withStd=True, withMean=False)\n",
    "\n",
    "pipeline_steps += [assembler]\n",
    "pipeline_steps += [scaler]"
   ]
  },
  {
   "cell_type": "markdown",
   "metadata": {},
   "source": [
    "# Run Pipeline\n",
    "\n",
    "Just to test the pipeline. The transformed Dataframe will not be saved"
   ]
  },
  {
   "cell_type": "code",
   "execution_count": 127,
   "metadata": {},
   "outputs": [
    {
     "data": {
      "text/plain": [
       "[OneHotLoanType_240f364623ce,\n",
       " SQLTransformer_bf1a65c74c3b,\n",
       " FillMissingCategorical_db19d6bea5b1,\n",
       " StringIndexer_23a5662e3390,\n",
       " OneHotEncoder_42ba01d3697f,\n",
       " FillMissingCategorical_9fda294c4025,\n",
       " StringIndexer_d02b3207599c,\n",
       " OneHotEncoder_87589e059d9a,\n",
       " FillMissingCategorical_d9ac17981d2c,\n",
       " StringIndexer_b2a70d5848d7,\n",
       " OneHotEncoder_56378ce551b3,\n",
       " FillMissingCategorical_1fdc1d84f679,\n",
       " StringIndexer_ad3380a95f3f,\n",
       " OneHotEncoder_42a543ae10b2,\n",
       " ImputerWithCustomerData_2ae4d0da2c4f,\n",
       " ZeroFillImputer_d60b0d32397f,\n",
       " EnsureIntegerType_eb0547c5b4c7,\n",
       " SQLTransformer_775f00266c6e,\n",
       " VectorAssembler_34a0d566fa36,\n",
       " StandardScaler_2df228480916]"
      ]
     },
     "execution_count": 127,
     "metadata": {},
     "output_type": "execute_result"
    }
   ],
   "source": [
    "pipeline_steps"
   ]
  },
  {
   "cell_type": "markdown",
   "metadata": {},
   "source": [
    "## Run pipeline"
   ]
  },
  {
   "cell_type": "code",
   "execution_count": 128,
   "metadata": {},
   "outputs": [],
   "source": [
    "pipeline = Pipeline(stages=pipeline_steps)"
   ]
  },
  {
   "cell_type": "code",
   "execution_count": 129,
   "metadata": {},
   "outputs": [
    {
     "name": "stdout",
     "output_type": "stream",
     "text": [
      "+-----------+-----+---+----------+-------------+---------------------+-----------------+---------------+-------------+-----------+--------------------+-------------------+----------------------+--------------------+--------------------+----------+----------------+------------------------+------------------+---------------------+-------------------+-----------------------+--------------------+---------------+------------+\n",
      "|Customer_ID|Month|Age|Occupation|Annual_Income|Monthly_Inhand_Salary|Num_Bank_Accounts|Num_Credit_Card|Interest_Rate|Num_of_Loan|        Type_of_Loan|Delay_from_due_date|Num_of_Delayed_Payment|Changed_Credit_Limit|Num_Credit_Inquiries|Credit_Mix|Outstanding_Debt|Credit_Utilization_Ratio|Credit_History_Age|Payment_of_Min_Amount|Total_EMI_per_month|Amount_invested_monthly|   Payment_Behaviour|Monthly_Balance|Credit_Score|\n",
      "+-----------+-----+---+----------+-------------+---------------------+-----------------+---------------+-------------+-----------+--------------------+-------------------+----------------------+--------------------+--------------------+----------+----------------+------------------------+------------------+---------------------+-------------------+-----------------------+--------------------+---------------+------------+\n",
      "|       2153|March| 36| Architect|     121256.4|                 NULL|                4|              4|         19.0|          2|Personal Loan, an...|                 14|                  19.0|                4.92|                   2|  Standard|         1012.93|                 39.2476|               370|                   No|           201.7665|                   NULL|Low_spent_Small_v...|       107.9492|    Standard|\n",
      "+-----------+-----+---+----------+-------------+---------------------+-----------------+---------------+-------------+-----------+--------------------+-------------------+----------------------+--------------------+--------------------+----------+----------------+------------------------+------------------+---------------------+-------------------+-----------------------+--------------------+---------------+------------+\n",
      "only showing top 1 row\n",
      "\n"
     ]
    }
   ],
   "source": [
    "df.show(1)"
   ]
  },
  {
   "cell_type": "code",
   "execution_count": 130,
   "metadata": {},
   "outputs": [
    {
     "name": "stdout",
     "output_type": "stream",
     "text": [
      "root\n",
      " |-- Customer_ID: long (nullable = true)\n",
      " |-- Month: string (nullable = true)\n",
      " |-- Age: integer (nullable = true)\n",
      " |-- Occupation: string (nullable = true)\n",
      " |-- Annual_Income: float (nullable = true)\n",
      " |-- Monthly_Inhand_Salary: float (nullable = true)\n",
      " |-- Num_Bank_Accounts: integer (nullable = true)\n",
      " |-- Num_Credit_Card: integer (nullable = true)\n",
      " |-- Interest_Rate: float (nullable = true)\n",
      " |-- Num_of_Loan: integer (nullable = true)\n",
      " |-- Type_of_Loan: string (nullable = true)\n",
      " |-- Delay_from_due_date: integer (nullable = true)\n",
      " |-- Num_of_Delayed_Payment: float (nullable = true)\n",
      " |-- Changed_Credit_Limit: double (nullable = true)\n",
      " |-- Num_Credit_Inquiries: integer (nullable = true)\n",
      " |-- Credit_Mix: string (nullable = true)\n",
      " |-- Outstanding_Debt: float (nullable = true)\n",
      " |-- Credit_Utilization_Ratio: float (nullable = true)\n",
      " |-- Credit_History_Age: integer (nullable = true)\n",
      " |-- Payment_of_Min_Amount: string (nullable = true)\n",
      " |-- Total_EMI_per_month: float (nullable = true)\n",
      " |-- Amount_invested_monthly: float (nullable = true)\n",
      " |-- Payment_Behaviour: string (nullable = true)\n",
      " |-- Monthly_Balance: float (nullable = true)\n",
      " |-- Credit_Score: string (nullable = true)\n",
      "\n"
     ]
    }
   ],
   "source": [
    "df.printSchema()"
   ]
  },
  {
   "cell_type": "code",
   "execution_count": 131,
   "metadata": {},
   "outputs": [
    {
     "name": "stdout",
     "output_type": "stream",
     "text": [
      "Fiting pipeline...\n"
     ]
    }
   ],
   "source": [
    "print(\"Fiting pipeline...\")\n",
    "# Fit\n",
    "pipe_model = pipeline.fit(df)\n",
    "pipe_model.save(pipeline_model_path)"
   ]
  },
  {
   "cell_type": "code",
   "execution_count": 132,
   "metadata": {},
   "outputs": [
    {
     "name": "stdout",
     "output_type": "stream",
     "text": [
      "Transforming data...\n"
     ]
    }
   ],
   "source": [
    "# Transform the data\n",
    "print(\"Transforming data...\")\n",
    "transformed_df = pipe_model.transform(df)"
   ]
  },
  {
   "cell_type": "code",
   "execution_count": 133,
   "metadata": {},
   "outputs": [],
   "source": [
    "for col in transformed_df.columns:\n",
    "    if col not in cols_to_keep:\n",
    "        transformed_df = transformed_df.drop(col)\n",
    "\n",
    "transformed_df = transformed_df.select(*cols_to_keep) "
   ]
  },
  {
   "cell_type": "code",
   "execution_count": 134,
   "metadata": {},
   "outputs": [
    {
     "name": "stdout",
     "output_type": "stream",
     "text": [
      "+---------+---+--------------+---------------------+-----------------+-----------------+---------------+-------------+-------------------+----------------------+--------------------+--------------------+-----------------+------------------------+------------------+-------------------+-----------------------+------------------+-----------------+-----------+-----------------------+-------------+-----------+-------------+-------------------+---------+----------------+------------+-------------+------------------------+----------------------------+----------------+------------------------------------------------------------------------------------------------------------------------------------------------------------------------------------------------------------------------------------------------------------------------------------------+---------------------------------------------------------------------------------------------------------------------------------------------------------------------------------------------------------------------------------------------------------------------------------------------------------------------------------------------------------------------------------------------------------------------------------------------------------------------------------------------------------------------------------------------------------------------+\n",
      "|Month_num|Age|Annual_Income |Monthly_Inhand_Salary|Occupation_oneHot|Num_Bank_Accounts|Num_Credit_Card|Interest_Rate|Delay_from_due_date|Num_of_Delayed_Payment|Changed_Credit_Limit|Num_Credit_Inquiries|Outstanding_Debt |Credit_Utilization_Ratio|Credit_History_Age|Total_EMI_per_month|Amount_invested_monthly|Monthly_Balance   |Credit_Mix_oneHot|Num_of_Loan|debt_consolidation_loan|personal_loan|payday_loan|mortgage_loan|credit_builder_loan|auto_loan|home_equity_loan|student_loan|not_specified|Payment_Behaviour_oneHot|Payment_of_Min_Amount_oneHot|Credit_score_num|features                                                                                                                                                                                                                                                                                  |scaledFeatures                                                                                                                                                                                                                                                                                                                                                                                                                                                                                                                                                       |\n",
      "+---------+---+--------------+---------------------+-----------------+-----------------+---------------+-------------+-------------------+----------------------+--------------------+--------------------+-----------------+------------------------+------------------+-------------------+-----------------------+------------------+-----------------+-----------+-----------------------+-------------+-----------+-------------+-------------------+---------+----------------+------------+-------------+------------------------+----------------------------+----------------+------------------------------------------------------------------------------------------------------------------------------------------------------------------------------------------------------------------------------------------------------------------------------------------+---------------------------------------------------------------------------------------------------------------------------------------------------------------------------------------------------------------------------------------------------------------------------------------------------------------------------------------------------------------------------------------------------------------------------------------------------------------------------------------------------------------------------------------------------------------------+\n",
      "|1        |43 |112287.5078125|9097.29296875        |(16,[1],[1.0])   |3                |5              |5.0          |11                 |5                     |7.84                |4                   |281.2799987792969|37.2849006652832        |227               |167.06410217285156 |343.6820068359375      |648.9832153320312 |(4,[1],[1.0])    |3          |0                      |0            |0          |0            |1                  |1        |0               |0           |1            |(7,[1],[1.0])           |(3,[1],[1.0])               |1               |(57,[0,1,2,3,5,20,21,22,23,24,25,26,27,29,32,33,34,35,36,37,42,43,46,48,55],[1.0,43.0,112287.5078125,9097.29296875,1.0,3.0,5.0,5.0,11.0,5.0,7.84,4.0,281.2799987792969,1.0,37.2849006652832,227.0,167.06410217285156,343.6820068359375,648.9832153320312,3.0,1.0,1.0,1.0,1.0,1.0])        |(57,[0,1,2,3,5,20,21,22,23,24,25,26,27,29,32,33,34,35,36,37,42,43,46,48,55],[0.4364337191630831,3.9998883219282146,2.9339761037783267,2.8558844824821215,3.949630523930537,1.156138396078696,2.4174070780670025,0.5721251365934972,0.7415481586962748,0.7983246090335354,1.1575458772823106,1.0387847577703773,0.24397041991672758,2.3292588457469865,7.282332905348324,2.2782247728328553,1.7321734061354639,2.4800954038298144,3.389135406522135,1.1800459796728746,2.1477191327622345,2.1698837004485556,2.1533826021469338,2.630575606649666,2.088758638771635]) |\n",
      "|4        |43 |112287.5078125|9097.29296875        |(16,[1],[1.0])   |3                |5              |5.0          |13                 |5                     |3.84                |4                   |281.2799987792969|35.26259994506836       |230               |167.06410217285156 |72.20210266113281      |910.4630737304688 |(4,[1],[1.0])    |3          |0                      |0            |0          |0            |1                  |1        |0               |0           |1            |(7,[6],[1.0])           |(3,[1],[1.0])               |0               |(57,[0,1,2,3,5,20,21,22,23,24,25,26,27,29,32,33,34,35,36,37,42,43,46,53,55],[4.0,43.0,112287.5078125,9097.29296875,1.0,3.0,5.0,5.0,13.0,5.0,3.84,4.0,281.2799987792969,1.0,35.26259994506836,230.0,167.06410217285156,72.20210266113281,910.4630737304688,3.0,1.0,1.0,1.0,1.0,1.0])       |(57,[0,1,2,3,5,20,21,22,23,24,25,26,27,29,32,33,34,35,36,37,42,43,46,53,55],[1.7457348766523324,3.9998883219282146,2.9339761037783267,2.8558844824821215,3.949630523930537,1.156138396078696,2.4174070780670025,0.5721251365934972,0.8763750966410521,0.7983246090335354,0.5669612460158255,1.0387847577703773,0.24397041991672758,2.3292588457469865,6.8873454756770185,2.308333470271175,1.7321734061354639,0.5210284489586479,4.75464167117514,1.1800459796728746,2.1477191327622345,2.1698837004485556,2.1533826021469338,3.7735216384739885,2.088758638771635]) |\n",
      "|1        |43 |112287.5078125|9097.29296875        |(16,[1],[1.0])   |3                |5              |5.0          |11                 |5                     |7.84                |4                   |281.2799987792969|37.2849006652832        |227               |167.06410217285156 |343.6820068359375      |648.9832153320312 |(4,[1],[1.0])    |3          |0                      |0            |0          |0            |1                  |1        |0               |0           |1            |(7,[1],[1.0])           |(3,[1],[1.0])               |1               |(57,[0,1,2,3,5,20,21,22,23,24,25,26,27,29,32,33,34,35,36,37,42,43,46,48,55],[1.0,43.0,112287.5078125,9097.29296875,1.0,3.0,5.0,5.0,11.0,5.0,7.84,4.0,281.2799987792969,1.0,37.2849006652832,227.0,167.06410217285156,343.6820068359375,648.9832153320312,3.0,1.0,1.0,1.0,1.0,1.0])        |(57,[0,1,2,3,5,20,21,22,23,24,25,26,27,29,32,33,34,35,36,37,42,43,46,48,55],[0.4364337191630831,3.9998883219282146,2.9339761037783267,2.8558844824821215,3.949630523930537,1.156138396078696,2.4174070780670025,0.5721251365934972,0.7415481586962748,0.7983246090335354,1.1575458772823106,1.0387847577703773,0.24397041991672758,2.3292588457469865,7.282332905348324,2.2782247728328553,1.7321734061354639,2.4800954038298144,3.389135406522135,1.1800459796728746,2.1477191327622345,2.1698837004485556,2.1533826021469338,2.630575606649666,2.088758638771635]) |\n",
      "|4        |43 |112287.5078125|9097.29296875        |(16,[1],[1.0])   |3                |5              |5.0          |13                 |5                     |3.84                |4                   |281.2799987792969|35.26259994506836       |230               |167.06410217285156 |72.20210266113281      |910.4630737304688 |(4,[1],[1.0])    |3          |0                      |0            |0          |0            |1                  |1        |0               |0           |1            |(7,[6],[1.0])           |(3,[1],[1.0])               |0               |(57,[0,1,2,3,5,20,21,22,23,24,25,26,27,29,32,33,34,35,36,37,42,43,46,53,55],[4.0,43.0,112287.5078125,9097.29296875,1.0,3.0,5.0,5.0,13.0,5.0,3.84,4.0,281.2799987792969,1.0,35.26259994506836,230.0,167.06410217285156,72.20210266113281,910.4630737304688,3.0,1.0,1.0,1.0,1.0,1.0])       |(57,[0,1,2,3,5,20,21,22,23,24,25,26,27,29,32,33,34,35,36,37,42,43,46,53,55],[1.7457348766523324,3.9998883219282146,2.9339761037783267,2.8558844824821215,3.949630523930537,1.156138396078696,2.4174070780670025,0.5721251365934972,0.8763750966410521,0.7983246090335354,0.5669612460158255,1.0387847577703773,0.24397041991672758,2.3292588457469865,6.8873454756770185,2.308333470271175,1.7321734061354639,0.5210284489586479,4.75464167117514,1.1800459796728746,2.1477191327622345,2.1698837004485556,2.1533826021469338,3.7735216384739885,2.088758638771635]) |\n",
      "|3        |43 |112287.5078125|9097.29296875        |(16,[1],[1.0])   |3                |5              |5.0          |11                 |5                     |3.84                |4                   |281.2799987792969|26.999099731445312      |230               |167.06410217285156 |330.76629638671875     |661.8988037109375 |(4,[2],[1.0])    |0          |0                      |0            |0          |0            |1                  |1        |0               |0           |1            |(7,[1],[1.0])           |(3,[1],[1.0])               |0               |(57,[0,1,2,3,5,20,21,22,23,24,25,26,27,30,32,33,34,35,36,42,43,46,48,55],[3.0,43.0,112287.5078125,9097.29296875,1.0,3.0,5.0,5.0,11.0,5.0,3.84,4.0,281.2799987792969,1.0,26.999099731445312,230.0,167.06410217285156,330.76629638671875,661.8988037109375,1.0,1.0,1.0,1.0,1.0])            |(57,[0,1,2,3,5,20,21,22,23,24,25,26,27,30,32,33,34,35,36,42,43,46,48,55],[1.3093011574892492,3.9998883219282146,2.9339761037783267,2.8558844824821215,3.949630523930537,1.156138396078696,2.4174070780670025,0.5721251365934972,0.7415481586962748,0.7983246090335354,0.5669612460158255,1.0387847577703773,0.24397041991672758,2.4916337436417435,5.273352721364743,2.308333470271175,1.7321734061354639,2.3868924037158306,3.4565834958361585,2.1477191327622345,2.1698837004485556,2.1533826021469338,2.630575606649666,2.088758638771635])                       |\n",
      "|3        |43 |112287.5078125|9097.29296875        |(16,[1],[1.0])   |3                |5              |5.0          |11                 |5                     |3.84                |4                   |281.2799987792969|26.999099731445312      |230               |167.06410217285156 |330.76629638671875     |661.8988037109375 |(4,[2],[1.0])    |0          |0                      |0            |0          |0            |1                  |1        |0               |0           |1            |(7,[1],[1.0])           |(3,[1],[1.0])               |0               |(57,[0,1,2,3,5,20,21,22,23,24,25,26,27,30,32,33,34,35,36,42,43,46,48,55],[3.0,43.0,112287.5078125,9097.29296875,1.0,3.0,5.0,5.0,11.0,5.0,3.84,4.0,281.2799987792969,1.0,26.999099731445312,230.0,167.06410217285156,330.76629638671875,661.8988037109375,1.0,1.0,1.0,1.0,1.0])            |(57,[0,1,2,3,5,20,21,22,23,24,25,26,27,30,32,33,34,35,36,42,43,46,48,55],[1.3093011574892492,3.9998883219282146,2.9339761037783267,2.8558844824821215,3.949630523930537,1.156138396078696,2.4174070780670025,0.5721251365934972,0.7415481586962748,0.7983246090335354,0.5669612460158255,1.0387847577703773,0.24397041991672758,2.4916337436417435,5.273352721364743,2.308333470271175,1.7321734061354639,2.3868924037158306,3.4565834958361585,2.1477191327622345,2.1698837004485556,2.1533826021469338,2.630575606649666,2.088758638771635])                       |\n",
      "|5        |43 |112287.5078125|9097.29296875        |(16,[1],[1.0])   |3                |5              |5.0          |11                 |5                     |3.84                |4                   |281.2799987792969|28.681100845336914      |231               |167.06410217285156 |375.8684997558594      |616.7965698242188 |(4,[2],[1.0])    |3          |0                      |0            |0          |0            |1                  |1        |0               |0           |1            |(7,[1],[1.0])           |(3,[1],[1.0])               |1               |(57,[0,1,2,3,5,20,21,22,23,24,25,26,27,30,32,33,34,35,36,37,42,43,46,48,55],[5.0,43.0,112287.5078125,9097.29296875,1.0,3.0,5.0,5.0,11.0,5.0,3.84,4.0,281.2799987792969,1.0,28.681100845336914,231.0,167.06410217285156,375.8684997558594,616.7965698242188,3.0,1.0,1.0,1.0,1.0,1.0])      |(57,[0,1,2,3,5,20,21,22,23,24,25,26,27,30,32,33,34,35,36,37,42,43,46,48,55],[2.1821685958154156,3.9998883219282146,2.9339761037783267,2.8558844824821215,3.949630523930537,1.156138396078696,2.4174070780670025,0.5721251365934972,0.7415481586962748,0.7983246090335354,0.5669612460158255,1.0387847577703773,0.24397041991672758,2.4916337436417435,5.601874236508018,2.3183697027506147,1.7321734061354639,2.712361194788738,3.221049549552946,1.1800459796728746,2.1477191327622345,2.1698837004485556,2.1533826021469338,2.630575606649666,2.088758638771635])  |\n",
      "|5        |43 |112287.5078125|9097.29296875        |(16,[1],[1.0])   |3                |5              |5.0          |11                 |5                     |3.84                |4                   |281.2799987792969|28.681100845336914      |231               |167.06410217285156 |375.8684997558594      |616.7965698242188 |(4,[2],[1.0])    |3          |0                      |0            |0          |0            |1                  |1        |0               |0           |1            |(7,[1],[1.0])           |(3,[1],[1.0])               |1               |(57,[0,1,2,3,5,20,21,22,23,24,25,26,27,30,32,33,34,35,36,37,42,43,46,48,55],[5.0,43.0,112287.5078125,9097.29296875,1.0,3.0,5.0,5.0,11.0,5.0,3.84,4.0,281.2799987792969,1.0,28.681100845336914,231.0,167.06410217285156,375.8684997558594,616.7965698242188,3.0,1.0,1.0,1.0,1.0,1.0])      |(57,[0,1,2,3,5,20,21,22,23,24,25,26,27,30,32,33,34,35,36,37,42,43,46,48,55],[2.1821685958154156,3.9998883219282146,2.9339761037783267,2.8558844824821215,3.949630523930537,1.156138396078696,2.4174070780670025,0.5721251365934972,0.7415481586962748,0.7983246090335354,0.5669612460158255,1.0387847577703773,0.24397041991672758,2.4916337436417435,5.601874236508018,2.3183697027506147,1.7321734061354639,2.712361194788738,3.221049549552946,1.1800459796728746,2.1477191327622345,2.1698837004485556,2.1533826021469338,2.630575606649666,2.088758638771635])  |\n",
      "|2        |43 |112287.5078125|9097.29296875        |(16,[1],[1.0])   |3                |5              |5.0          |10                 |5                     |3.84                |4                   |281.2799987792969|34.52840042114258       |228               |167.06410217285156 |512.58837890625        |500.0766906738281 |(4,[2],[1.0])    |3          |0                      |0            |0          |0            |1                  |1        |0               |0           |1            |(7,[5],[1.0])           |(3,[1],[1.0])               |0               |(57,[0,1,2,3,5,20,21,22,23,24,25,26,27,30,32,33,34,35,36,37,42,43,46,52,55],[2.0,43.0,112287.5078125,9097.29296875,1.0,3.0,5.0,5.0,10.0,5.0,3.84,4.0,281.2799987792969,1.0,34.52840042114258,228.0,167.06410217285156,512.58837890625,500.0766906738281,3.0,1.0,1.0,1.0,1.0,1.0])         |(57,[0,1,2,3,5,20,21,22,23,24,25,26,27,30,32,33,34,35,36,37,42,43,46,52,55],[0.8728674383261662,3.9998883219282146,2.9339761037783267,2.8558844824821215,3.949630523930537,1.156138396078696,2.4174070780670025,0.5721251365934972,0.6741346897238862,0.7983246090335354,0.5669612460158255,1.0387847577703773,0.24397041991672758,2.4916337436417435,6.743944655055972,2.2882610053122954,1.7321734061354639,3.698966071240464,2.6115122522421244,1.1800459796728746,2.1477191327622345,2.1698837004485556,2.1533826021469338,3.2715265309554704,2.088758638771635])|\n",
      "|7        |44 |112287.5078125|9097.29296875        |(16,[1],[1.0])   |3                |5              |5.0          |11                 |5                     |6.84                |5                   |281.2799987792969|37.05970001220703       |233               |167.06410217285156 |280.2784118652344      |742.3867797851562 |(4,[1],[1.0])    |3          |0                      |0            |0          |0            |1                  |1        |0               |0           |1            |(7,[2],[1.0])           |(3,[1],[1.0])               |0               |(57,[0,1,2,3,5,20,21,22,23,24,25,26,27,29,32,33,34,35,36,37,42,43,46,49,55],[7.0,44.0,112287.5078125,9097.29296875,1.0,3.0,5.0,5.0,11.0,5.0,6.84,5.0,281.2799987792969,1.0,37.05970001220703,233.0,167.06410217285156,280.2784118652344,742.3867797851562,3.0,1.0,1.0,1.0,1.0,1.0])       |(57,[0,1,2,3,5,20,21,22,23,24,25,26,27,29,32,33,34,35,36,37,42,43,46,49,55],[3.055036034141582,4.092908980577708,2.9339761037783267,2.8558844824821215,3.949630523930537,1.156138396078696,2.4174070780670025,0.5721251365934972,0.7415481586962748,0.7983246090335354,1.0098997194656893,1.2984809472129717,0.24397041991672758,2.3292588457469865,7.238347643300152,2.338442167709495,1.7321734061354639,2.0225591891155177,3.8769096969889567,1.1800459796728746,2.1477191327622345,2.1698837004485556,2.1533826021469338,2.8900380746618426,2.088758638771635])  |\n",
      "|6        |43 |112287.5078125|9097.29296875        |(16,[1],[1.0])   |3                |5              |5.0          |11                 |4                     |3.84                |4                   |281.2799987792969|37.351200103759766      |232               |167.06410217285156 |299.0474417550223      |697.9034031459263 |(4,[1],[1.0])    |3          |0                      |0            |0          |0            |1                  |1        |0               |0           |1            |(7,[0],[1.0])           |(3,[1],[1.0])               |0               |(57,[0,1,2,3,5,20,21,22,23,24,25,26,27,29,32,33,34,35,36,37,42,43,46,47,55],[6.0,43.0,112287.5078125,9097.29296875,1.0,3.0,5.0,5.0,11.0,4.0,3.84,4.0,281.2799987792969,1.0,37.351200103759766,232.0,167.06410217285156,299.0474417550223,697.9034031459263,3.0,1.0,1.0,1.0,1.0,1.0])      |(57,[0,1,2,3,5,20,21,22,23,24,25,26,27,29,32,33,34,35,36,37,42,43,46,47,55],[2.6186023149784985,3.9998883219282146,2.9339761037783267,2.8558844824821215,3.949630523930537,1.156138396078696,2.4174070780670025,0.5721251365934972,0.7415481586962748,0.6386596872268283,0.5669612460158255,1.0387847577703773,0.24397041991672758,2.3292588457469865,7.295282238022114,2.328405935230055,1.7321734061354639,2.158001207720316,3.64460756157465,1.1800459796728746,2.1477191327622345,2.1698837004485556,2.1533826021469338,2.2923828312284638,2.088758638771635])   |\n",
      "|7        |44 |112287.5078125|9097.29296875        |(16,[1],[1.0])   |3                |5              |5.0          |11                 |5                     |6.84                |5                   |281.2799987792969|37.05970001220703       |233               |167.06410217285156 |280.2784118652344      |742.3867797851562 |(4,[1],[1.0])    |3          |0                      |0            |0          |0            |1                  |1        |0               |0           |1            |(7,[2],[1.0])           |(3,[1],[1.0])               |0               |(57,[0,1,2,3,5,20,21,22,23,24,25,26,27,29,32,33,34,35,36,37,42,43,46,49,55],[7.0,44.0,112287.5078125,9097.29296875,1.0,3.0,5.0,5.0,11.0,5.0,6.84,5.0,281.2799987792969,1.0,37.05970001220703,233.0,167.06410217285156,280.2784118652344,742.3867797851562,3.0,1.0,1.0,1.0,1.0,1.0])       |(57,[0,1,2,3,5,20,21,22,23,24,25,26,27,29,32,33,34,35,36,37,42,43,46,49,55],[3.055036034141582,4.092908980577708,2.9339761037783267,2.8558844824821215,3.949630523930537,1.156138396078696,2.4174070780670025,0.5721251365934972,0.7415481586962748,0.7983246090335354,1.0098997194656893,1.2984809472129717,0.24397041991672758,2.3292588457469865,7.238347643300152,2.338442167709495,1.7321734061354639,2.0225591891155177,3.8769096969889567,1.1800459796728746,2.1477191327622345,2.1698837004485556,2.1533826021469338,2.8900380746618426,2.088758638771635])  |\n",
      "|8        |44 |112287.5078125|9097.29296875        |(16,[1],[1.0])   |3                |5              |5.0          |11                 |6                     |4.840000000000002   |5                   |281.2799987792969|39.52840042114258       |234               |167.06410217285156 |177.94639587402344     |804.7186889648438 |(4,[2],[1.0])    |0          |0                      |0            |0          |0            |1                  |1        |0               |0           |1            |(7,[6],[1.0])           |(3,[1],[1.0])               |0               |(57,[0,1,2,3,5,20,21,22,23,24,25,26,27,30,32,33,34,35,36,42,43,46,53,55],[8.0,44.0,112287.5078125,9097.29296875,1.0,3.0,5.0,5.0,11.0,6.0,4.840000000000002,5.0,281.2799987792969,1.0,39.52840042114258,234.0,167.06410217285156,177.94639587402344,804.7186889648438,1.0,1.0,1.0,1.0,1.0])|(57,[0,1,2,3,5,20,21,22,23,24,25,26,27,30,32,33,34,35,36,42,43,46,53,55],[3.491469753304665,4.092908980577708,2.9339761037783267,2.8558844824821215,3.949630523930537,1.156138396078696,2.4174070780670025,0.5721251365934972,0.7415481586962748,0.9579895308402424,0.714607403832447,1.2984809472129717,0.24397041991672758,2.4916337436417435,7.72052401766764,2.3484784001889345,1.7321734061354639,1.2841057423931996,4.20242085870509,2.1477191327622345,2.1698837004485556,2.1533826021469338,3.7735216384739885,2.088758638771635])                           |\n",
      "|6        |43 |112287.5078125|9097.29296875        |(16,[1],[1.0])   |3                |5              |5.0          |11                 |4                     |3.84                |4                   |281.2799987792969|37.351200103759766      |232               |167.06410217285156 |299.0474417550223      |697.9034031459263 |(4,[1],[1.0])    |3          |0                      |0            |0          |0            |1                  |1        |0               |0           |1            |(7,[0],[1.0])           |(3,[1],[1.0])               |0               |(57,[0,1,2,3,5,20,21,22,23,24,25,26,27,29,32,33,34,35,36,37,42,43,46,47,55],[6.0,43.0,112287.5078125,9097.29296875,1.0,3.0,5.0,5.0,11.0,4.0,3.84,4.0,281.2799987792969,1.0,37.351200103759766,232.0,167.06410217285156,299.0474417550223,697.9034031459263,3.0,1.0,1.0,1.0,1.0,1.0])      |(57,[0,1,2,3,5,20,21,22,23,24,25,26,27,29,32,33,34,35,36,37,42,43,46,47,55],[2.6186023149784985,3.9998883219282146,2.9339761037783267,2.8558844824821215,3.949630523930537,1.156138396078696,2.4174070780670025,0.5721251365934972,0.7415481586962748,0.6386596872268283,0.5669612460158255,1.0387847577703773,0.24397041991672758,2.3292588457469865,7.295282238022114,2.328405935230055,1.7321734061354639,2.158001207720316,3.64460756157465,1.1800459796728746,2.1477191327622345,2.1698837004485556,2.1533826021469338,2.2923828312284638,2.088758638771635])   |\n",
      "|8        |44 |112287.5078125|9097.29296875        |(16,[1],[1.0])   |3                |5              |5.0          |11                 |6                     |4.840000000000002   |5                   |281.2799987792969|39.52840042114258       |234               |167.06410217285156 |177.94639587402344     |804.7186889648438 |(4,[2],[1.0])    |0          |0                      |0            |0          |0            |1                  |1        |0               |0           |1            |(7,[6],[1.0])           |(3,[1],[1.0])               |0               |(57,[0,1,2,3,5,20,21,22,23,24,25,26,27,30,32,33,34,35,36,42,43,46,53,55],[8.0,44.0,112287.5078125,9097.29296875,1.0,3.0,5.0,5.0,11.0,6.0,4.840000000000002,5.0,281.2799987792969,1.0,39.52840042114258,234.0,167.06410217285156,177.94639587402344,804.7186889648438,1.0,1.0,1.0,1.0,1.0])|(57,[0,1,2,3,5,20,21,22,23,24,25,26,27,30,32,33,34,35,36,42,43,46,53,55],[3.491469753304665,4.092908980577708,2.9339761037783267,2.8558844824821215,3.949630523930537,1.156138396078696,2.4174070780670025,0.5721251365934972,0.7415481586962748,0.9579895308402424,0.714607403832447,1.2984809472129717,0.24397041991672758,2.4916337436417435,7.72052401766764,2.3484784001889345,1.7321734061354639,1.2841057423931996,4.20242085870509,2.1477191327622345,2.1698837004485556,2.1533826021469338,3.7735216384739885,2.088758638771635])                           |\n",
      "|2        |43 |112287.5078125|9097.29296875        |(16,[1],[1.0])   |3                |5              |5.0          |10                 |5                     |3.84                |4                   |281.2799987792969|34.52840042114258       |228               |167.06410217285156 |512.58837890625        |500.0766906738281 |(4,[2],[1.0])    |3          |0                      |0            |0          |0            |1                  |1        |0               |0           |1            |(7,[5],[1.0])           |(3,[1],[1.0])               |0               |(57,[0,1,2,3,5,20,21,22,23,24,25,26,27,30,32,33,34,35,36,37,42,43,46,52,55],[2.0,43.0,112287.5078125,9097.29296875,1.0,3.0,5.0,5.0,10.0,5.0,3.84,4.0,281.2799987792969,1.0,34.52840042114258,228.0,167.06410217285156,512.58837890625,500.0766906738281,3.0,1.0,1.0,1.0,1.0,1.0])         |(57,[0,1,2,3,5,20,21,22,23,24,25,26,27,30,32,33,34,35,36,37,42,43,46,52,55],[0.8728674383261662,3.9998883219282146,2.9339761037783267,2.8558844824821215,3.949630523930537,1.156138396078696,2.4174070780670025,0.5721251365934972,0.6741346897238862,0.7983246090335354,0.5669612460158255,1.0387847577703773,0.24397041991672758,2.4916337436417435,6.743944655055972,2.2882610053122954,1.7321734061354639,3.698966071240464,2.6115122522421244,1.1800459796728746,2.1477191327622345,2.1698837004485556,2.1533826021469338,3.2715265309554704,2.088758638771635])|\n",
      "|6        |52 |27759.3203125 |2419.276611328125    |(16,[7],[1.0])   |8                |6              |9.0          |10                 |10                    |7.35                |5                   |245.3000030517578|25.00589942932129       |291               |15.548700332641602 |122.61074011666435     |190.78590393066406|(4,[0],[1.0])    |1          |0                      |0            |1          |0            |0                  |0        |0               |0           |0            |(7,[0],[1.0])           |(3,[1],[1.0])               |1               |(57,[0,1,2,3,11,20,21,22,23,24,25,26,27,28,32,33,34,35,36,37,40,47,55],[6.0,52.0,27759.3203125,2419.276611328125,1.0,8.0,6.0,9.0,10.0,10.0,7.35,5.0,245.3000030517578,1.0,25.00589942932129,291.0,15.548700332641602,122.61074011666435,190.78590393066406,1.0,1.0,1.0,1.0])              |(57,[0,1,2,3,11,20,21,22,23,24,25,26,27,28,32,33,34,35,36,37,40,47,55],[2.6186023149784985,4.837074249773655,0.7253271894679696,0.759475874510972,4.005108017555402,3.083035722876523,2.9008884936804034,1.0298252458682948,0.6741346897238862,1.5966492180670708,1.085199259952166,1.2984809472129717,0.21276288754917602,2.077642600859859,4.884049065243611,2.9205436515170082,0.16121383867556036,0.8847897968911475,0.9963266334182965,0.39334865989095824,2.1433954571975837,2.2923828312284638,2.088758638771635])                                            |\n",
      "|7        |52 |27759.3203125 |2419.276611328125    |(16,[7],[1.0])   |8                |6              |9.0          |14                 |10                    |11.35               |5                   |245.3000030517578|29.12660026550293       |292               |15.548700332641602 |61.83729934692383      |404.54168701171875|(4,[0],[1.0])    |1          |0                      |0            |1          |0            |0                  |0        |0               |0           |0            |(7,[3],[1.0])           |(3,[1],[1.0])               |1               |(57,[0,1,2,3,11,20,21,22,23,24,25,26,27,28,32,33,34,35,36,37,40,50,55],[7.0,52.0,27759.3203125,2419.276611328125,1.0,8.0,6.0,9.0,14.0,10.0,11.35,5.0,245.3000030517578,1.0,29.12660026550293,292.0,15.548700332641602,61.83729934692383,404.54168701171875,1.0,1.0,1.0,1.0])              |(57,[0,1,2,3,11,20,21,22,23,24,25,26,27,28,32,33,34,35,36,37,40,50,55],[3.055036034141582,4.837074249773655,0.7253271894679696,0.759475874510972,4.005108017555402,3.083035722876523,2.9008884936804034,1.0298252458682948,0.9437885656134406,1.5966492180670708,1.6757838912186511,1.2984809472129717,0.21276288754917602,2.077642600859859,5.688887344465937,2.9305798839964483,0.16121383867556036,0.44623343336319715,2.1126071098220316,0.39334865989095824,2.1433954571975837,2.9099734714561585,2.088758638771635])                                           |\n",
      "|5        |52 |27759.3203125 |2419.276611328125    |(16,[7],[1.0])   |8                |6              |9.0          |14                 |9                     |11.35               |5                   |245.3000030517578|36.17639923095703       |290               |15.548700332641602 |59.8218994140625       |406.5570983886719 |(4,[0],[1.0])    |1          |0                      |0            |1          |0            |0                  |0        |0               |0           |0            |(7,[3],[1.0])           |(3,[1],[1.0])               |1               |(57,[0,1,2,3,11,20,21,22,23,24,25,26,27,28,32,33,34,35,36,37,40,50,55],[5.0,52.0,27759.3203125,2419.276611328125,1.0,8.0,6.0,9.0,14.0,9.0,11.35,5.0,245.3000030517578,1.0,36.17639923095703,290.0,15.548700332641602,59.8218994140625,406.5570983886719,1.0,1.0,1.0,1.0])                 |(57,[0,1,2,3,11,20,21,22,23,24,25,26,27,28,32,33,34,35,36,37,40,50,55],[2.1821685958154156,4.837074249773655,0.7253271894679696,0.759475874510972,4.005108017555402,3.083035722876523,2.9008884936804034,1.0298252458682948,0.9437885656134406,1.4369842962603636,1.6757838912186511,1.2984809472129717,0.21276288754917602,2.077642600859859,7.06582498051065,2.9105074190375686,0.16121383867556036,0.43168980288226144,2.123132038502729,0.39334865989095824,2.1433954571975837,2.9099734714561585,2.088758638771635])                                            |\n",
      "|4        |52 |27759.3203125 |2419.276611328125    |(16,[7],[1.0])   |8                |6              |9.0          |14                 |10                    |11.35               |0                   |245.3000030517578|23.4601993560791        |289               |15.548700332641602 |52.76179885864258      |423.6171875       |(4,[0],[1.0])    |1          |0                      |0            |1          |0            |0                  |0        |0               |0           |0            |(7,[1],[1.0])           |(3,[1],[1.0])               |1               |(57,[0,1,2,3,11,20,21,22,23,24,25,27,28,32,33,34,35,36,37,40,48,55],[4.0,52.0,27759.3203125,2419.276611328125,1.0,8.0,6.0,9.0,14.0,10.0,11.35,245.3000030517578,1.0,23.4601993560791,289.0,15.548700332641602,52.76179885864258,423.6171875,1.0,1.0,1.0,1.0])                             |(57,[0,1,2,3,11,20,21,22,23,24,25,27,28,32,33,34,35,36,37,40,48,55],[1.7457348766523324,4.837074249773655,0.7253271894679696,0.759475874510972,4.005108017555402,3.083035722876523,2.9008884936804034,1.0298252458682948,0.9437885656134406,1.5966492180670708,1.6757838912186511,0.21276288754917602,2.077642600859859,4.582149306780478,2.9004711865581285,0.16121383867556036,0.38074234974302323,2.21222363699044,0.39334865989095824,2.1433954571975837,2.630575606649666,2.088758638771635])                                                                   |\n",
      "+---------+---+--------------+---------------------+-----------------+-----------------+---------------+-------------+-------------------+----------------------+--------------------+--------------------+-----------------+------------------------+------------------+-------------------+-----------------------+------------------+-----------------+-----------+-----------------------+-------------+-----------+-------------+-------------------+---------+----------------+------------+-------------+------------------------+----------------------------+----------------+------------------------------------------------------------------------------------------------------------------------------------------------------------------------------------------------------------------------------------------------------------------------------------------+---------------------------------------------------------------------------------------------------------------------------------------------------------------------------------------------------------------------------------------------------------------------------------------------------------------------------------------------------------------------------------------------------------------------------------------------------------------------------------------------------------------------------------------------------------------------+\n",
      "only showing top 20 rows\n",
      "\n"
     ]
    }
   ],
   "source": [
    "transformed_df.show(truncate=False)"
   ]
  },
  {
   "cell_type": "code",
   "execution_count": 135,
   "metadata": {},
   "outputs": [
    {
     "name": "stdout",
     "output_type": "stream",
     "text": [
      "+------------------------------------------------------------------------------------------------------------------------------------------------------------------------------------------------------------------------------------------------------------------------------------------+----------------+\n",
      "|features                                                                                                                                                                                                                                                                                  |Credit_score_num|\n",
      "+------------------------------------------------------------------------------------------------------------------------------------------------------------------------------------------------------------------------------------------------------------------------------------------+----------------+\n",
      "|(57,[0,1,2,3,5,20,21,22,23,24,25,26,27,29,32,33,34,35,36,37,42,43,46,48,55],[1.0,43.0,112287.5078125,9097.29296875,1.0,3.0,5.0,5.0,11.0,5.0,7.84,4.0,281.2799987792969,1.0,37.2849006652832,227.0,167.06410217285156,343.6820068359375,648.9832153320312,3.0,1.0,1.0,1.0,1.0,1.0])        |1               |\n",
      "|(57,[0,1,2,3,5,20,21,22,23,24,25,26,27,29,32,33,34,35,36,37,42,43,46,53,55],[4.0,43.0,112287.5078125,9097.29296875,1.0,3.0,5.0,5.0,13.0,5.0,3.84,4.0,281.2799987792969,1.0,35.26259994506836,230.0,167.06410217285156,72.20210266113281,910.4630737304688,3.0,1.0,1.0,1.0,1.0,1.0])       |0               |\n",
      "|(57,[0,1,2,3,5,20,21,22,23,24,25,26,27,29,32,33,34,35,36,37,42,43,46,48,55],[1.0,43.0,112287.5078125,9097.29296875,1.0,3.0,5.0,5.0,11.0,5.0,7.84,4.0,281.2799987792969,1.0,37.2849006652832,227.0,167.06410217285156,343.6820068359375,648.9832153320312,3.0,1.0,1.0,1.0,1.0,1.0])        |1               |\n",
      "|(57,[0,1,2,3,5,20,21,22,23,24,25,26,27,29,32,33,34,35,36,37,42,43,46,53,55],[4.0,43.0,112287.5078125,9097.29296875,1.0,3.0,5.0,5.0,13.0,5.0,3.84,4.0,281.2799987792969,1.0,35.26259994506836,230.0,167.06410217285156,72.20210266113281,910.4630737304688,3.0,1.0,1.0,1.0,1.0,1.0])       |0               |\n",
      "|(57,[0,1,2,3,5,20,21,22,23,24,25,26,27,30,32,33,34,35,36,42,43,46,48,55],[3.0,43.0,112287.5078125,9097.29296875,1.0,3.0,5.0,5.0,11.0,5.0,3.84,4.0,281.2799987792969,1.0,26.999099731445312,230.0,167.06410217285156,330.76629638671875,661.8988037109375,1.0,1.0,1.0,1.0,1.0])            |0               |\n",
      "|(57,[0,1,2,3,5,20,21,22,23,24,25,26,27,30,32,33,34,35,36,42,43,46,48,55],[3.0,43.0,112287.5078125,9097.29296875,1.0,3.0,5.0,5.0,11.0,5.0,3.84,4.0,281.2799987792969,1.0,26.999099731445312,230.0,167.06410217285156,330.76629638671875,661.8988037109375,1.0,1.0,1.0,1.0,1.0])            |0               |\n",
      "|(57,[0,1,2,3,5,20,21,22,23,24,25,26,27,30,32,33,34,35,36,37,42,43,46,48,55],[5.0,43.0,112287.5078125,9097.29296875,1.0,3.0,5.0,5.0,11.0,5.0,3.84,4.0,281.2799987792969,1.0,28.681100845336914,231.0,167.06410217285156,375.8684997558594,616.7965698242188,3.0,1.0,1.0,1.0,1.0,1.0])      |1               |\n",
      "|(57,[0,1,2,3,5,20,21,22,23,24,25,26,27,30,32,33,34,35,36,37,42,43,46,48,55],[5.0,43.0,112287.5078125,9097.29296875,1.0,3.0,5.0,5.0,11.0,5.0,3.84,4.0,281.2799987792969,1.0,28.681100845336914,231.0,167.06410217285156,375.8684997558594,616.7965698242188,3.0,1.0,1.0,1.0,1.0,1.0])      |1               |\n",
      "|(57,[0,1,2,3,5,20,21,22,23,24,25,26,27,30,32,33,34,35,36,37,42,43,46,52,55],[2.0,43.0,112287.5078125,9097.29296875,1.0,3.0,5.0,5.0,10.0,5.0,3.84,4.0,281.2799987792969,1.0,34.52840042114258,228.0,167.06410217285156,512.58837890625,500.0766906738281,3.0,1.0,1.0,1.0,1.0,1.0])         |0               |\n",
      "|(57,[0,1,2,3,5,20,21,22,23,24,25,26,27,29,32,33,34,35,36,37,42,43,46,49,55],[7.0,44.0,112287.5078125,9097.29296875,1.0,3.0,5.0,5.0,11.0,5.0,6.84,5.0,281.2799987792969,1.0,37.05970001220703,233.0,167.06410217285156,280.2784118652344,742.3867797851562,3.0,1.0,1.0,1.0,1.0,1.0])       |0               |\n",
      "|(57,[0,1,2,3,5,20,21,22,23,24,25,26,27,29,32,33,34,35,36,37,42,43,46,47,55],[6.0,43.0,112287.5078125,9097.29296875,1.0,3.0,5.0,5.0,11.0,4.0,3.84,4.0,281.2799987792969,1.0,37.351200103759766,232.0,167.06410217285156,299.0474417550223,697.9034031459263,3.0,1.0,1.0,1.0,1.0,1.0])      |0               |\n",
      "|(57,[0,1,2,3,5,20,21,22,23,24,25,26,27,29,32,33,34,35,36,37,42,43,46,49,55],[7.0,44.0,112287.5078125,9097.29296875,1.0,3.0,5.0,5.0,11.0,5.0,6.84,5.0,281.2799987792969,1.0,37.05970001220703,233.0,167.06410217285156,280.2784118652344,742.3867797851562,3.0,1.0,1.0,1.0,1.0,1.0])       |0               |\n",
      "|(57,[0,1,2,3,5,20,21,22,23,24,25,26,27,30,32,33,34,35,36,42,43,46,53,55],[8.0,44.0,112287.5078125,9097.29296875,1.0,3.0,5.0,5.0,11.0,6.0,4.840000000000002,5.0,281.2799987792969,1.0,39.52840042114258,234.0,167.06410217285156,177.94639587402344,804.7186889648438,1.0,1.0,1.0,1.0,1.0])|0               |\n",
      "|(57,[0,1,2,3,5,20,21,22,23,24,25,26,27,29,32,33,34,35,36,37,42,43,46,47,55],[6.0,43.0,112287.5078125,9097.29296875,1.0,3.0,5.0,5.0,11.0,4.0,3.84,4.0,281.2799987792969,1.0,37.351200103759766,232.0,167.06410217285156,299.0474417550223,697.9034031459263,3.0,1.0,1.0,1.0,1.0,1.0])      |0               |\n",
      "|(57,[0,1,2,3,5,20,21,22,23,24,25,26,27,30,32,33,34,35,36,42,43,46,53,55],[8.0,44.0,112287.5078125,9097.29296875,1.0,3.0,5.0,5.0,11.0,6.0,4.840000000000002,5.0,281.2799987792969,1.0,39.52840042114258,234.0,167.06410217285156,177.94639587402344,804.7186889648438,1.0,1.0,1.0,1.0,1.0])|0               |\n",
      "|(57,[0,1,2,3,5,20,21,22,23,24,25,26,27,30,32,33,34,35,36,37,42,43,46,52,55],[2.0,43.0,112287.5078125,9097.29296875,1.0,3.0,5.0,5.0,10.0,5.0,3.84,4.0,281.2799987792969,1.0,34.52840042114258,228.0,167.06410217285156,512.58837890625,500.0766906738281,3.0,1.0,1.0,1.0,1.0,1.0])         |0               |\n",
      "|(57,[0,1,2,3,11,20,21,22,23,24,25,26,27,28,32,33,34,35,36,37,40,47,55],[6.0,52.0,27759.3203125,2419.276611328125,1.0,8.0,6.0,9.0,10.0,10.0,7.35,5.0,245.3000030517578,1.0,25.00589942932129,291.0,15.548700332641602,122.61074011666435,190.78590393066406,1.0,1.0,1.0,1.0])              |1               |\n",
      "|(57,[0,1,2,3,11,20,21,22,23,24,25,26,27,28,32,33,34,35,36,37,40,50,55],[7.0,52.0,27759.3203125,2419.276611328125,1.0,8.0,6.0,9.0,14.0,10.0,11.35,5.0,245.3000030517578,1.0,29.12660026550293,292.0,15.548700332641602,61.83729934692383,404.54168701171875,1.0,1.0,1.0,1.0])              |1               |\n",
      "|(57,[0,1,2,3,11,20,21,22,23,24,25,26,27,28,32,33,34,35,36,37,40,50,55],[5.0,52.0,27759.3203125,2419.276611328125,1.0,8.0,6.0,9.0,14.0,9.0,11.35,5.0,245.3000030517578,1.0,36.17639923095703,290.0,15.548700332641602,59.8218994140625,406.5570983886719,1.0,1.0,1.0,1.0])                 |1               |\n",
      "|(57,[0,1,2,3,11,20,21,22,23,24,25,27,28,32,33,34,35,36,37,40,48,55],[4.0,52.0,27759.3203125,2419.276611328125,1.0,8.0,6.0,9.0,14.0,10.0,11.35,245.3000030517578,1.0,23.4601993560791,289.0,15.548700332641602,52.76179885864258,423.6171875,1.0,1.0,1.0,1.0])                             |1               |\n",
      "+------------------------------------------------------------------------------------------------------------------------------------------------------------------------------------------------------------------------------------------------------------------------------------------+----------------+\n",
      "only showing top 20 rows\n",
      "\n"
     ]
    }
   ],
   "source": [
    "transformed_df.select(\"features\", \"Credit_score_num\").show(truncate=False)"
   ]
  },
  {
   "cell_type": "code",
   "execution_count": 136,
   "metadata": {},
   "outputs": [],
   "source": [
    "spark.stop()"
   ]
  }
 ],
 "metadata": {
  "kernelspec": {
   "display_name": "Python 3 (ipykernel)",
   "language": "python",
   "name": "python3"
  },
  "language_info": {
   "codemirror_mode": {
    "name": "ipython",
    "version": 3
   },
   "file_extension": ".py",
   "mimetype": "text/x-python",
   "name": "python",
   "nbconvert_exporter": "python",
   "pygments_lexer": "ipython3",
   "version": "3.11.7"
  }
 },
 "nbformat": 4,
 "nbformat_minor": 2
}
